{
 "cells": [
  {
   "cell_type": "markdown",
   "metadata": {
    "nbpresent": {
     "id": "95b6bb9b-b79e-4ad5-8fa9-5de465ffbe66"
    }
   },
   "source": [
    "# Uso de JupyterLab y Jupyter notebook"
   ]
  },
  {
   "cell_type": "markdown",
   "metadata": {
    "nbpresent": {
     "id": "8c25ac6e-3312-4d59-a34a-9fe918f5aa57"
    }
   },
   "source": [
    "El **Jupyter notebook** te permite escribir cuadernos similares a los de herramientas como Mathematica, SageMath, etc. La ventaja de usar esto es que puedes incluir texto, código y gráficos en el mismo documento. Esto lo hace ideal, por ejemplo, para documentar proyectos con código, anotaciones y visualizaciones, y compartirlo con otras personas. La forma típica de ejecutar un cuaderno Jupyter es usando **JupyterLab**, que proporciona una interfaz para gestionar archivos, terminales y cuadernos Jupyter."
   ]
  },
  {
   "cell_type": "markdown",
   "metadata": {
    "nbpresent": {
     "id": "b3d2f6f7-c558-4fff-9a25-91c328d8a400"
    }
   },
   "source": [
    "## Pasos iniciales"
   ]
  },
  {
   "cell_type": "markdown",
   "metadata": {
    "nbpresent": {
     "id": "7cc8e3c4-be1d-44f7-99f7-773347ede0bd"
    }
   },
   "source": [
    "La forma habitual de iniciar el cuaderno de IPython es:\n",
    "\n",
    "    jupyter lab\n",
    "\n",
    "Una vez que hagas esto, tu navegador web debería abrirse y mostrar una página con una lista de carpetas.\n"
   ]
  },
  {
   "cell_type": "markdown",
   "metadata": {
    "nbpresent": {
     "id": "120f3258-88a8-4bdb-908f-e94d98600e8e"
    }
   },
   "source": [
    "Haz clic en **Python 3 (ipykernel)** en el panel derecho; esto abrirá un nuevo cuaderno llamado `Untitled.ipynb`. Puedes cambiar el nombre del documento haciendo clic derecho sobre el nombre **Untitled** en la parte superior y seleccionando `Rename Notebook...`. Asegúrate de guardar el documento después.\n",
    "\n",
    "A primera vista, un cuaderno parece una aplicación bastante común: tiene una barra de menú (File, Edit, View, etc.) y una barra de herramientas con íconos. Debajo de esto, verás una celda vacía, en la que puedes escribir cualquier código en Python. Puedes escribir varias líneas de código y, una vez que esté listo para ejecutarse, puedes presionar **shift-enter** y el código se ejecutará:"
   ]
  },
  {
   "cell_type": "code",
   "execution_count": null,
   "metadata": {
    "nbpresent": {
     "id": "fbf2d2f2-eeb7-4509-acdc-15e4a537dd47"
    }
   },
   "outputs": [],
   "source": [
    "a = 1\n",
    "print(a)"
   ]
  },
  {
   "cell_type": "markdown",
   "metadata": {
    "nbpresent": {
     "id": "5c154836-de9a-4b14-af1c-b545929b0d2f"
    }
   },
   "source": [
    "Luego puedes hacer clic en esa celda, cambiar el código en Python y presionar **shift-enter** nuevamente para volver a ejecutarlo. Una vez que hayas ejecutado una celda, aparecerá una nueva celda debajo. Puedes ingresar más código y presionar shift-enter para ejecutarlo nuevamente."
   ]
  },
  {
   "cell_type": "markdown",
   "metadata": {
    "nbpresent": {
     "id": "ded46a09-247b-4210-86de-10c18a434dd4"
    }
   },
   "source": [
    "## Visualización de gráficos"
   ]
  },
  {
   "cell_type": "markdown",
   "metadata": {},
   "source": [
    "El paquete de gráficos que utilizaremos durante el taller de hoy se llama `matplotlib`. Para usarlo dentro de los cuadernos Jupyter, primero debemos aplicar un comando mágico de `matplotlib` que le indica a dónde debe dirigir las visualizaciones. Cuando se trabaja en cuadernos Jupyter, las dos opciones más comunes son:\n",
    "\n",
    "1. `%matplotlib widget`: genera un gráfico *INTERACTIVO* (por ejemplo, te permite hacer zoom o desplazarte por partes del gráfico usando los controles que aparecen debajo, y descargar la imagen resultante). **NOTA:** para usar la interfaz con widgets necesitas tener instalado el paquete `ipympl`.\n",
    "2. `%matplotlib inline`: genera un gráfico no interactivo que se muestra \"en línea\", justo debajo de la celda una vez que se ejecuta."
   ]
  },
  {
   "cell_type": "code",
   "execution_count": null,
   "metadata": {
    "nbpresent": {
     "id": "c6dfdbcc-d701-49b2-ab03-54cfa38ce867"
    }
   },
   "outputs": [],
   "source": [
    "# Dirige todos los gráficos de matplotlib a una imagen en pantalla no interactiva (en línea)\n",
    "%matplotlib inline"
   ]
  },
  {
   "cell_type": "markdown",
   "metadata": {
    "nbpresent": {
     "id": "1b5dbad8-35d8-4e2a-8877-e10162c1a5ce"
    }
   },
   "source": [
    "Para crear gráficos, ingresa cualquier comando de Matplotlib (los aprenderemos en la sección de visualización del taller) y simplemente presiona shift-enter. Ten en cuenta que todos los comandos para un gráfico deben estar en una sola celda; no puedes dividirlos en varias celdas:"
   ]
  },
  {
   "cell_type": "code",
   "execution_count": null,
   "metadata": {},
   "outputs": [],
   "source": [
    "import matplotlib.pyplot as plt\n",
    "plt.plot([1, 2, 3], [4, 5, 6])\n",
    "plt.xlabel(\"x\")\n",
    "plt.ylabel(\"y\")"
   ]
  },
  {
   "cell_type": "markdown",
   "metadata": {
    "nbpresent": {
     "id": "80fe17d0-fcc2-4126-898a-a1761287dc27"
    }
   },
   "source": [
    "Como antes, siempre puedes volver a la celda, editarla para hacer cambios y volver a generar el gráfico. También puedes cambiar el comando mágico de matplotlib para modificar a dónde se dirige la salida (si cambias el comando mágico, solo afectará a las celdas que ejecutes **después** del cambio).\n",
    "\n",
    "Si deseas guardar el gráfico, asegúrate de incluir `plt.savefig(nombre_archivo)` como el último comando, donde `nombre_archivo` es el nombre del archivo, como por ejemplo `mi_grafico.png`. El sufijo del nombre del archivo determina el formato del archivo."
   ]
  },
  {
   "cell_type": "markdown",
   "metadata": {
    "nbpresent": {
     "id": "9105381c-8a2a-4f6a-aebd-0d2c81e8863a"
    }
   },
   "source": [
    "## Texto"
   ]
  },
  {
   "cell_type": "markdown",
   "metadata": {
    "nbpresent": {
     "id": "7d99ead2-a133-40b4-90d9-53fbfa7f0f93"
    }
   },
   "source": [
    "Para escribir texto (que no sea código) en el cuaderno, haz clic en una celda y selecciona 'Markdown' en el menú desplegable de la barra de herramientas. Markdown es una sintaxis específica para redactar texto. Puedes escribir normalmente y presionar shift-enter para *renderizar* el contenido:\n",
    "\n",
    "    Este es un texto plano\n",
    "\n",
    "Para editarlo, haz doble clic en la celda. También puedes escribir encabezados de sección usando la siguiente sintaxis:\n",
    "\n",
    "    # Este es un título\n",
    "\n",
    "    ## Este es un subtítulo\n",
    "\n",
    "Lo cual se verá así:\n",
    "\n",
    "# Este es un título\n",
    "\n",
    "## Este es un subtítulo\n",
    "\n",
    "Finalmente, si estás familiarizado con LaTeX, puedes escribir ecuaciones usando:\n",
    "\n",
    "    $$E = m c^2$$\n",
    "\n",
    "en una línea separada, o:\n",
    "\n",
    "    La ecuación $p=\\frac{h}{\\lambda}$ es muy importante\n",
    "\n",
    "para incluirla dentro de una oración. Esto se verá así:\n",
    "\n",
    "$$E = m c^2$$\n",
    "\n",
    "La ecuación $p=\\frac{h}{\\lambda}$ es muy importante"
   ]
  },
  {
   "cell_type": "markdown",
   "metadata": {
    "nbpresent": {
     "id": "c932cfdc-66e3-469a-8acc-2265cfdbfb74"
    }
   },
   "source": [
    "## Dividir, eliminar y mover celdas"
   ]
  },
  {
   "cell_type": "markdown",
   "metadata": {
    "nbpresent": {
     "id": "2d24cab1-ee8a-4a05-b62d-178c2ba27cd5"
    }
   },
   "source": [
    "Puedes dividir, eliminar y mover celdas haciendo clic derecho sobre una celda y seleccionando la opción correspondiente. También puedes usar la barra de herramientas en la parte superior del cuaderno, y existen atajos de teclado para estas acciones. Las celdas pueden reordenarse en el cuaderno arrastrándolas con el mouse."
   ]
  },
  {
   "cell_type": "markdown",
   "metadata": {
    "nbpresent": {
     "id": "a5eb353e-4949-47c8-ab2b-fd0dd1397442"
    }
   },
   "source": [
    "## Compartir tu Jupyter notebook"
   ]
  },
  {
   "cell_type": "markdown",
   "metadata": {
    "nbpresent": {
     "id": "2930326f-4ac8-4c3d-8f9b-eeb9133d3316"
    }
   },
   "source": [
    "Una vez que estés satisfecho con tu cuaderno, puedes compartirlo con otras personas. El archivo que contiene tu cuaderno es el archivo `.ipynb`, que se encuentra en el directorio desde el cual iniciaste el cuaderno y tiene el nombre correspondiente. Puedes enviar este archivo directamente a otras personas, y podrán verlo en su propia aplicación de Jupyter Notebook.\n",
    "\n",
    "Si agregas un cuaderno a GitHub, también se renderizará allí, por lo que esa es otra forma de compartir cuadernos. Para compartir rápidamente un cuaderno, puedes ir a [http://gist.github.com](http://gist.github.com), arrastrar y soltar el archivo en la página, y luego hacer clic en **Create Private Gist** o **Create Public Gist** (uno privado en realidad sigue siendo público, pero solo las personas con el enlace podrán verlo)."
   ]
  },
  {
   "cell_type": "markdown",
   "metadata": {
    "nbpresent": {
     "id": "2c369eb9-8071-45d6-8435-75d87f208cab"
    }
   },
   "source": [
    "## Notas importantes"
   ]
  },
  {
   "cell_type": "markdown",
   "metadata": {
    "nbpresent": {
     "id": "9346c79b-b494-41b8-b0f5-2c19cc09b5c7"
    }
   },
   "source": [
    "Algunas notas importantes sobre el uso del cuaderno: el código *puede* ejecutarse en un orden diferente al de arriba hacia abajo, pero ten en cuenta que si haces esto, las variables **no se reiniciarán automáticamente**. Por ejemplo, si escribes:"
   ]
  },
  {
   "cell_type": "code",
   "execution_count": null,
   "metadata": {
    "nbpresent": {
     "id": "713809f0-89a4-4cbd-a0bb-b004b4fa253a"
    }
   },
   "outputs": [],
   "source": [
    "a = 1"
   ]
  },
  {
   "cell_type": "markdown",
   "metadata": {
    "nbpresent": {
     "id": "417f32d9-c120-48fa-b062-045652a91ead"
    }
   },
   "source": [
    "y luego subes a una celda anterior y escribes:"
   ]
  },
  {
   "cell_type": "code",
   "execution_count": null,
   "metadata": {
    "nbpresent": {
     "id": "dade77fd-912f-414b-9928-6fab30487a36"
    }
   },
   "outputs": [],
   "source": [
    "print(a)"
   ]
  },
  {
   "cell_type": "markdown",
   "metadata": {
    "nbpresent": {
     "id": "ff0c18da-f685-42c2-9580-6f0768a3f63a"
    }
   },
   "source": [
    "te dará el valor que habías asignado previamente. Para asegurarte de que tu código funciona correctamente de arriba hacia abajo, ve al menú **Kernel** y selecciona la opción \"Restart kernel and run all cells...\" (Reiniciar núcleo y ejecutar todas las celdas). También hay un botón en la barra de herramientas superior que hace lo mismo; tiene el ícono de avance rápido.\n",
    "\n",
    "Además, incluso si eliminas una celda, las variables que se definieron en esa celda seguirán existiendo a menos que reinicies el cuaderno. Si deseas reiniciar un cuaderno, puedes ir a **Kernel** -> **Restart**. Esto eliminará todas las variables de la memoria, y tendrás que ejecutar el cuaderno desde el inicio.\n"
   ]
  },
  {
   "cell_type": "code",
   "execution_count": null,
   "metadata": {},
   "outputs": [],
   "source": []
  }
 ],
 "metadata": {
  "anaconda-cloud": {},
  "kernelspec": {
   "display_name": "Python 3 (ipykernel)",
   "language": "python",
   "name": "python3"
  },
  "language_info": {
   "codemirror_mode": {
    "name": "ipython",
    "version": 3
   },
   "file_extension": ".py",
   "mimetype": "text/x-python",
   "name": "python",
   "nbconvert_exporter": "python",
   "pygments_lexer": "ipython3",
   "version": "3.11.13"
  },
  "nbpresent": {
   "slides": {
    "0f58d322-a2bd-4547-83cd-6aa2b2359a56": {
     "id": "0f58d322-a2bd-4547-83cd-6aa2b2359a56",
     "prev": "975c109c-3be4-43ec-874f-3165e100c6c3",
     "regions": {
      "8988cc2e-db0b-4600-ae2a-df98ae3362d6": {
       "attrs": {
        "height": 0.8,
        "width": 0.8,
        "x": 0.1,
        "y": 0.1
       },
       "content": {
        "cell": "80fe17d0-fcc2-4126-898a-a1761287dc27",
        "part": "whole"
       },
       "id": "8988cc2e-db0b-4600-ae2a-df98ae3362d6"
      }
     }
    },
    "188d7e1c-e1fc-40ec-8b76-d82c0b466d72": {
     "id": "188d7e1c-e1fc-40ec-8b76-d82c0b466d72",
     "prev": "590e3d8f-6ae7-45ab-be14-2fc0056fd242",
     "regions": {
      "d2dbb620-244c-4b1c-94dc-332a483d9932": {
       "attrs": {
        "height": 0.8,
        "width": 0.8,
        "x": 0.1,
        "y": 0.1
       },
       "content": {
        "cell": "ded46a09-247b-4210-86de-10c18a434dd4",
        "part": "whole"
       },
       "id": "d2dbb620-244c-4b1c-94dc-332a483d9932"
      }
     }
    },
    "3267b11a-148b-4530-af3e-27e67fff1763": {
     "id": "3267b11a-148b-4530-af3e-27e67fff1763",
     "prev": "73d05e56-4397-495b-9e1f-94d218026202",
     "regions": {
      "35ad5b3c-b09b-4a61-a1b5-40ab27a4f5b6": {
       "attrs": {
        "height": 0.8,
        "width": 0.8,
        "x": 0.1,
        "y": 0.1
       },
       "content": {
        "cell": "8c25ac6e-3312-4d59-a34a-9fe918f5aa57",
        "part": "whole"
       },
       "id": "35ad5b3c-b09b-4a61-a1b5-40ab27a4f5b6"
      }
     }
    },
    "3792cc0c-cf59-4bf9-9412-3241856af11e": {
     "id": "3792cc0c-cf59-4bf9-9412-3241856af11e",
     "prev": "fec55f28-172e-4ec5-bd5e-420237798ccf",
     "regions": {
      "2e5ce04e-c10a-4a41-ac8a-b567037e3842": {
       "attrs": {
        "height": 0.8,
        "width": 0.8,
        "x": 0.1,
        "y": 0.1
       },
       "content": {
        "cell": "c932cfdc-66e3-469a-8acc-2265cfdbfb74",
        "part": "whole"
       },
       "id": "2e5ce04e-c10a-4a41-ac8a-b567037e3842"
      }
     }
    },
    "392780b1-6544-430d-a25d-0645832d5dfa": {
     "id": "392780b1-6544-430d-a25d-0645832d5dfa",
     "prev": "ded3744c-d5d6-4ac7-9308-f111ef45b61a",
     "regions": {
      "097041d5-3f09-48fe-b4e9-3f22e946f08c": {
       "attrs": {
        "height": 0.8,
        "width": 0.8,
        "x": 0.1,
        "y": 0.1
       },
       "content": {
        "cell": "ff0c18da-f685-42c2-9580-6f0768a3f63a",
        "part": "whole"
       },
       "id": "097041d5-3f09-48fe-b4e9-3f22e946f08c"
      }
     }
    },
    "41e91d85-a937-4036-9a05-9154fc9326b7": {
     "id": "41e91d85-a937-4036-9a05-9154fc9326b7",
     "prev": "ce4f74a7-ed22-4fa1-b63d-46508ecae61a",
     "regions": {
      "6af22ce4-2c7f-4a85-a4d1-cbb81893ce41": {
       "attrs": {
        "height": 0.8,
        "width": 0.8,
        "x": 0.1,
        "y": 0.1
       },
       "content": {
        "cell": "2c369eb9-8071-45d6-8435-75d87f208cab",
        "part": "whole"
       },
       "id": "6af22ce4-2c7f-4a85-a4d1-cbb81893ce41"
      }
     }
    },
    "49139172-8e43-45b7-b96e-95d57dd012ed": {
     "id": "49139172-8e43-45b7-b96e-95d57dd012ed",
     "prev": "3792cc0c-cf59-4bf9-9412-3241856af11e",
     "regions": {
      "789747c6-2bf0-4789-a07a-3ba318a9ed6c": {
       "attrs": {
        "height": 0.8,
        "width": 0.8,
        "x": 0.1,
        "y": 0.1
       },
       "content": {
        "cell": "2d24cab1-ee8a-4a05-b62d-178c2ba27cd5",
        "part": "whole"
       },
       "id": "789747c6-2bf0-4789-a07a-3ba318a9ed6c"
      }
     }
    },
    "590e3d8f-6ae7-45ab-be14-2fc0056fd242": {
     "id": "590e3d8f-6ae7-45ab-be14-2fc0056fd242",
     "prev": "f864c1c5-c61e-4f2e-8634-51a15b78459c",
     "regions": {
      "4de53284-9671-41b4-b7d5-42ba50a11998": {
       "attrs": {
        "height": 0.8,
        "width": 0.8,
        "x": 0.1,
        "y": 0.1
       },
       "content": {
        "cell": "5c154836-de9a-4b14-af1c-b545929b0d2f",
        "part": "whole"
       },
       "id": "4de53284-9671-41b4-b7d5-42ba50a11998"
      }
     }
    },
    "676fb43c-136c-4c2e-b431-fc3d9e73ab95": {
     "id": "676fb43c-136c-4c2e-b431-fc3d9e73ab95",
     "prev": "6cb28851-ca74-4a4c-891f-24447bc93179",
     "regions": {
      "94738b4c-0b88-4732-b595-7561dab26b75": {
       "attrs": {
        "height": 0.8,
        "width": 0.8,
        "x": 0.1,
        "y": 0.1
       },
       "content": {
        "cell": "120f3258-88a8-4bdb-908f-e94d98600e8e",
        "part": "whole"
       },
       "id": "94738b4c-0b88-4732-b595-7561dab26b75"
      }
     }
    },
    "6cb28851-ca74-4a4c-891f-24447bc93179": {
     "id": "6cb28851-ca74-4a4c-891f-24447bc93179",
     "prev": "a3fd22e7-cee3-4230-a79c-745e008064fa",
     "regions": {
      "4e964a33-1972-40fe-b873-a87a6dee659f": {
       "attrs": {
        "height": 0.8,
        "width": 0.8,
        "x": 0.1,
        "y": 0.1
       },
       "content": {
        "cell": "def841eb-06c3-45dd-929f-62b453f548fb",
        "part": "whole"
       },
       "id": "4e964a33-1972-40fe-b873-a87a6dee659f"
      }
     }
    },
    "73d05e56-4397-495b-9e1f-94d218026202": {
     "id": "73d05e56-4397-495b-9e1f-94d218026202",
     "prev": null,
     "regions": {
      "f37ee98f-1599-4160-9422-4e8bf90b72f7": {
       "attrs": {
        "height": 0.8,
        "width": 0.8,
        "x": 0.1,
        "y": 0.1
       },
       "content": {
        "cell": "95b6bb9b-b79e-4ad5-8fa9-5de465ffbe66",
        "part": "whole"
       },
       "id": "f37ee98f-1599-4160-9422-4e8bf90b72f7"
      }
     }
    },
    "82b8d982-30f9-4f1f-891d-ed19ca3edcb1": {
     "id": "82b8d982-30f9-4f1f-891d-ed19ca3edcb1",
     "prev": "0f58d322-a2bd-4547-83cd-6aa2b2359a56",
     "regions": {
      "5a880491-7648-4652-927a-f080deb447c3": {
       "attrs": {
        "height": 0.8,
        "width": 0.8,
        "x": 0.1,
        "y": 0.1
       },
       "content": {
        "cell": "9105381c-8a2a-4f6a-aebd-0d2c81e8863a",
        "part": "whole"
       },
       "id": "5a880491-7648-4652-927a-f080deb447c3"
      }
     }
    },
    "832232ba-6d14-48df-ad16-13c33233ca8c": {
     "id": "832232ba-6d14-48df-ad16-13c33233ca8c",
     "prev": "49139172-8e43-45b7-b96e-95d57dd012ed",
     "regions": {
      "5618f978-8a6b-4267-ab1e-d215f6255a0b": {
       "attrs": {
        "height": 0.8,
        "width": 0.8,
        "x": 0.1,
        "y": 0.1
       },
       "content": {
        "cell": "a5eb353e-4949-47c8-ab2b-fd0dd1397442",
        "part": "whole"
       },
       "id": "5618f978-8a6b-4267-ab1e-d215f6255a0b"
      }
     }
    },
    "90d2cd1d-5c08-48ce-8efc-dca18349efb5": {
     "id": "90d2cd1d-5c08-48ce-8efc-dca18349efb5",
     "prev": "eef4e7a5-5421-472f-a810-8d811f739c71",
     "regions": {
      "8a21d0bf-f158-4e61-afba-9828f4c9f18f": {
       "attrs": {
        "height": 0.8,
        "width": 0.8,
        "x": 0.1,
        "y": 0.1
       },
       "content": {
        "cell": "713809f0-89a4-4cbd-a0bb-b004b4fa253a",
        "part": "whole"
       },
       "id": "8a21d0bf-f158-4e61-afba-9828f4c9f18f"
      }
     }
    },
    "975c109c-3be4-43ec-874f-3165e100c6c3": {
     "id": "975c109c-3be4-43ec-874f-3165e100c6c3",
     "prev": "b3985054-a78b-466c-89bd-8b94c1267f52",
     "regions": {
      "4cf4cbde-12ed-42ad-8efb-7aaa2a51b9f2": {
       "attrs": {
        "height": 0.8,
        "width": 0.8,
        "x": 0.1,
        "y": 0.1
       },
       "content": {
        "cell": "c6dfdbcc-d701-49b2-ab03-54cfa38ce867",
        "part": "whole"
       },
       "id": "4cf4cbde-12ed-42ad-8efb-7aaa2a51b9f2"
      }
     }
    },
    "a3fd22e7-cee3-4230-a79c-745e008064fa": {
     "id": "a3fd22e7-cee3-4230-a79c-745e008064fa",
     "prev": "fbb51a89-482e-4ce6-8618-3e4bb47a3897",
     "regions": {
      "a75ef572-b4ca-4bb8-a60b-8ea0f00647b2": {
       "attrs": {
        "height": 0.8,
        "width": 0.8,
        "x": 0.1,
        "y": 0.1
       },
       "content": {
        "cell": "7cc8e3c4-be1d-44f7-99f7-773347ede0bd",
        "part": "whole"
       },
       "id": "a75ef572-b4ca-4bb8-a60b-8ea0f00647b2"
      }
     }
    },
    "b3985054-a78b-466c-89bd-8b94c1267f52": {
     "id": "b3985054-a78b-466c-89bd-8b94c1267f52",
     "prev": "188d7e1c-e1fc-40ec-8b76-d82c0b466d72",
     "regions": {
      "40c0e460-7da1-4221-bc13-ce6d92cab50f": {
       "attrs": {
        "height": 0.8,
        "width": 0.8,
        "x": 0.1,
        "y": 0.1
       },
       "content": {
        "cell": "1b5dbad8-35d8-4e2a-8877-e10162c1a5ce",
        "part": "whole"
       },
       "id": "40c0e460-7da1-4221-bc13-ce6d92cab50f"
      }
     }
    },
    "ce4f74a7-ed22-4fa1-b63d-46508ecae61a": {
     "id": "ce4f74a7-ed22-4fa1-b63d-46508ecae61a",
     "prev": "832232ba-6d14-48df-ad16-13c33233ca8c",
     "regions": {
      "78536718-b9c4-42bb-ac63-0569ab4afa6b": {
       "attrs": {
        "height": 0.8,
        "width": 0.8,
        "x": 0.1,
        "y": 0.1
       },
       "content": {
        "cell": "2930326f-4ac8-4c3d-8f9b-eeb9133d3316",
        "part": "whole"
       },
       "id": "78536718-b9c4-42bb-ac63-0569ab4afa6b"
      }
     }
    },
    "ded3744c-d5d6-4ac7-9308-f111ef45b61a": {
     "id": "ded3744c-d5d6-4ac7-9308-f111ef45b61a",
     "prev": "f2b7ee47-381f-42d0-bd27-04085e3855cf",
     "regions": {
      "9d05eb8c-3cfc-4515-a852-77e5c1ea145f": {
       "attrs": {
        "height": 0.8,
        "width": 0.8,
        "x": 0.1,
        "y": 0.1
       },
       "content": {
        "cell": "dade77fd-912f-414b-9928-6fab30487a36",
        "part": "whole"
       },
       "id": "9d05eb8c-3cfc-4515-a852-77e5c1ea145f"
      }
     }
    },
    "eef4e7a5-5421-472f-a810-8d811f739c71": {
     "id": "eef4e7a5-5421-472f-a810-8d811f739c71",
     "prev": "41e91d85-a937-4036-9a05-9154fc9326b7",
     "regions": {
      "9ab36876-bcf5-4db2-a838-c8decaa84907": {
       "attrs": {
        "height": 0.8,
        "width": 0.8,
        "x": 0.1,
        "y": 0.1
       },
       "content": {
        "cell": "9346c79b-b494-41b8-b0f5-2c19cc09b5c7",
        "part": "whole"
       },
       "id": "9ab36876-bcf5-4db2-a838-c8decaa84907"
      }
     }
    },
    "f2b7ee47-381f-42d0-bd27-04085e3855cf": {
     "id": "f2b7ee47-381f-42d0-bd27-04085e3855cf",
     "prev": "90d2cd1d-5c08-48ce-8efc-dca18349efb5",
     "regions": {
      "3f25d3fd-74f6-477d-806f-b737b5327ee2": {
       "attrs": {
        "height": 0.8,
        "width": 0.8,
        "x": 0.1,
        "y": 0.1
       },
       "content": {
        "cell": "417f32d9-c120-48fa-b062-045652a91ead",
        "part": "whole"
       },
       "id": "3f25d3fd-74f6-477d-806f-b737b5327ee2"
      }
     }
    },
    "f864c1c5-c61e-4f2e-8634-51a15b78459c": {
     "id": "f864c1c5-c61e-4f2e-8634-51a15b78459c",
     "prev": "676fb43c-136c-4c2e-b431-fc3d9e73ab95",
     "regions": {
      "43d982ea-9933-4ba1-96f2-b6f71d487530": {
       "attrs": {
        "height": 0.8,
        "width": 0.8,
        "x": 0.1,
        "y": 0.1
       },
       "content": {
        "cell": "fbf2d2f2-eeb7-4509-acdc-15e4a537dd47",
        "part": "whole"
       },
       "id": "43d982ea-9933-4ba1-96f2-b6f71d487530"
      }
     }
    },
    "fbb51a89-482e-4ce6-8618-3e4bb47a3897": {
     "id": "fbb51a89-482e-4ce6-8618-3e4bb47a3897",
     "prev": "3267b11a-148b-4530-af3e-27e67fff1763",
     "regions": {
      "9323ea38-c11a-427b-97bc-c644d87520ee": {
       "attrs": {
        "height": 0.8,
        "width": 0.8,
        "x": 0.1,
        "y": 0.1
       },
       "content": {
        "cell": "b3d2f6f7-c558-4fff-9a25-91c328d8a400",
        "part": "whole"
       },
       "id": "9323ea38-c11a-427b-97bc-c644d87520ee"
      }
     }
    },
    "fec55f28-172e-4ec5-bd5e-420237798ccf": {
     "id": "fec55f28-172e-4ec5-bd5e-420237798ccf",
     "prev": "82b8d982-30f9-4f1f-891d-ed19ca3edcb1",
     "regions": {
      "a861688b-c457-4b83-9508-72be11d11be4": {
       "attrs": {
        "height": 0.8,
        "width": 0.8,
        "x": 0.1,
        "y": 0.1
       },
       "content": {
        "cell": "7d99ead2-a133-40b4-90d9-53fbfa7f0f93",
        "part": "whole"
       },
       "id": "a861688b-c457-4b83-9508-72be11d11be4"
      }
     }
    }
   },
   "themes": {}
  }
 },
 "nbformat": 4,
 "nbformat_minor": 4
}
