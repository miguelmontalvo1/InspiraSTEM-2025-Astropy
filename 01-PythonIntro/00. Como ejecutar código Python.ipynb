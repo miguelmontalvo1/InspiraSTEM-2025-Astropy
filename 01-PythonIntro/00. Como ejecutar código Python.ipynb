{
 "cells": [
  {
   "cell_type": "markdown",
   "metadata": {},
   "source": [
    "# Ejecutar código Python"
   ]
  },
  {
   "cell_type": "markdown",
   "metadata": {},
   "source": [
    "## Ejecución interactiva (demo)"
   ]
  },
  {
   "cell_type": "markdown",
   "metadata": {},
   "source": [
    "Para ejecutar código Python de forma interactiva, puedes usar el intérprete estándar de Python, que se inicia escribiendo `python` en tu terminal:\n",
    "\n",
    "    $ python\n",
    "    Python 3.11.9 | packaged by conda-forge | (main, Apr 19 2024, 18:34:54) [Clang 16.0.6 ] on darwin\n",
    "    Type \"help\", \"copyright\", \"credits\" or \"license\" for more information.\n",
    "    >>>\n",
    "\n",
    "El símbolo `>>>` indica que Python está listo para recibir comandos. Si escribes `a = 1` y presionas enter, esto asignará el valor `1` a `a`. Si luego escribes `a`, verás el valor de esa variable (esto es equivalente a hacer `print(a)`):\n",
    "\n",
    "    >>> a = 1\n",
    "    >>> a\n",
    "    1\n",
    "\n",
    "La consola de Python puede ejecutar cualquier código Python, incluso sentencias multilínea, aunque en muchos casos es más conveniente usar Python de forma no interactiva.\n",
    "\n",
    "La consola por defecto de Python es limitada, y en la práctica lo ideal es usar la consola IPython (o Python interactivo). Esta es una herramienta adicional que agrega muchas funciones útiles al intérprete estándar, incluyendo navegación por el historial de comandos, autocompletado con tabulación, entre otras. Para iniciar IPython, escribe:\n",
    "\n",
    "    $ ipython\n",
    "    Python 3.11.9 | packaged by conda-forge | (main, Apr 19 2024, 18:34:54) [Clang 16.0.6 ]\n",
    "    Type \"copyright\", \"credits\" or \"license\" for more information.\n",
    "\n",
    "    IPython 8.24.0 -- An enhanced Interactive Python. Type '?' for help.\n",
    "\n",
    "    In [1]:\n",
    "\n",
    "La primera vez que inicies IPython, se mostrará un mensaje de bienvenida que puedes saltar presionando `ENTER`. Los símbolos `>>>` ahora son reemplazados por `In [x]`, y la salida de los comandos, si la hay, aparecerá precedida por `Out [x]`. Si escribimos los mismos comandos que antes, obtendremos:\n",
    "\n",
    "    In [1]: a = 1\n",
    "\n",
    "    In [2]: a\n",
    "    Out[2]: 1\n",
    "\n",
    "Si ahora presionas la flecha hacia arriba dos veces, volverás al comando `a = 1`."
   ]
  },
  {
   "cell_type": "markdown",
   "metadata": {},
   "source": [
    "## Ejecución de scripts (demo)"
   ]
  },
  {
   "cell_type": "markdown",
   "metadata": {},
   "source": [
    "Aunque el modo interactivo de Python es muy útil para explorar y probar código, eventualmente querrás escribir un script para registrar y reproducir lo que hiciste, o para realizar tareas que son demasiado complejas como para escribirlas interactivamente (definir funciones, clases, etc.). Para escribir un script en Python, solo necesitas usar tu editor de texto favorito y guardar el código en un archivo con la extensión `.py`. Por ejemplo, podemos crear un archivo llamado `test.py` que contenga:\n",
    "\n",
    "    a = 1\n",
    "    print(a)\n",
    "\n",
    "Luego podemos ejecutar el script desde la línea de comandos con:\n",
    "\n",
    "    $ python test.py\n",
    "    1\n",
    "\n",
    "Nota: la función `print` es necesaria, ya que escribir `a` por sí solo solo mostrará el valor en modo interactivo. En los scripts, debes solicitar explícitamente la impresión usando la función `print`. Para imprimir múltiples variables, simplemente sepáralas con comas dentro de la función `print`:\n",
    "\n",
    "    print(a, 1.5, \"spam\")"
   ]
  },
  {
   "cell_type": "markdown",
   "metadata": {},
   "source": [
    "## Combinando el uso interactivo y no interactivo (demo)"
   ]
  },
  {
   "cell_type": "markdown",
   "metadata": {},
   "source": [
    "A veces puede ser útil ejecutar un script para configurar ciertas variables o estructuras, y luego continuar trabajando en modo interactivo. Esto se puede lograr usando el comando `%run` de IPython para ejecutar el script, el cual se ejecuta como si estuviera en la misma sesión. La sesión de IPython tendrá acceso al estado final de las variables definidas en el script:\n",
    "\n",
    "    $ ipython\n",
    "    Python 3.11.9 | packaged by conda-forge | (main, Apr 19 2024, 18:34:54) [Clang 16.0.6 ]\n",
    "    Type \"copyright\", \"credits\" or \"license\" for more information.\n",
    "\n",
    "    IPython 8.24.0 -- An enhanced Interactive Python. Type '?' for help.\n",
    "\n",
    "    In [1]: %run test.py\n",
    "    1\n",
    "\n",
    "    In [2]: a + 1\n",
    "    Out[2]: 2\n"
   ]
  },
  {
   "cell_type": "code",
   "execution_count": null,
   "metadata": {},
   "outputs": [],
   "source": []
  }
 ],
 "metadata": {
  "anaconda-cloud": {},
  "kernelspec": {
   "display_name": "Python 3 (ipykernel)",
   "language": "python",
   "name": "python3"
  },
  "language_info": {
   "codemirror_mode": {
    "name": "ipython",
    "version": 3
   },
   "file_extension": ".py",
   "mimetype": "text/x-python",
   "name": "python",
   "nbconvert_exporter": "python",
   "pygments_lexer": "ipython3",
   "version": "3.11.13"
  }
 },
 "nbformat": 4,
 "nbformat_minor": 4
}
