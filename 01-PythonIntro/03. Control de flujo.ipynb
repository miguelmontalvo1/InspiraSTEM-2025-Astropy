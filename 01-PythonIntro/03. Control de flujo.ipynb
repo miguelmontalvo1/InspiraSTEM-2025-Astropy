{
 "cells": [
  {
   "cell_type": "markdown",
   "metadata": {},
   "source": [
    "# Control de flujo"
   ]
  },
  {
   "cell_type": "markdown",
   "metadata": {},
   "source": [
    "## ``if`` statements"
   ]
  },
  {
   "cell_type": "markdown",
   "metadata": {
    "slideshow": {
     "slide_type": "slide"
    }
   },
   "source": [
    "La forma más simple de control de flujo es la sentencia `if`, que ejecuta un bloque de código solo si se cumple una determinada condición (y opcionalmente ejecuta otro bloque si la condición *no* se cumple). La sintaxis básica de una sentencia `if` es la siguiente:\n",
    "\n",
    "    if condición:\n",
    "        # hacer algo\n",
    "    elif condición:\n",
    "        # hacer otra cosa\n",
    "    else:\n",
    "        # hacer algo distinto\n",
    "\n",
    "Observa que no hay una sentencia que indique el fin del bloque `if`, y que cada instrucción de control lleva dos puntos (`:`) al final. Python se basa en la **indentación y los dos puntos** para determinar qué líneas pertenecen a un bloque de código."
   ]
  },
  {
   "cell_type": "markdown",
   "metadata": {
    "slideshow": {
     "slide_type": "slide"
    }
   },
   "source": [
    "Por ejemplo, en el siguiente código:"
   ]
  },
  {
   "cell_type": "code",
   "execution_count": null,
   "metadata": {},
   "outputs": [],
   "source": [
    "a = 1\n",
    "\n",
    "if a == 1:\n",
    "    print(\"a es 1, cambiando a 2\")\n",
    "    a = 2\n",
    "\n",
    "print(\"terminado\")"
   ]
  },
  {
   "cell_type": "markdown",
   "metadata": {
    "slideshow": {
     "slide_type": "fragment"
    }
   },
   "source": [
    "La primera instrucción `print`, así como `a = 2`, solo se ejecutan si `a` es igual a 1. En cambio, `print(\"terminado\")` se ejecuta siempre, una vez que Python sale de la sentencia `if`. Podemos verificar el valor de `a` para ver que cambió de 1 a 2."
   ]
  },
  {
   "cell_type": "code",
   "execution_count": null,
   "metadata": {},
   "outputs": [],
   "source": [
    "a"
   ]
  },
  {
   "cell_type": "markdown",
   "metadata": {
    "slideshow": {
     "slide_type": "slide"
    }
   },
   "source": [
    "**La indentación es muy importante en Python, y la convención es usar cuatro espacios (no tabulaciones) por cada nivel de indentación.**"
   ]
  },
  {
   "cell_type": "markdown",
   "metadata": {
    "slideshow": {
     "slide_type": "slide"
    }
   },
   "source": [
    "Volviendo a las sentencias `if`, las condiciones pueden ser cualquier expresión que devuelva un valor booleano. Por ejemplo, `a == 1`, `b != 4` y `c <= 5` son condiciones válidas porque devuelven `True` o `False` dependiendo de si la expresión es verdadera o no."
   ]
  },
  {
   "cell_type": "markdown",
   "metadata": {
    "slideshow": {
     "slide_type": "slide"
    }
   },
   "source": [
    "Se pueden usar comparaciones estándar (`==` para igualdad, `!=` para distinto, `<=` para menor o igual, `>=` para mayor o igual, `<` para menor que, y `>` para mayor que), así como operadores lógicos (`and`, `or`, `not`). También se pueden usar paréntesis para agrupar distintas partes de la condición y dejar claro en qué orden deben evaluarse las comparaciones. Por ejemplo:\n",
    "\n",
    "    if (a == 1 and b <= 3) or c > 3:\n",
    "        # hacer algo\n",
    "\n",
    "En términos generales, cualquier función o expresión que finalmente devuelva `True` o `False` puede utilizarse como condición."
   ]
  },
  {
   "cell_type": "markdown",
   "metadata": {},
   "source": [
    "## ``for`` loops"
   ]
  },
  {
   "cell_type": "markdown",
   "metadata": {
    "slideshow": {
     "slide_type": "slide"
    }
   },
   "source": [
    "El tipo de bucle más común en Python es el bucle `for`. En su forma más básica, es muy simple:\n",
    "\n",
    "    for valor in iterable:\n",
    "        # hacer algo\n",
    "\n",
    "El `iterable` puede ser cualquier objeto de Python que se pueda recorrer. Esto incluye listas o cadenas de texto."
   ]
  },
  {
   "cell_type": "code",
   "execution_count": null,
   "metadata": {
    "slideshow": {
     "slide_type": "slide"
    }
   },
   "outputs": [],
   "source": [
    "for x in [3, 1.2, 'a']:\n",
    "    print(x)"
   ]
  },
  {
   "cell_type": "code",
   "execution_count": null,
   "metadata": {},
   "outputs": [],
   "source": [
    "for letra in 'hello':\n",
    "    print(letra)"
   ]
  },
  {
   "cell_type": "markdown",
   "metadata": {},
   "source": [
    "Los bucles pueden anidarse, y el bucle interno se completará antes de que el bucle externo avance al siguiente elemento del iterable."
   ]
  },
  {
   "cell_type": "code",
   "execution_count": null,
   "metadata": {},
   "outputs": [],
   "source": [
    "for x in [3, 1.2, 'a']:\n",
    "    for y in ['h', 'e', 'l', 'l', 'o']:\n",
    "        print(y)\n",
    "    print(x)"
   ]
  },
  {
   "cell_type": "markdown",
   "metadata": {
    "slideshow": {
     "slide_type": "slide"
    }
   },
   "source": [
    "Un tipo común de bucle `for` es aquel en el que el valor debe recorrer un rango entre dos enteros con un tamaño definido. Para esto, podemos usar la función `range`. Si se le proporciona un solo valor, permite iterar desde 0 hasta ese valor menos 1:"
   ]
  },
  {
   "cell_type": "code",
   "execution_count": null,
   "metadata": {},
   "outputs": [],
   "source": [
    "for i in range(5):\n",
    "    print(i)"
   ]
  },
  {
   "cell_type": "code",
   "execution_count": null,
   "metadata": {},
   "outputs": [],
   "source": [
    "for i in range(3, 12):\n",
    "    print(i)"
   ]
  },
  {
   "cell_type": "code",
   "execution_count": null,
   "metadata": {},
   "outputs": [],
   "source": [
    "for i in range(2, 20, 2):  # el tercer argumento especifica el \"tamaño del paso\"\n",
    "    print(i)"
   ]
  },
  {
   "cell_type": "markdown",
   "metadata": {},
   "source": [
    "Si intentas iterar sobre un diccionario, se recorrerán las **claves** (no los valores), y no se garantiza un orden específico:"
   ]
  },
  {
   "cell_type": "code",
   "execution_count": null,
   "metadata": {},
   "outputs": [],
   "source": [
    "d = {'a':1, 'b':2, 'c':3}\n",
    "for key in d:\n",
    "    print(key)"
   ]
  },
  {
   "cell_type": "markdown",
   "metadata": {},
   "source": [
    "Pero puedes obtener fácilmente el valor con:"
   ]
  },
  {
   "cell_type": "code",
   "execution_count": null,
   "metadata": {},
   "outputs": [],
   "source": [
    "for key in d:\n",
    "    print(key, d[key])"
   ]
  },
  {
   "cell_type": "markdown",
   "metadata": {},
   "source": [
    "o también:"
   ]
  },
  {
   "cell_type": "code",
   "execution_count": null,
   "metadata": {},
   "outputs": [],
   "source": [
    "for key, value in d.items():\n",
    "    print(key, value)"
   ]
  },
  {
   "cell_type": "markdown",
   "metadata": {},
   "source": [
    "## Ejercicio 1"
   ]
  },
  {
   "cell_type": "markdown",
   "metadata": {},
   "source": [
    "Escribe un programa que imprima todos los números primos (números divisibles solo por uno y por sí mismos) menores a 1000.\n",
    "\n",
    "Pista: el operador `%` puede usarse para obtener el residuo de la división de un entero entre otro:"
   ]
  },
  {
   "cell_type": "code",
   "execution_count": null,
   "metadata": {},
   "outputs": [],
   "source": [
    "20 % 3"
   ]
  },
  {
   "cell_type": "code",
   "execution_count": null,
   "metadata": {},
   "outputs": [],
   "source": [
    "\n",
    "# escribe tu solución aquí\n"
   ]
  },
  {
   "cell_type": "markdown",
   "metadata": {},
   "source": [
    "## Salir de un bucle o continuar un bucle"
   ]
  },
  {
   "cell_type": "markdown",
   "metadata": {
    "slideshow": {
     "slide_type": "slide"
    }
   },
   "source": [
    "Hay dos instrucciones útiles que se pueden usar dentro de un bucle: ``break`` y ``continue``. Cuando se llama, ``break`` saldrá inmediatamente del bucle en el que se encuentra:"
   ]
  },
  {
   "cell_type": "code",
   "execution_count": null,
   "metadata": {},
   "outputs": [],
   "source": [
    "for i in range(10):\n",
    "    print(i)\n",
    "    if i == 3:\n",
    "        break"
   ]
  },
  {
   "cell_type": "markdown",
   "metadata": {
    "slideshow": {
     "slide_type": "slide"
    }
   },
   "source": [
    "La otra es ``continue``, que ignorará el resto del bucle actual y pasará directamente a la siguiente iteración:"
   ]
  },
  {
   "cell_type": "code",
   "execution_count": null,
   "metadata": {},
   "outputs": [],
   "source": [
    "for i in range(10):\n",
    "    if i == 2 or i == 8:\n",
    "        continue\n",
    "    print(i)"
   ]
  },
  {
   "cell_type": "markdown",
   "metadata": {},
   "source": [
    "## Ejercicio 2"
   ]
  },
  {
   "cell_type": "markdown",
   "metadata": {},
   "source": [
    "Cuando se verifica si un valor es primo, tan pronto como se encuentra que dicho valor es divisible por otro número, se concluye que no es primo, y por lo tanto no es necesario seguir comprobando si es divisible por otros valores. Copia tu solución anterior y modifícala para salir del bucle (break) en cuanto se detecte un divisor."
   ]
  },
  {
   "cell_type": "code",
   "execution_count": null,
   "metadata": {},
   "outputs": [],
   "source": [
    "\n",
    "# escribe tu solución aquí\n"
   ]
  },
  {
   "cell_type": "markdown",
   "metadata": {},
   "source": [
    "## ``while`` loops"
   ]
  },
  {
   "cell_type": "markdown",
   "metadata": {
    "slideshow": {
     "slide_type": "slide"
    }
   },
   "source": [
    "De manera similar a otros lenguajes de programación, Python también proporciona un bucle ``while``, que es similar a un bucle ``for``, pero donde el número de iteraciones está definido por una condición en lugar de un iterador:\n",
    "\n",
    "    while condición:\n",
    "        # hacer algo"
   ]
  },
  {
   "cell_type": "markdown",
   "metadata": {
    "slideshow": {
     "slide_type": "slide"
    }
   },
   "source": [
    "Por ejemplo, en el siguiente ejemplo:"
   ]
  },
  {
   "cell_type": "code",
   "execution_count": null,
   "metadata": {},
   "outputs": [],
   "source": [
    "a = 1\n",
    "while a < 10:\n",
    "    print(a)\n",
    "    a = a * 1.5\n",
    "print(\"Una vez que el bucle while ha terminado, a tiene el valor\", a)"
   ]
  },
  {
   "cell_type": "markdown",
   "metadata": {},
   "source": [
    "el bucle se ejecuta hasta que ``a`` sea igual o mayor que 10."
   ]
  },
  {
   "cell_type": "markdown",
   "metadata": {},
   "source": [
    "## Ejercicio 3"
   ]
  },
  {
   "cell_type": "markdown",
   "metadata": {},
   "source": [
    "Escribe un programa (usando un bucle ``while``) que encuentre la secuencia de Fibonacci hasta (excluyendo) 100000. Los dos primeros números son 0 y 1, y cada número posterior es la suma de los dos anteriores, por lo que la secuencia comienza ``[0, 1, 1, 2, 3, 5, ...]``.\n",
    "\n",
    "Opcional: Almacena la secuencia dentro de una lista de Python, y solo imprime toda la lista en pantalla una vez que todos los números estén disponibles. Luego, verifica si alguno de los números en la secuencia es un cuadrado perfecto (por ejemplo, ``0*0``, ``1*1``, ``2*2``, ``3*3``, ``4*4``) e imprime aquellos que lo sean."
   ]
  },
  {
   "cell_type": "code",
   "execution_count": null,
   "metadata": {},
   "outputs": [],
   "source": [
    "\n",
    "# escribe tu solución aquí\n"
   ]
  },
  {
   "cell_type": "code",
   "execution_count": null,
   "metadata": {},
   "outputs": [],
   "source": []
  }
 ],
 "metadata": {
  "anaconda-cloud": {},
  "kernelspec": {
   "display_name": "Python 3 (ipykernel)",
   "language": "python",
   "name": "python3"
  },
  "language_info": {
   "codemirror_mode": {
    "name": "ipython",
    "version": 3
   },
   "file_extension": ".py",
   "mimetype": "text/x-python",
   "name": "python",
   "nbconvert_exporter": "python",
   "pygments_lexer": "ipython3",
   "version": "3.11.13"
  }
 },
 "nbformat": 4,
 "nbformat_minor": 4
}
