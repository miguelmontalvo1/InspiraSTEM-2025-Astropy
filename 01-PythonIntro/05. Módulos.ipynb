{
 "cells": [
  {
   "cell_type": "markdown",
   "metadata": {},
   "source": [
    "# Módulos"
   ]
  },
  {
   "cell_type": "markdown",
   "metadata": {
    "slideshow": {
     "slide_type": "skip"
    }
   },
   "source": [
    "Una de las fortalezas de Python es que existen muchas extensiones incorporadas —o *módulos*— que contienen funciones, clases y variables ya definidas, lo que permite realizar tareas complejas en solo unas pocas líneas de código. Además, hay muchos otros módulos de terceros (por ejemplo, Numpy, Scipy, Matplotlib, Astropy) que se pueden instalar, y también puedes desarrollar tus propios módulos que incluyan funcionalidades que uses con frecuencia."
   ]
  },
  {
   "cell_type": "markdown",
   "metadata": {
    "slideshow": {
     "slide_type": "slide"
    }
   },
   "source": [
    "Los módulos incorporados se conocen como la *Librería Estándar* (Standard Library), y puedes encontrar una lista completa de las funcionalidades disponibles en la [Documentación de Python](http://docs.python.org/3/library/index.html)."
   ]
  },
  {
   "cell_type": "markdown",
   "metadata": {
    "slideshow": {
     "slide_type": "slide"
    }
   },
   "source": [
    "Para usar módulos en tu sesión de Python o en un script, necesitas **importarlos**. El siguiente ejemplo muestra cómo importar el módulo incorporado ``math``, que contiene una serie de funciones matemáticas útiles:"
   ]
  },
  {
   "cell_type": "code",
   "execution_count": null,
   "metadata": {},
   "outputs": [],
   "source": [
    "import math"
   ]
  },
  {
   "cell_type": "markdown",
   "metadata": {
    "slideshow": {
     "slide_type": "slide"
    }
   },
   "source": [
    "Luego puedes acceder a funciones y otros objetos dentro del módulo usando ``math.<función>``, por ejemplo:"
   ]
  },
  {
   "cell_type": "code",
   "execution_count": null,
   "metadata": {},
   "outputs": [],
   "source": [
    "math.sin(2.3)"
   ]
  },
  {
   "cell_type": "code",
   "execution_count": null,
   "metadata": {},
   "outputs": [],
   "source": [
    "math.factorial(20)"
   ]
  },
  {
   "cell_type": "code",
   "execution_count": null,
   "metadata": {},
   "outputs": [],
   "source": [
    "math.pi"
   ]
  },
  {
   "cell_type": "markdown",
   "metadata": {
    "slideshow": {
     "slide_type": "slide"
    }
   },
   "source": [
    "Como estos módulos ya existen, si lo que quieres hacer es algo muy común, probablemente ya exista una función para ello, y no necesitarás escribirla desde cero (lo que hace que tu código sea más fácil de leer)."
   ]
  },
  {
   "cell_type": "markdown",
   "metadata": {
    "slideshow": {
     "slide_type": "slide"
    }
   },
   "source": [
    "Por ejemplo, el módulo ``numpy`` contiene funciones útiles para calcular, por ejemplo, la media, la mediana y la desviación estándar de una secuencia de números:"
   ]
  },
  {
   "cell_type": "code",
   "execution_count": null,
   "metadata": {},
   "outputs": [],
   "source": [
    "import numpy as np"
   ]
  },
  {
   "cell_type": "code",
   "execution_count": null,
   "metadata": {},
   "outputs": [],
   "source": [
    "li = [1,2,7,3,1,3]\n",
    "np.mean(li)"
   ]
  },
  {
   "cell_type": "code",
   "execution_count": null,
   "metadata": {
    "slideshow": {
     "slide_type": "slide"
    }
   },
   "outputs": [],
   "source": [
    "np.median(li)"
   ]
  },
  {
   "cell_type": "code",
   "execution_count": null,
   "metadata": {},
   "outputs": [],
   "source": [
    "np.std(li)"
   ]
  },
  {
   "cell_type": "markdown",
   "metadata": {
    "slideshow": {
     "slide_type": "slide"
    }
   },
   "source": [
    "Observa que en el caso anterior, usamos:\n",
    "\n",
    "    import numpy as np\n",
    "\n",
    "en lugar de:\n",
    "\n",
    "    import numpy\n",
    "\n",
    "lo cual muestra que podemos renombrar el módulo para que no sea tan largo de escribir en nuestro codigo."
   ]
  },
  {
   "cell_type": "markdown",
   "metadata": {
    "slideshow": {
     "slide_type": "slide"
    }
   },
   "source": [
    "Finalmente, también es posible importar directamente solo las funciones que se necesiten:"
   ]
  },
  {
   "cell_type": "code",
   "execution_count": null,
   "metadata": {},
   "outputs": [],
   "source": [
    "from math import sin, cos\n",
    "sin(3.4)\n",
    "cos(3.4)"
   ]
  },
  {
   "cell_type": "markdown",
   "metadata": {
    "slideshow": {
     "slide_type": "slide"
    }
   },
   "source": [
    "Puede que encuentres ejemplos en internet que usan, por ejemplo:\n",
    "\n",
    "    from module import *\n",
    "\n",
    "pero esto **NO SE RECOMIENDA**, porque dificultará la depuración de programas, ya que las herramientas comunes de depuración que se basan en revisar únicamente el código no sabrán qué funciones están siendo importadas."
   ]
  },
  {
   "cell_type": "markdown",
   "metadata": {},
   "source": [
    "Si no estás seguro de qué módulo proviene un objeto, puedes inspeccionarlo."
   ]
  },
  {
   "cell_type": "code",
   "execution_count": null,
   "metadata": {},
   "outputs": [],
   "source": [
    "import inspect\n",
    "inspect.getmodule(sin)"
   ]
  },
  {
   "cell_type": "markdown",
   "metadata": {},
   "source": [
    "## Dónde encontrar módulos y funciones"
   ]
  },
  {
   "cell_type": "markdown",
   "metadata": {
    "slideshow": {
     "slide_type": "skip"
    }
   },
   "source": [
    "¿Cómo saber qué módulos existen en primer lugar? La documentación de Python contiene una [lista de módulos en la Librería Estándar](http://docs.python.org/3/library), pero también puedes simplemente buscarlos en internet. Una vez que tengas un módulo que crees que contiene el tipo correcto de función, puedes consultar la documentación de ese módulo, o puedes usar el autocompletado con la tecla TAB en IPython:\n",
    "\n",
    "    In [2]: math.<TAB>\n",
    "    math.acos       math.degrees    math.fsum       math.pi\n",
    "    math.acosh      math.e          math.gamma      math.pow\n",
    "    math.asin       math.erf        math.hypot      math.radians\n",
    "    math.asinh      math.erfc       math.isinf      math.sin\n",
    "    math.atan       math.exp        math.isnan      math.sinh\n",
    "    math.atan2      math.expm1      math.ldexp      math.sqrt\n",
    "    math.atanh      math.fabs       math.lgamma     math.tan\n",
    "    math.ceil       math.factorial  math.log        math.tanh\n",
    "    math.copysign   math.floor      math.log10      math.trunc\n",
    "    math.cos        math.fmod       math.log1p      \n",
    "    math.cosh       math.frexp      math.modf"
   ]
  },
  {
   "cell_type": "markdown",
   "metadata": {},
   "source": [
    "## Módulos comúnmente usados fuera de la librería estándar – NumPy y Matplotlib"
   ]
  },
  {
   "cell_type": "markdown",
   "metadata": {},
   "source": [
    "Hay muchos módulos que se utilizan frecuentemente en el análisis de datos astronómicos. Uno de estos módulos, que ya se ha mencionado en este tutorial, es **NumPy**. NumPy proporciona un objeto array n-dimensional (*ndarray*) y rutinas para operar sobre estos objetos (ordenamiento, selección, álgebra lineal básica y estadísticas, entre muchas otras).\n",
    "\n",
    "El NumPy array es similar al tipo de dato lista (*list*) en el sentido de que actúa como un contenedor para almacenar objetos de Python, pero existen varias razones por las cuales preferirías usar un NumPy array en lugar de una lista en computación científica:\n",
    "\n",
    "1. Los arrays de NumPy permiten realizar operaciones matemáticas y de otro tipo de manera rápida sobre grandes cantidades de datos. Estas operaciones están *vectorizadas* —es decir, se ejecutan sin bucles explícitos— en código C precompilado. Por ejemplo, la convolución de una imagen usando arrays 2D de NumPy es significativamente más rápida que hacer el cálculo iterando sobre los valores de los píxeles.\n",
    "\n",
    "2. El módulo NumPy tiene una gran cantidad de métodos integrados que operan directamente sobre NumPy arrays. Esto hace que el código sea más conciso y legible. Por ejemplo, calcular la desviación estándar de una lista de números, sin NumPy, requeriría un bloque de código. Con NumPy, puede hacerse en una sola línea usando la función `numpy.std()`.\n",
    "\n",
    "3. Muchos módulos existentes en Python utilizan arreglos de NumPy. Es el método por defecto para almacenar objetos de Python, particularmente datos numéricos, en computación científica.\n",
    "\n",
    "Otro módulo comúnmente utilizado es **matplotlib**, que permite tanto la creación rápida de gráficos (histogramas, gráficos de dispersión, etc.) mediante llamadas a funciones simples, como también un alto nivel de personalización.\n",
    "\n",
    "Usemos NumPy y matplotlib para mostrar lo que puede hacerse con una imagen 2D."
   ]
  },
  {
   "cell_type": "markdown",
   "metadata": {},
   "source": [
    "Primero crearemos una imagen 2D. La función `arange` de NumPy genera un arreglo 1D con números entre el valor inferior y superior especificado. El método `reshape` aplicado al arreglo transformará este arreglo 1D en un arreglo 2D de 10x10."
   ]
  },
  {
   "cell_type": "code",
   "execution_count": null,
   "metadata": {},
   "outputs": [],
   "source": [
    "import numpy as np\n",
    "array_2d = np.array(np.arange(0,100).reshape(10,10))\n",
    "print(array_2d)"
   ]
  },
  {
   "cell_type": "markdown",
   "metadata": {},
   "source": [
    "Podemos visualizar este array (o cualquier otra imagen 2D) con matplotlib. Mostraremos este array como una imagen en escala de grises, y agregaremos una barra de color y un título. Ignora la línea que comienza con '%' — esta controla cómo se muestran las gráficas de salida y será explicada más adelante en el tutorial."
   ]
  },
  {
   "cell_type": "code",
   "execution_count": null,
   "metadata": {},
   "outputs": [],
   "source": [
    "%matplotlib inline\n",
    "import matplotlib.pyplot as plt\n",
    "plt.imshow(array_2d, cmap = 'Greys')\n",
    "plt.colorbar()\n",
    "plt.title('Imagen de Prueba')"
   ]
  },
  {
   "cell_type": "markdown",
   "metadata": {},
   "source": [
    "Supongamos que queremos editar una caja de 3x3 en la esquina superior izquierda de esta imagen. Podemos hacer esto indexando el arreglo 2D y asignando ese segmento al valor -999. La convención para indexar arreglos en Python es y,x."
   ]
  },
  {
   "cell_type": "code",
   "execution_count": null,
   "metadata": {},
   "outputs": [],
   "source": [
    "array_2d[0:3, 0:3] = 100  # filas 0 a 3, columnas 0 a 3 se asignan al valor 100\n",
    "plt.imshow(array_2d, cmap='Greys')\n",
    "plt.colorbar()\n",
    "plt.title('Imagen de Prueba')"
   ]
  },
  {
   "cell_type": "code",
   "execution_count": null,
   "metadata": {},
   "outputs": [],
   "source": []
  }
 ],
 "metadata": {
  "anaconda-cloud": {},
  "kernelspec": {
   "display_name": "Python 3 (ipykernel)",
   "language": "python",
   "name": "python3"
  },
  "language_info": {
   "codemirror_mode": {
    "name": "ipython",
    "version": 3
   },
   "file_extension": ".py",
   "mimetype": "text/x-python",
   "name": "python",
   "nbconvert_exporter": "python",
   "pygments_lexer": "ipython3",
   "version": "3.11.13"
  }
 },
 "nbformat": 4,
 "nbformat_minor": 4
}
