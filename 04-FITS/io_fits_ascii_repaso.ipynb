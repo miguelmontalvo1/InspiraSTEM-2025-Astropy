{
 "cells": [
  {
   "cell_type": "markdown",
   "metadata": {},
   "source": [
    "# I/O: FITS y ASCII\n",
    "\n",
    "En esta sección vamos a:\n",
    "\n",
    "- Aprender a utilizar archivos FITS\n",
    "    - <a href=\"#Abrir-un-archivo-FITS\">Abrir un archivo FITS</a>\n",
    "    - <a href=\"#Examinar-la-cabecera\">Examinar la cabecera</a>\n",
    "    - <a href=\"#Trabajando-con-imagenes-FITS\">Trabajando con imagenes FITS</a>\n",
    "    - <a href=\"#Trabajando-con-tablas-FITS\">Trabajando con tablas FITS</a>\n",
    "    - Visualizar con `matplotlib` y `astropy.visualization`\n",
    "- Aprender a utilizar archivos ASCII\n",
    "    - <a href=\"#Abrir-un-archivo-ASCII\">Abrir un archivo ASCII</a>\n",
    "    - Visualizar con `matplotlib` y `astropy.visualization`\n",
    "    \n",
    "**Para más información, consulte la documentación de Astropy sobre [FITS](https://docs.astropy.org/en/stable/io/fits/) y [ASCII](https://docs.astropy.org/en/stable/io/ascii/index.html).**\n",
    "\n",
    "---"
   ]
  },
  {
   "cell_type": "markdown",
   "metadata": {},
   "source": [
    "# Abrir un archivo FITS"
   ]
  },
  {
   "cell_type": "code",
   "execution_count": null,
   "metadata": {},
   "outputs": [],
   "source": [
    "from astropy.io import fits"
   ]
  },
  {
   "cell_type": "markdown",
   "metadata": {},
   "source": [
    "La función `open()` en [astropy.io.fits](https://docs.astropy.org/en/stable/io/fits/index.html) funciona tanto con archivos regulares como con archivos comprimidos.\n",
    "\n",
    "Abra un archivo FITS y examine su contenido:"
   ]
  },
  {
   "cell_type": "code",
   "execution_count": null,
   "metadata": {},
   "outputs": [],
   "source": [
    "with fits.open('j94f05bgq_flt.fits.gz') as f:\n",
    "    f.info()"
   ]
  },
  {
   "cell_type": "markdown",
   "metadata": {},
   "source": [
    "Abrir un archivo FITS utilizando la sentencia *with* de Python garantiza que el archivo se cierre sin necesidad de hacerlo explícitamente."
   ]
  },
  {
   "cell_type": "markdown",
   "metadata": {},
   "source": [
    "También existe un atajo para inspeccionar el contenido de un archivo FITS antes de abrirlo completamente:"
   ]
  },
  {
   "cell_type": "code",
   "execution_count": null,
   "metadata": {},
   "outputs": [],
   "source": [
    "fits.info('j94f05bgq_flt.fits.gz')"
   ]
  },
  {
   "cell_type": "code",
   "execution_count": null,
   "metadata": {},
   "outputs": [],
   "source": [
    "type(f)"
   ]
  },
  {
   "cell_type": "markdown",
   "metadata": {},
   "source": [
    "Los objetos de archivo FITS, llamados `HDUList`, son similares a listas. Los HDU individuales se indexan como listas:"
   ]
  },
  {
   "cell_type": "code",
   "execution_count": null,
   "metadata": {},
   "outputs": [],
   "source": [
    "f[1]"
   ]
  },
  {
   "cell_type": "markdown",
   "metadata": {},
   "source": [
    "O utilizando una tupla del tipo (EXTNAME, EXTVER)."
   ]
  },
  {
   "cell_type": "code",
   "execution_count": null,
   "metadata": {},
   "outputs": [],
   "source": [
    "f[(\"SCI\", 1)]"
   ]
  },
  {
   "cell_type": "markdown",
   "metadata": {},
   "source": [
    "## Examinar la cabecera"
   ]
  },
  {
   "cell_type": "markdown",
   "metadata": {},
   "source": [
    "Los encabezados (headers) son similares a diccionarios de Python. Aquí vamos a examinar un encabezado, modificar una palabra clave existente y agregar un nuevo registro (card)."
   ]
  },
  {
   "cell_type": "code",
   "execution_count": null,
   "metadata": {},
   "outputs": [],
   "source": [
    "keyname = 'CRPIX1'\n",
    "extnum = 1\n",
    "\n",
    "with fits.open('j94f05bgq_flt.fits.gz', mode='update') as f:\n",
    "    value = f[extnum].header.get(keyname)  # None si no existe\n",
    "    print(\"{}: {}\".format(keyname, value))\n",
    "    f[extnum].header[keyname] = value + 1  # Reasignar la palabra clave\n",
    "    print(\"Actualizado {}: {}\".format(keyname, f[extnum].header[keyname]))"
   ]
  },
  {
   "cell_type": "markdown",
   "metadata": {},
   "source": [
    "Existen varias formas de agregar un nuevo registro (card) al encabezado.\n",
    "\n",
    "Nota: Intentar acceder a una palabra clave que no existe genera un *KeyError*."
   ]
  },
  {
   "cell_type": "code",
   "execution_count": null,
   "metadata": {},
   "outputs": [],
   "source": [
    "f[extnum].header['observer'] = \"Edwin Hubble\"\n",
    "f[extnum].header  # Desplázate hasta el final para ver OBSERVER"
   ]
  },
  {
   "cell_type": "code",
   "execution_count": null,
   "metadata": {},
   "outputs": [],
   "source": [
    "# Usa \"insert()\" para controlar en qué lugar insertar la nueva palabra clave.\n",
    "# Aquí, la tupla es (KEYWORD, VALUE, COMMENT).\n",
    "f[extnum].header.insert('OBSERVER', ('NOBS', 2, \"Numero de noches de observacion\"))\n",
    "f[extnum].header  # Desplázate hasta el final para ver NOBS insertado antes de OBSERVER"
   ]
  },
  {
   "cell_type": "code",
   "execution_count": null,
   "metadata": {},
   "outputs": [],
   "source": [
    "# La palabra clave en el encabezado FITS tampoco distingue entre mayúsculas y minúsculas.\n",
    "print('observer:', f[extnum].header['OBSERVER'])\n",
    "print('{}: {}'.format(f[extnum].header.comments['NOBS'], f[extnum].header['NOBS']))"
   ]
  },
  {
   "cell_type": "markdown",
   "metadata": {},
   "source": [
    "## Trabajando con imagenes FITS"
   ]
  },
  {
   "cell_type": "code",
   "execution_count": null,
   "metadata": {},
   "outputs": [],
   "source": [
    "with fits.open('pix.fits.gz') as f:\n",
    "    f.info()\n",
    "    scidata = f[0].data.copy()"
   ]
  },
  {
   "cell_type": "markdown",
   "metadata": {},
   "source": [
    "Una imagen es un NumPy array guardado como la parte de datos (data) de un HDU."
   ]
  },
  {
   "cell_type": "code",
   "execution_count": null,
   "metadata": {},
   "outputs": [],
   "source": [
    "print(scidata.shape)\n",
    "print(scidata.dtype)"
   ]
  },
  {
   "cell_type": "markdown",
   "metadata": {},
   "source": [
    "`scidata` es una copia del array de datos del HDU. Si lo modificas, no afectará los datos en el archivo FITS."
   ]
  },
  {
   "cell_type": "code",
   "execution_count": null,
   "metadata": {},
   "outputs": [],
   "source": [
    "# Todas las operaciones disponibles para NDArray se pueden aplicar al arreglo de datos FITS.\n",
    "scidata[2:10, 3:7].mean()"
   ]
  },
  {
   "cell_type": "markdown",
   "metadata": {},
   "source": [
    "`astropy.io.fits` ofrece funciones prácticas para trabajar con archivos FITS. Son útiles para consultas rápidas e interactivas. "
   ]
  },
  {
   "cell_type": "markdown",
   "metadata": {},
   "source": [
    "### Visualizando con `matplotlib`"
   ]
  },
  {
   "cell_type": "code",
   "execution_count": null,
   "metadata": {},
   "outputs": [],
   "source": [
    "from astropy.visualization import imshow_norm, PercentileInterval, LogStretch\n",
    "from matplotlib import pyplot as plt\n",
    "\n",
    "%matplotlib inline"
   ]
  },
  {
   "cell_type": "markdown",
   "metadata": {},
   "source": [
    "Para imágenes astronómicas, puedes usar `astropy.visualization` para [normalizar y estirar](https://docs.astropy.org/en/stable/visualization/normalization.html) la visualización. (`astropy.visualization` se cubrirá con más detalle en una sección posterior.) Aquí, queremos que sea logarítmica."
   ]
  },
  {
   "cell_type": "code",
   "execution_count": null,
   "metadata": {},
   "outputs": [],
   "source": [
    "# Mostrar la imagen (puedes ignorar las advertencias si aparecen)\n",
    "fig, ax = plt.subplots()\n",
    "im, norm = imshow_norm(\n",
    "    scidata, ax, origin='lower',\n",
    "        interval=PercentileInterval(99.9), stretch=LogStretch())\n",
    "fig.colorbar(im)"
   ]
  },
  {
   "cell_type": "markdown",
   "metadata": {},
   "source": [
    "`matplotlib` tiene varios mapas de color incorporados que se pueden usar para representar datos. Puedes ver todas las opciones en el [sitio web de matplotlib](https://matplotlib.org/examples/color/colormaps_reference.html)."
   ]
  },
  {
   "cell_type": "code",
   "execution_count": null,
   "metadata": {},
   "outputs": [],
   "source": [
    "fig, ax = plt.subplots()\n",
    "im, norm = imshow_norm(\n",
    "    scidata, ax, origin='lower', cmap='gray',\n",
    "    interval=PercentileInterval(99.9), stretch=LogStretch())\n",
    "fig.colorbar(im)"
   ]
  },
  {
   "cell_type": "markdown",
   "metadata": {},
   "source": [
    "## Trabajando con tablas FITS"
   ]
  },
  {
   "cell_type": "markdown",
   "metadata": {},
   "source": [
    "**Nota**: El método recomendado para leer y escribir una sola tabla FITS es usar la [interfaz unificada de entrada/salida (I/O)](https://docs.astropy.org/en/stable/io/unified.html#table-io-fits):\n",
    "\n",
    "    from astropy.table import Table\n",
    "    t = Table.read('data.fits')\n",
    "\n",
    "También mostramos un ejemplo usando [astropy.io.fits](https://docs.astropy.org/en/stable/io/fits/index.html#) a continuación, ya que existe mucho código heredado que lo utiliza:\n",
    "\n",
    "    with fits.open('data.fits') as hdu_list:\n",
    "        hdu_list.info()\n",
    "        table_data = hdu_list[1].data\n",
    "        print('Nombres de las columnas: \\n', table_data.names)\n",
    "        print('\\nFila 1: \\n', table_data[1])\n",
    "        print('\\nColumna \"time\": \\n', table_data.field('time'))\n",
    "        print('\\nNúmero de filas: \\n', len(table_data))"
   ]
  },
  {
   "cell_type": "code",
   "execution_count": null,
   "metadata": {},
   "outputs": [],
   "source": [
    "from astropy.table import QTable\n",
    "from astropy.utils.data import download_file"
   ]
  },
  {
   "cell_type": "code",
   "execution_count": null,
   "metadata": {},
   "outputs": [],
   "source": [
    "table_filename = download_file('http://data.astropy.org/tutorials/FITS-tables/chandra_events.fits', cache=True)"
   ]
  },
  {
   "cell_type": "code",
   "execution_count": null,
   "metadata": {},
   "outputs": [],
   "source": [
    "# Cuando una tabla contiene columnas con unidades, se puede usar QTable en lugar de Table.\n",
    "tab = QTable.read(table_filename, hdu=1)"
   ]
  },
  {
   "cell_type": "code",
   "execution_count": null,
   "metadata": {},
   "outputs": [],
   "source": [
    "tab.colnames"
   ]
  },
  {
   "cell_type": "code",
   "execution_count": null,
   "metadata": {},
   "outputs": [],
   "source": [
    "tab[0]  # Primera fila"
   ]
  },
  {
   "cell_type": "code",
   "execution_count": null,
   "metadata": {},
   "outputs": [],
   "source": [
    "tab['time']"
   ]
  },
  {
   "cell_type": "code",
   "execution_count": null,
   "metadata": {},
   "outputs": [],
   "source": [
    "print(\"Numero de filas:\", len(tab))"
   ]
  },
  {
   "cell_type": "markdown",
   "metadata": {},
   "source": [
    "### Visualizando con `matplotlib`\n",
    "#### Histograma 1D"
   ]
  },
  {
   "cell_type": "code",
   "execution_count": null,
   "metadata": {},
   "outputs": [],
   "source": [
    "fig, ax = plt.subplots()\n",
    "ax.hist(tab['energy'].value, bins=128, log=True)\n",
    "ax.semilogy()\n",
    "ax.set_xlabel(\"eV\")\n",
    "\n",
    "# El punto y coma al final suprime la salida adicional de matplotlib en notebooks.\n",
    "ax.set_ylabel(\"Conteos por bin\");"
   ]
  },
  {
   "cell_type": "markdown",
   "metadata": {},
   "source": [
    "#### Histograma 2D"
   ]
  },
  {
   "cell_type": "code",
   "execution_count": null,
   "metadata": {},
   "outputs": [],
   "source": [
    "from matplotlib.colors import LogNorm\n",
    "\n",
    "fig, ax = plt.subplots()\n",
    "h = ax.hist2d(tab['x'].value, tab['y'].value,\n",
    "              bins=(1000, 1000), norm=LogNorm())\n",
    "fig.colorbar(h[3]);"
   ]
  },
  {
   "cell_type": "markdown",
   "metadata": {},
   "source": [
    "### Trabajando con archivos grandes"
   ]
  },
  {
   "cell_type": "markdown",
   "metadata": {},
   "source": [
    "La función `open()` admite la opción `memmap=True`, que permite acceder a los datos del arreglo de cada HDU mediante mapeo de memoria, en lugar de cargarlos completamente en memoria de una sola vez. Esto es especialmente útil para trabajar con arreglos muy grandes que no caben por completo en la memoria física.\n",
    "\n",
    "Para más detalles, consulta https://astropy.readthedocs.io/en/stable/io/fits/index.html#working-with-large-files."
   ]
  },
  {
   "cell_type": "markdown",
   "metadata": {},
   "source": [
    "---\n",
    "# Abrir un archivo ASCII"
   ]
  },
  {
   "cell_type": "markdown",
   "metadata": {},
   "source": [
    "¿Qué pasa si tus datos están en un archivo de texto? Hemos incluido `throughput.txt` como ejemplo.\n",
    "\n",
    "    Valores de rendimiento del detector\n",
    "    ——\n",
    "    Longitud_onda_micrones Rendimiento\n",
    "    2.0004663860000003 1.7911368754631042e-12\n",
    "    2.002074478 2.5344376991635788e-12\n",
    "    2.00368257 3.3872207023255276e-12\n",
    "    2.005290662 2.891853959468528e-12\n",
    "    ...         ...\n"
   ]
  },
  {
   "cell_type": "markdown",
   "metadata": {},
   "source": [
    "Python tiene un método incorporado para abrir archivos de texto como archivos ASCII, pero no es muy amigable. Veamos cómo funciona:"
   ]
  },
  {
   "cell_type": "code",
   "execution_count": null,
   "metadata": {},
   "outputs": [],
   "source": [
    "with open('throughput.txt') as f:\n",
    "    throughput_data = f.read()\n",
    "\n",
    "print(type(throughput_data))\n",
    "print(len(throughput_data))\n",
    "\n",
    "# ¿Y ahora qué? ¿Cómo extraemos los datos?"
   ]
  },
  {
   "cell_type": "markdown",
   "metadata": {},
   "source": [
    "Afortunadamente, Astropy incluye un paquete para manejar archivos ASCII que separa inmediatamente los datos en filas y columnas, y los carga en una tabla fácil de usar:"
   ]
  },
  {
   "cell_type": "code",
   "execution_count": null,
   "metadata": {},
   "outputs": [],
   "source": [
    "from astropy import units as u\n",
    "from astropy.table import QTable"
   ]
  },
  {
   "cell_type": "markdown",
   "metadata": {},
   "source": [
    "Como nuestro archivo tiene un par de líneas de comentarios al inicio, necesitamos indicarle al lector que empiece a leer el encabezado en la línea 2 y los datos en la línea 3. También renombraremos las columnas pasando `names`."
   ]
  },
  {
   "cell_type": "code",
   "execution_count": null,
   "metadata": {},
   "outputs": [],
   "source": [
    "throughput_data = QTable.read(\n",
    "    'throughput.txt', format='ascii.basic', data_start=3, header_start=2,\n",
    "    names=['lambda', 'rendimiento'])\n",
    "\n",
    "# Asignar la unidad correcta a la columna de longitud de onda.\n",
    "throughput_data['lambda'].unit = u.micron\n",
    "\n",
    "throughput_data"
   ]
  },
  {
   "cell_type": "markdown",
   "metadata": {},
   "source": [
    "El módulo ASCII de Astropy puede leer archivos con una variedad de formatos y extensiones, incluyendo separados por comas (CSV), delimitados por tabuladores, de ancho fijo, HTML, reStructuredText, y más. Consulta la [documentación de Astropy](https://docs.astropy.org/en/stable/io/ascii/#supported-formats) para una lista completa."
   ]
  },
  {
   "cell_type": "markdown",
   "metadata": {},
   "source": [
    "### Visualizando con `matplotlib`"
   ]
  },
  {
   "cell_type": "code",
   "execution_count": null,
   "metadata": {},
   "outputs": [],
   "source": [
    "from astropy.visualization import quantity_support\n",
    "\n",
    "with quantity_support():\n",
    "    fig, ax = plt.subplots()\n",
    "    ax.plot(throughput_data['lambda'], throughput_data['rendimiento'])\n",
    "    ax.set_title('Ejemplo de Filtro')"
   ]
  },
  {
   "cell_type": "code",
   "execution_count": null,
   "metadata": {},
   "outputs": [],
   "source": []
  }
 ],
 "metadata": {
  "anaconda-cloud": {},
  "kernelspec": {
   "display_name": "Python 3 (ipykernel)",
   "language": "python",
   "name": "python3"
  },
  "language_info": {
   "codemirror_mode": {
    "name": "ipython",
    "version": 3
   },
   "file_extension": ".py",
   "mimetype": "text/x-python",
   "name": "python",
   "nbconvert_exporter": "python",
   "pygments_lexer": "ipython3",
   "version": "3.11.7"
  }
 },
 "nbformat": 4,
 "nbformat_minor": 4
}
