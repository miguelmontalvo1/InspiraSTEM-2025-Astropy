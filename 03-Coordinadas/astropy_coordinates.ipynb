{
 "cells": [
  {
   "cell_type": "markdown",
   "metadata": {},
   "source": [
    "# Una visión general de `astropy.coordinates`:\n",
    "\n",
    "### Cruce de catálogos, planificación de observaciones y manejo de velocidades estelares"
   ]
  },
  {
   "cell_type": "markdown",
   "metadata": {},
   "source": [
    "Los astrónomos utilizan una gran variedad de sistemas y formatos de coordenadas para representar las posiciones en el cielo de objetos celestes. Por ejemplo, quizás estés familiarizado con términos como “ascensión recta” y “declinación” o “latitud/longitud galáctica”, y tal vez hayas visto coordenadas angulares representadas como “0h39m15.9s”, “00:39:15.9” o 9.81625º. El módulo `astropy.coordinates` proporciona herramientas para representar coordenadas de objetos y transformarlas entre distintos sistemas.\n",
    "\n",
    "En este tutorial, exploraremos cómo el paquete `astropy.coordinates` y otras funcionalidades relacionadas de Astropy pueden ayudarte en la planificación de observaciones u otras tareas centradas en catálogos de coordenadas extensos.\n",
    "\n",
    "Puede ser útil tener abierta [la documentación de Astropy para el paquete de coordenadas](http://docs.astropy.org/en/stable/coordinates/index.html) mientras trabajas con este tutorial como referencia o para lecturas adicionales. En el texto a continuación, también verás algunos enlaces como ([docs](http://docs.astropy.org/en/stable/coordinates/index.html)). Estos te llevarán directamente a partes de la documentación relevantes para la celda desde la que provienen.\n",
    "\n",
    "Algunos de los ejercicios a continuación son bastante complejos de resolver. Por esta razón, proporcionamos una posible solución para cada uno (¡aunque hay muchas respuestas posibles correctas!). También ten en cuenta que probablemente no haya suficiente tiempo para completar *todos* los ejercicios durante el tiempo disponible. Así que si te quedas atascado o no estás interesado en un ejercicio, te animamos a que lo omitas y regreses solo si más adelante tienes tiempo."
   ]
  },
  {
   "cell_type": "markdown",
   "metadata": {},
   "source": [
    "### Importaciones preliminares\n",
    "\n",
    "Comenzamos importando algunos paquetes generales que necesitaremos más adelante:\n"
   ]
  },
  {
   "cell_type": "code",
   "execution_count": null,
   "metadata": {},
   "outputs": [],
   "source": [
    "%matplotlib inline\n",
    "from matplotlib import pyplot as plt\n",
    "import numpy as np"
   ]
  },
  {
   "cell_type": "markdown",
   "metadata": {},
   "source": [
    "Nota: Si la siguiente celda falla, asegúrese de haber instalado `astroquery` ejecutando:\n",
    "```\n",
    "pip install astroquery\n",
    "```\n",
    "en su terminal. Si es así, deberá ir a \"Kernel -> Reiniciar\" en este notebook después de instalarlo."
   ]
  },
  {
   "cell_type": "code",
   "execution_count": null,
   "metadata": {},
   "outputs": [],
   "source": [
    "from astropy import units as u\n",
    "from astropy.coordinates import SkyCoord, Distance\n",
    "from astropy.io import fits\n",
    "from astropy.table import QTable\n",
    "from astropy.utils.data import download_file"
   ]
  },
  {
   "cell_type": "markdown",
   "metadata": {},
   "source": [
    "### Prefacio: representación del tiempo\n",
    "\n",
    "¡Mantener el tiempo puede ser un asunto complicado, pero astropy puede facilitarlo! Existen muchas unidades diferentes que podrías necesitar usar, y muchas convenciones distintas para representar esos tiempos, todas implementadas en astropy.\n",
    "\n",
    "Primero, importamos el objeto `Time` y representamos un momento utilizando una fecha Juliana:"
   ]
  },
  {
   "cell_type": "code",
   "execution_count": null,
   "metadata": {},
   "outputs": [],
   "source": [
    "from astropy.time import Time\n",
    "\n",
    "t = Time(2455000, format='jd')\n",
    "\n",
    "## Alternativamente, puede inicializar el mismo momento con:\n",
    "# t = Time('2009-06-17 12:00')\n",
    "\n",
    "t"
   ]
  },
  {
   "cell_type": "markdown",
   "metadata": {},
   "source": [
    "Puede ver que por defecto la escala de tiempo está en UTC, el formato proporcionado fue JD y se representa en ese mismo formato a la derecha.\n",
    "\n",
    "Puede convertir fácilmente entre formatos de tiempo llamando al nombre del formato deseado como un atributo del objeto de tiempo, así:"
   ]
  },
  {
   "cell_type": "code",
   "execution_count": null,
   "metadata": {},
   "outputs": [],
   "source": [
    "t.jd, t.iso, t.datetime"
   ]
  },
  {
   "cell_type": "markdown",
   "metadata": {},
   "source": [
    "Supongamos que desea convertir a una escala diferente, por ejemplo de UTC a UT1, simplemente agregue `ut1` como atributo:"
   ]
  },
  {
   "cell_type": "code",
   "execution_count": null,
   "metadata": {},
   "outputs": [],
   "source": [
    "t.ut1.iso"
   ]
  },
  {
   "cell_type": "markdown",
   "metadata": {},
   "source": [
    "Puede inicializar rápidamente un arreglo vectorial de tiempos con 10 valores linealmente espaciados, comenzando en el tiempo actual, de la siguiente manera:"
   ]
  },
  {
   "cell_type": "code",
   "execution_count": null,
   "metadata": {},
   "outputs": [],
   "source": [
    "times = Time.now() + np.linspace(0, 1, 10) * u.day\n",
    "times"
   ]
  },
  {
   "cell_type": "markdown",
   "metadata": {},
   "source": [
    "## Representación de posiciones en el cielo con `astropy.coordinates`\n",
    "\n",
    "En Astropy, la forma más común de representar y trabajar con coordenadas celestes es mediante el objeto `SkyCoord`. Un objeto `SkyCoord` puede crearse directamente a partir de ángulos o arreglos de ángulos con sus unidades asociadas, como se muestra a continuación.\n",
    "\n",
    "Para comenzar, supongamos que queremos crear un objeto `SkyCoord` para el centro del cúmulo abierto NGC 188, de modo que más adelante podamos consultar y recuperar estrellas que podrían ser miembros del cúmulo. Supongamos también, por ahora, que ya conocemos las coordenadas celestes del cúmulo: (12.11, 85.26) grados en el sistema de coordenadas ICRS. El ICRS —a veces llamado sistema “ecuatorial” o “J2000”— es actualmente el sistema de coordenadas astronómicas más común para la astronomía estelar o extragaláctica, y es el sistema predeterminado de coordenadas para `SkyCoord`. Por lo tanto, podríamos crear un objeto `SkyCoord` para el centro de NGC 188 así:"
   ]
  },
  {
   "cell_type": "code",
   "execution_count": null,
   "metadata": {},
   "outputs": [],
   "source": [
    "ngc188_center = SkyCoord(12.11*u.deg, 85.26*u.deg)\n",
    "ngc188_center"
   ]
  },
  {
   "cell_type": "markdown",
   "metadata": {},
   "source": [
    "Se recomienda en general especificar explícitamente el sistema de referencia en el que se encuentran sus coordenadas. En este caso, dado que ICRS es el sistema predeterminado, esta sería una forma equivalente de crear nuestro objeto `SkyCoord`:"
   ]
  },
  {
   "cell_type": "code",
   "execution_count": null,
   "metadata": {},
   "outputs": [],
   "source": [
    "ngc188_center = SkyCoord(12.11*u.deg, 85.26*u.deg, frame='icrs')\n",
    "ngc188_center"
   ]
  },
  {
   "cell_type": "markdown",
   "metadata": {},
   "source": [
    "Como veremos más adelante, existen muchos otros sistemas de coordenadas compatibles.\n",
    "\n",
    "En las inicializaciones anteriores, proporcionamos objetos `astropy.units.Quantity` con unidades angulares para especificar los componentes angulares de nuestras coordenadas celestes. Sin embargo, `SkyCoord` también acepta coordenadas en formato de cadena de texto, ya sea como cadenas separadas para Ascensión Recta (RA) y Declinación (Dec), o como una sola cadena:"
   ]
  },
  {
   "cell_type": "code",
   "execution_count": null,
   "metadata": {},
   "outputs": [],
   "source": [
    "SkyCoord('00h48m26.4s', '85d15m36s', frame='icrs')"
   ]
  },
  {
   "cell_type": "markdown",
   "metadata": {},
   "source": [
    "Algunas representaciones en cadena de texto no definen explícitamente las unidades, por lo que deberá especificarlas de forma explícita si no están incluidas en la cadena de texto:"
   ]
  },
  {
   "cell_type": "code",
   "execution_count": null,
   "metadata": {},
   "outputs": [],
   "source": [
    "SkyCoord('00:48:26.4 85:15:36', unit=(u.hour, u.deg), \n",
    "         frame='icrs')"
   ]
  },
  {
   "cell_type": "markdown",
   "metadata": {},
   "source": [
    "Para más información y ejemplos sobre cómo inicializar objetos `SkyCoord`, [consulte esta documentación](http://docs.astropy.org/en/latest/coordinates/skycoord.html)."
   ]
  },
  {
   "cell_type": "markdown",
   "metadata": {},
   "source": [
    "Para las inicializaciones anteriores, asumimos que ya teníamos los valores de las componentes de coordenadas disponibles. Si no conoce los valores de las coordenadas, y el objeto que le interesa se encuentra en [SESAME](http://cdsweb.u-strasbg.fr/cgi-bin/Sesame), también puede buscar y cargar automáticamente las coordenadas a partir del nombre del objeto utilizando el método de clase `SkyCoord.from_name()`<sup>1</sup> ([documentación](http://docs.astropy.org/en/latest/coordinates/index.html#convenience-methods)). Tenga en cuenta, sin embargo, que esto requiere una conexión a internet. Puede omitir esta celda con seguridad si no está conectado, ya que el objeto ya fue definido anteriormente.\n",
    "\n",
    "<sub><sup>1</sup>Si no sabe qué es un método de clase, puede pensarlo como un constructor alternativo para un objeto `SkyCoord`: al llamar `SkyCoord.from_name()` con un nombre, se genera un nuevo objeto `SkyCoord`. Para una explicación más detallada sobre qué son los métodos de clase y cuándo son útiles, consulte [esta página](https://julien.danjou.info/blog/2013/guide-python-static-class-abstract-methods).</sub>"
   ]
  },
  {
   "cell_type": "code",
   "execution_count": null,
   "metadata": {},
   "outputs": [],
   "source": [
    "# NOTA: omita esta celda si no tiene conexión a internet\n",
    "\n",
    "ngc188_center = SkyCoord.from_name('NGC 188')\n",
    "ngc188_center"
   ]
  },
  {
   "cell_type": "markdown",
   "metadata": {},
   "source": [
    "El objeto `SkyCoord` que creamos tiene varias formas de acceder a la información que contiene. Todos los objetos `SkyCoord` tienen atributos que le permiten recuperar los datos de las componentes de coordenadas, pero los nombres de las componentes cambiarán dependiendo del sistema de coordenadas del `SkyCoord` que tenga. \n",
    "\n",
    "En nuestro caso, tenemos un `SkyCoord` con coordenadas en el sistema ICRS: por lo tanto, los nombres de las componentes son abreviaciones en minúsculas de Ascensión Recta, `.ra`, y Declinación, `.dec`:"
   ]
  },
  {
   "cell_type": "code",
   "execution_count": null,
   "metadata": {},
   "outputs": [],
   "source": [
    "ngc188_center.ra, ngc188_center.dec"
   ]
  },
  {
   "cell_type": "markdown",
   "metadata": {},
   "source": [
    "Los atributos ``ra`` y ``dec`` devuelven objetos especializados de tipo [``Quantity``](http://docs.astropy.org/en/stable/units/index.html) (en realidad, una subclase llamada [``Angle``](http://docs.astropy.org/en/stable/api/astropy.coordinates.Angle.html), que a su vez es subclasificada por [``Latitude``](http://docs.astropy.org/en/stable/api/astropy.coordinates.Latitude.html) y [``Longitude``](http://docs.astropy.org/en/stable/api/astropy.coordinates.Longitude.html)).\n",
    "\n",
    "Estos objetos almacenan ángulos y proporcionan representaciones elegantes de esos ángulos, además de atributos útiles para convertir rápidamente a unidades angulares comunes. Por ejemplo, en un notebook de Jupyter, estos objetos saben cómo representarse a sí mismos utilizando LaTeX:"
   ]
  },
  {
   "cell_type": "code",
   "execution_count": null,
   "metadata": {},
   "outputs": [],
   "source": [
    "ngc188_center.ra"
   ]
  },
  {
   "cell_type": "code",
   "execution_count": null,
   "metadata": {},
   "outputs": [],
   "source": [
    "ngc188_center.dec"
   ]
  },
  {
   "cell_type": "markdown",
   "metadata": {},
   "source": [
    "También podemos obtener los valores de las componentes en diferentes unidades:"
   ]
  },
  {
   "cell_type": "code",
   "execution_count": null,
   "metadata": {},
   "outputs": [],
   "source": [
    "ngc188_center.ra.hour, ngc188_center.ra.radian, ngc188_center.ra.degree"
   ]
  },
  {
   "cell_type": "markdown",
   "metadata": {},
   "source": [
    "Y podemos formatear los valores en cadenas de texto con unidades específicas ([documentación](http://docs.astropy.org/en/latest/coordinates/formatting.html)), por ejemplo:"
   ]
  },
  {
   "cell_type": "code",
   "execution_count": null,
   "metadata": {},
   "outputs": [],
   "source": [
    "ngc188_center.ra.to_string(unit=u.hourangle, sep=':')"
   ]
  },
  {
   "cell_type": "markdown",
   "metadata": {},
   "source": [
    "Ahora que tenemos un objeto `SkyCoord` para el centro de NGC 188, podemos seleccionar fuentes del catálogo de la segunda entrega de datos de *Gaia* (*Gaia* Data Release 2) alrededor de esta posición, para intentar identificar estrellas que podrían ser miembros del cúmulo.\n",
    "\n",
    "Para ello, utilizaremos el módulo `astroquery.gaia` para consultar el archivo de datos de *Gaia* ([documentación](https://astroquery.readthedocs.io/en/latest/gaia/gaia.html)).\n",
    "\n",
    "Esto requiere una conexión a internet. Sin embargo, si la consulta falla, el archivo del catálogo está incluido en el repositorio, por lo que puedes cargarlo localmente (es decir, omite la siguiente celda si no tienes conexión a internet):\n"
   ]
  },
  {
   "cell_type": "code",
   "execution_count": null,
   "metadata": {},
   "outputs": [],
   "source": [
    "from astroquery.gaia import Gaia"
   ]
  },
  {
   "cell_type": "code",
   "execution_count": null,
   "metadata": {},
   "outputs": [],
   "source": [
    "# NOTA: omite esta celda si no tiene conexión a internet\n",
    "\n",
    "job = Gaia.cone_search_async(ngc188_center, radius=0.5*u.deg)\n",
    "table = job.get_results()\n",
    "\n",
    "# conservar solo las estrellas más brillantes que magnitud G = 19\n",
    "table = table[table['phot_g_mean_mag'] < 19*u.mag]"
   ]
  },
  {
   "cell_type": "markdown",
   "metadata": {},
   "source": [
    "La celda anterior puede que no funcione si no tiene conexión a internet, por lo que hemos incluido la tabla de resultados junto con el notebook:"
   ]
  },
  {
   "cell_type": "code",
   "execution_count": null,
   "metadata": {},
   "outputs": [],
   "source": [
    "table = QTable.read('gaia_results.fits')"
   ]
  },
  {
   "cell_type": "code",
   "execution_count": null,
   "metadata": {},
   "outputs": [],
   "source": [
    "len(table)"
   ]
  },
  {
   "cell_type": "markdown",
   "metadata": {},
   "source": [
    "Esta tabla ahora contiene aproximadamente 5000 estrellas del catálogo *Gaia* DR2 alrededor de la posición de coordenadas del centro de NGC 188. \n",
    "\n",
    "Ahora construyamos un objeto `SkyCoord` a partir de la tabla de resultados. En el archivo de datos de *Gaia*, las coordenadas ICRS de una fuente se proporcionan en las columnas con los nombres `\"ra\"` y `\"dec\"`:"
   ]
  },
  {
   "cell_type": "code",
   "execution_count": null,
   "metadata": {},
   "outputs": [],
   "source": [
    "table['ra']"
   ]
  },
  {
   "cell_type": "code",
   "execution_count": null,
   "metadata": {},
   "outputs": [],
   "source": [
    "table['dec']"
   ]
  },
  {
   "cell_type": "markdown",
   "metadata": {},
   "source": [
    "Tenga en cuenta que, dado que el archivo de *Gaia* proporciona tablas de datos con unidades asociadas, y leímos esta tabla utilizando el objeto `QTable` ([documentación](http://docs.astropy.org/en/latest/table/mixin_columns.html#quantity-and-qtable)), las columnas mencionadas están representadas como objetos `Quantity` con unidades en grados.\n",
    "\n",
    "También es importante notar que estas columnas contienen muchas coordenadas (¡más de 5000!). Podemos pasar estos valores directamente a `SkyCoord` para obtener un solo objeto `SkyCoord` que represente todas estas coordenadas:"
   ]
  },
  {
   "cell_type": "code",
   "execution_count": null,
   "metadata": {},
   "outputs": [],
   "source": [
    "gaia_coords = SkyCoord(table['ra'], table['dec'])\n",
    "gaia_coords"
   ]
  },
  {
   "cell_type": "markdown",
   "metadata": {},
   "source": [
    "### Ejercicios"
   ]
  },
  {
   "cell_type": "markdown",
   "metadata": {},
   "source": [
    "Crea un objeto `SkyCoord` del cúmulo abierto de las Pléyades (puedes buscar las coordenadas y pasarlas directamente, o usar el método conveniente que aprendimos anteriormente):"
   ]
  },
  {
   "cell_type": "code",
   "execution_count": null,
   "metadata": {},
   "outputs": [],
   "source": []
  },
  {
   "cell_type": "markdown",
   "metadata": {},
   "source": [
    "Usando únicamente una sola llamada a un método/función en el objeto `SkyCoord` que representa el centro de NGC 188, imprime una cadena con las coordenadas RA/Dec en el formato 'HH:MM:SS.S DD:MM:SS.S'. Verifica tu respuesta en [SIMBAD](http://simbad.u-strasbg.fr/simbad/), donde se muestran las coordenadas en formato sexagesimal para el objeto.\n",
    "\n",
    "<sub>(Pista: `SkyCoord.to_string()` podría ser útil.)</sub>"
   ]
  },
  {
   "cell_type": "code",
   "execution_count": null,
   "metadata": {},
   "outputs": [],
   "source": []
  },
  {
   "cell_type": "markdown",
   "metadata": {},
   "source": [
    "Usando una sola llamada a un método/función en el objeto `SkyCoord` que contiene los resultados de nuestra consulta a *Gaia*, calcula la separación angular entre cada estrella resultante y las coordenadas del centro del cúmulo.\n",
    "\n",
    "<sub>(Pista: `SkyCoord.separation()` podría ser útil.)</sub>"
   ]
  },
  {
   "cell_type": "code",
   "execution_count": null,
   "metadata": {},
   "outputs": [],
   "source": []
  },
  {
   "cell_type": "markdown",
   "metadata": {},
   "source": [
    "---\n",
    "\n",
    "## Más que solo posiciones en el cielo: Incluir información de distancia en `SkyCoord`\n",
    "\n",
    "Hasta ahora, solo hemos usado `SkyCoord` para representar posiciones en el cielo (es decir, únicamente `ra` y `dec`). Sin embargo, a veces es útil incluir información de distancia junto con las coordenadas celestes, especificando así completamente la posición 3D de una fuente dada. Para incluir la información de distancia, `SkyCoord` acepta un argumento con palabra clave llamado `distance`. Por ejemplo, si conociéramos la distancia al cúmulo NGC 188, también podríamos pasarla (como un objeto `Quantity`) usando este argumento:"
   ]
  },
  {
   "cell_type": "code",
   "execution_count": null,
   "metadata": {},
   "outputs": [],
   "source": [
    "ngc188_center_3d = SkyCoord(12.11*u.deg, 85.26*u.deg,\n",
    "                            distance=1.96*u.kpc)"
   ]
  },
  {
   "cell_type": "markdown",
   "metadata": {},
   "source": [
    "Con los resultados de nuestra consulta al catálogo de *Gaia*, también se nos proporcionan mediciones de paralaje para cada estrella del catálogo. La forma predeterminada de proporcionar una distancia, como se mostró anteriormente, es pasando un objeto `Quantity` con una unidad de longitud. Sin embargo, `astropy.coordinates` también ofrece un objeto especializado llamado `Distance`, para manejar transformaciones comunes entre diferentes representaciones de distancia ([documentación](http://docs.astropy.org/en/latest/coordinates/index.html#distance)). Entre otras cosas, esta clase permite proporcionar un valor de paralaje (¡pero ten en cuenta que la transformación a distancia aquí invierte la paralaje, lo cual no siempre es una buena idea!):"
   ]
  },
  {
   "cell_type": "code",
   "execution_count": null,
   "metadata": {},
   "outputs": [],
   "source": [
    "Distance(parallax=1*u.mas)"
   ]
  },
  {
   "cell_type": "markdown",
   "metadata": {},
   "source": [
    "El catálogo de estrellas que consultamos de *Gaia* contiene información de paralaje, por lo que también podemos crear un objeto `SkyCoord` para representar las posiciones 3D de todas las estrellas de *Gaia*. Aquí, hacemos una subselección de la tabla para devolver únicamente las estrellas con valores positivos de paralaje:"
   ]
  },
  {
   "cell_type": "code",
   "execution_count": null,
   "metadata": {},
   "outputs": [],
   "source": [
    "table_3d = table[table['parallax'] > 0]\n",
    "\n",
    "gaia_dist = Distance(parallax=table_3d['parallax'])\n",
    "gaia_coords_3d = SkyCoord(table_3d['ra'], table_3d['dec'],\n",
    "                          distance=gaia_dist)\n",
    "gaia_coords_3d"
   ]
  },
  {
   "cell_type": "markdown",
   "metadata": {},
   "source": [
    "Ahora que tenemos información de posición 3D tanto para el centro del cúmulo como para las estrellas que consultamos de *Gaia*, podemos calcular la separación 3D (distancia) entre todas las fuentes de *Gaia* y el centro del cúmulo:"
   ]
  },
  {
   "cell_type": "code",
   "execution_count": null,
   "metadata": {},
   "outputs": [],
   "source": [
    "sep3d = gaia_coords_3d.separation_3d(ngc188_center_3d)\n",
    "sep3d"
   ]
  },
  {
   "cell_type": "markdown",
   "metadata": {},
   "source": [
    "### Ejercicios\n",
    "\n",
    "Usando los valores de separación 3D, define una máscara booleana para seleccionar los miembros candidatos del cúmulo. Selecciona todas las estrellas que estén dentro de 50 pc del centro del cúmulo. ¿Cuántos miembros candidatos de NGC 188 tenemos, basándonos en sus posiciones 3D?"
   ]
  },
  {
   "cell_type": "code",
   "execution_count": null,
   "metadata": {},
   "outputs": [],
   "source": []
  },
  {
   "cell_type": "markdown",
   "metadata": {},
   "source": [
    "## Material Extra\n",
    "\n",
    "Recapitulemos lo que hemos hecho hasta ahora: definimos un objeto `SkyCoord` para representar el centro de un cúmulo abierto (NGC 188), consultamos el catálogo *Gaia* DR2 para seleccionar estrellas que están cerca (en el cielo) del centro del cúmulo, y usamos los valores de paralaje de *Gaia* para seleccionar estrellas que están cerca de NGC 188 en posición 3D.\n",
    "\n",
    "Este tutorial cubre solo una introducción muy breve al uso de `astropy.coordinates`, pero el módulo tiene aún más funcionalidades que no pudimos abordar en este taller. Para consultar la documentación sobre otras características de `astropy.coordinates`, visita [la sección de astropy.coordinates en la documentación de Astropy](http://astropy.readthedocs.org/en/stable/coordinates/index.html)."
   ]
  }
 ],
 "metadata": {
  "anaconda-cloud": {},
  "astropy-tutorials": {
   "author": "Erik Tollerud <erik.tollerud@gmail.com>",
   "date": "July 2015",
   "description": "Demonstrates use of astropy.coordinates for common tasks. Includes matching catalogs against each other, basic observing planning tasks, and basic usage of coordinates.",
   "link_name": "Using astropy.coordinates to Match Catalogs and Plan Observations",
   "name": "",
   "published": true
  },
  "kernelspec": {
   "display_name": "Python 3 (ipykernel)",
   "language": "python",
   "name": "python3"
  },
  "language_info": {
   "codemirror_mode": {
    "name": "ipython",
    "version": 3
   },
   "file_extension": ".py",
   "mimetype": "text/x-python",
   "name": "python",
   "nbconvert_exporter": "python",
   "pygments_lexer": "ipython3",
   "version": "3.11.7"
  },
  "toc": {
   "base_numbering": 1,
   "nav_menu": {},
   "number_sections": true,
   "sideBar": true,
   "skip_h1_title": false,
   "title_cell": "Table of Contents",
   "title_sidebar": "Contents",
   "toc_cell": false,
   "toc_position": {},
   "toc_section_display": true,
   "toc_window_display": false
  }
 },
 "nbformat": 4,
 "nbformat_minor": 4
}
