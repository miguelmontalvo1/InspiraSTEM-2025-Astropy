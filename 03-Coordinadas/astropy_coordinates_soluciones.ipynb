{
 "cells": [
  {
   "cell_type": "markdown",
   "metadata": {},
   "source": [
    "# Una visión general de `astropy.coordinates`:\n",
    "\n",
    "\n",
    "### *Nota: Este notebook es una copia del notebook del tutorial con algunas celdas redundantes omitidas y con las soluciones de los ejercicios incluidas*"
   ]
  },
  {
   "cell_type": "markdown",
   "metadata": {},
   "source": [
    "### Importaciones preliminares\n",
    "\n",
    "Comenzamos importando algunos paquetes generales que necesitaremos más adelante:"
   ]
  },
  {
   "cell_type": "code",
   "execution_count": null,
   "metadata": {},
   "outputs": [],
   "source": [
    "%matplotlib inline\n",
    "from matplotlib import pyplot as plt\n",
    "import numpy as np"
   ]
  },
  {
   "cell_type": "markdown",
   "metadata": {},
   "source": [
    "Nota: Si la siguiente celda falla, asegúrate de haber instalado `astroquery` ejecutando:\n",
    "```\n",
    "pip install astroquery\n",
    "```\n",
    "en tu terminal. Si es así, necesitarás ir a \"Kernel->Restart\" en este notebook después de la instalación."
   ]
  },
  {
   "cell_type": "code",
   "execution_count": null,
   "metadata": {},
   "outputs": [],
   "source": [
    "from astropy import units as u\n",
    "from astropy.coordinates import SkyCoord, Distance\n",
    "from astropy.io import fits\n",
    "from astropy.table import QTable\n",
    "from astropy.utils.data import download_file"
   ]
  },
  {
   "cell_type": "markdown",
   "metadata": {},
   "source": [
    "## Representando ubicaciones en el cielo con `astropy.coordinates`\n",
    "\n",
    "En Astropy, la forma más común de representar y trabajar con coordenadas celestes es usar el objeto `SkyCoord`. Un `SkyCoord` puede crearse directamente a partir de ángulos o arreglos de ángulos con sus unidades asociadas, como se muestra a continuación.\n",
    "\n",
    "Para comenzar, supongamos que queremos crear un objeto `SkyCoord` para el centro del cúmulo abierto NGC 188, de modo que más adelante podamos consultar y obtener las estrellas que podrían ser miembros del cúmulo. Supongamos también, por ahora, que ya conocemos las coordenadas celestes del cúmulo como (12.11, 85.26) grados en el sistema de coordenadas ICRS. El ICRS — a veces referido simplemente como coordenadas \"ecuatoriales\" o \"J2000\" — es actualmente el sistema de coordenadas astronómicas más común para la astronomía estelar o extragaláctica, y es el sistema de coordenadas predeterminado para `SkyCoord`. Por lo tanto, podríamos crear un objeto `SkyCoord` para el centro de NGC 188 así:"
   ]
  },
  {
   "cell_type": "code",
   "execution_count": null,
   "metadata": {},
   "outputs": [],
   "source": [
    "ngc188_center = SkyCoord(12.11*u.deg, 85.26*u.deg)\n",
    "ngc188_center"
   ]
  },
  {
   "cell_type": "markdown",
   "metadata": {},
   "source": [
    "Generalmente se recomienda especificar explícitamente el sistema de coordenadas (frame) en el que están tus coordenadas; en este caso, como ICRS es el valor predeterminado, esta sería una forma equivalente de crear nuestro objeto `SkyCoord`:"
   ]
  },
  {
   "cell_type": "code",
   "execution_count": null,
   "metadata": {},
   "outputs": [],
   "source": [
    "ngc188_center = SkyCoord(12.11*u.deg, 85.26*u.deg, frame='icrs')\n",
    "ngc188_center"
   ]
  },
  {
   "cell_type": "markdown",
   "metadata": {},
   "source": [
    "Como veremos más adelante, existen muchos otros sistemas de coordenadas compatibles.\n",
    "\n",
    "En las inicializaciones anteriores, pasamos objetos `astropy.units.Quantity` con unidades angulares para especificar los componentes angulares de nuestras coordenadas celestes. Sin embargo, `SkyCoord` también acepta coordenadas en formato de cadena (string), ya sea como cadenas separadas para RA/Dec o como una sola cadena:"
   ]
  },
  {
   "cell_type": "code",
   "execution_count": null,
   "metadata": {},
   "outputs": [],
   "source": [
    "SkyCoord('00h48m26.4s', '85d15m36s', frame='icrs')"
   ]
  },
  {
   "cell_type": "markdown",
   "metadata": {},
   "source": [
    "Algunas representaciones en formato de cadena no definen explícitamente las unidades, por lo que tendrías que especificarlas explícitamente si no están incluidas en la cadena:"
   ]
  },
  {
   "cell_type": "code",
   "execution_count": null,
   "metadata": {},
   "outputs": [],
   "source": [
    "SkyCoord('00:48:26.4 85:15:36', unit=(u.hour, u.deg), \n",
    "         frame='icrs')"
   ]
  },
  {
   "cell_type": "markdown",
   "metadata": {},
   "source": [
    "Para más información y ejemplos sobre cómo inicializar objetos `SkyCoord`, [consulta esta documentación](http://docs.astropy.org/en/latest/coordinates/skycoord.html)."
   ]
  },
  {
   "cell_type": "markdown",
   "metadata": {},
   "source": [
    "El objeto `SkyCoord` que creamos tiene varias formas de acceder a la información contenida en él. Todos los objetos `SkyCoord` tienen atributos que te permiten obtener los datos de los componentes de las coordenadas, pero los nombres de estos componentes cambian según el sistema de coordenadas del `SkyCoord` que tengas. \n",
    "\n",
    "En nuestro caso, tenemos un `SkyCoord` con coordenadas ICRS: por lo tanto, los nombres de los componentes son abreviaturas en minúsculas de Ascensión Recta, `.ra`, y Declinación, `.dec`:"
   ]
  },
  {
   "cell_type": "code",
   "execution_count": null,
   "metadata": {},
   "outputs": [],
   "source": [
    "ngc188_center.ra, ngc188_center.dec"
   ]
  },
  {
   "cell_type": "markdown",
   "metadata": {},
   "source": [
    "Estos atributos `ra` y `dec` devuelven objetos especializados de tipo [``Quantity``](http://docs.astropy.org/en/stable/units/index.html) (en realidad, una subclase llamada [``Angle``](http://docs.astropy.org/en/stable/api/astropy.coordinates.Angle.html), que a su vez es subclase de [``Latitude``](http://docs.astropy.org/en/stable/api/astropy.coordinates.Latitude.html) y [``Longitude``](http://docs.astropy.org/en/stable/api/astropy.coordinates.Longitude.html)).  \n",
    "\n",
    "Estos objetos almacenan ángulos y proporcionan representaciones visualmente agradables de dichos ángulos, además de algunos atributos útiles para convertir rápidamente a unidades angulares comunes. Por ejemplo, en un notebook de Jupyter, estos objetos saben cómo representarse a sí mismos usando Latex:"
   ]
  },
  {
   "cell_type": "code",
   "execution_count": null,
   "metadata": {},
   "outputs": [],
   "source": [
    "ngc188_center.ra"
   ]
  },
  {
   "cell_type": "code",
   "execution_count": null,
   "metadata": {},
   "outputs": [],
   "source": [
    "ngc188_center.dec"
   ]
  },
  {
   "cell_type": "markdown",
   "metadata": {},
   "source": [
    "También podemos obtener los valores de los componentes en diferentes unidades:"
   ]
  },
  {
   "cell_type": "code",
   "execution_count": null,
   "metadata": {},
   "outputs": [],
   "source": [
    "ngc188_center.ra.hour, ngc188_center.ra.radian, ngc188_center.ra.degree"
   ]
  },
  {
   "cell_type": "markdown",
   "metadata": {},
   "source": [
    "Y formatear los valores en cadenas con unidades especificadas ([documentación](http://docs.astropy.org/en/latest/coordinates/formatting.html)), por ejemplo:"
   ]
  },
  {
   "cell_type": "code",
   "execution_count": null,
   "metadata": {},
   "outputs": [],
   "source": [
    "ngc188_center.ra.to_string(unit=u.hourangle, sep=':')"
   ]
  },
  {
   "cell_type": "markdown",
   "metadata": {},
   "source": [
    "Ahora que tenemos un objeto `SkyCoord` para el centro de NGC 188, podemos seleccionar fuentes del catálogo *Gaia* Data Release 2 alrededor de esta posición para intentar encontrar estrellas que podrían ser miembros del cúmulo. Para hacer esto, usaremos el módulo `astroquery.gaia` para consultar el archivo de datos de *Gaia* ([documentación](https://astroquery.readthedocs.io/en/latest/gaia/gaia.html)).\n",
    "\n",
    "Esto requiere una conexión a internet, pero si falla, el archivo del catálogo está incluido en el repositorio para que puedas cargarlo localmente (es decir, puedes saltarte la siguiente celda si no tienes conexión a internet):"
   ]
  },
  {
   "cell_type": "code",
   "execution_count": null,
   "metadata": {},
   "outputs": [],
   "source": [
    "from astroquery.gaia import Gaia"
   ]
  },
  {
   "cell_type": "code",
   "execution_count": null,
   "metadata": {},
   "outputs": [],
   "source": [
    "table = QTable.read('gaia_results.fits')"
   ]
  },
  {
   "cell_type": "code",
   "execution_count": null,
   "metadata": {},
   "outputs": [],
   "source": [
    "len(table)"
   ]
  },
  {
   "cell_type": "markdown",
   "metadata": {},
   "source": [
    "Esta tabla ahora contiene aproximadamente 5000 estrellas del *Gaia* DR2 alrededor de la posición coordenada del centro de NGC 188. Ahora construyamos un objeto `SkyCoord` con la tabla de resultados. En el archivo de datos de *Gaia*, las coordenadas ICRS de una fuente están dadas en las columnas llamadas `\"ra\"` y `\"dec\"`:"
   ]
  },
  {
   "cell_type": "code",
   "execution_count": null,
   "metadata": {},
   "outputs": [],
   "source": [
    "table['ra']"
   ]
  },
  {
   "cell_type": "code",
   "execution_count": null,
   "metadata": {},
   "outputs": [],
   "source": [
    "table['dec']"
   ]
  },
  {
   "cell_type": "markdown",
   "metadata": {},
   "source": [
    "Note que, dado que el archivo de datos de *Gaia* proporciona tablas con unidades asociadas, y que leímos esta tabla usando el objeto `QTable` ([docs](http://docs.astropy.org/en/latest/table/mixin_columns.html#quantity-and-qtable)), las columnas anteriores están representadas como objetos `Quantity` con unidades en grados. También observe que estas columnas contienen muchos valores de coordenadas (>5000): podemos pasarlos directamente a `SkyCoord` para obtener un único objeto `SkyCoord` que represente todas estas coordenadas:"
   ]
  },
  {
   "cell_type": "code",
   "execution_count": null,
   "metadata": {},
   "outputs": [],
   "source": [
    "gaia_coords = SkyCoord(table['ra'], table['dec'])\n",
    "gaia_coords"
   ]
  },
  {
   "cell_type": "markdown",
   "metadata": {},
   "source": [
    "### Ejercicios"
   ]
  },
  {
   "cell_type": "markdown",
   "metadata": {},
   "source": [
    "Crea un objeto `SkyCoord` del cúmulo abierto Las Pléyades (ya sea buscando las coordenadas y pasándolas directamente, o usando el método conveniente que aprendimos arriba):"
   ]
  },
  {
   "cell_type": "code",
   "execution_count": null,
   "metadata": {},
   "outputs": [],
   "source": [
    "pleiades_center = SkyCoord.from_name('Pleiades')"
   ]
  },
  {
   "cell_type": "markdown",
   "metadata": {},
   "source": [
    "Usando una única llamada a un método/función sobre el objeto `SkyCoord` que representa el centro de NGC 188, imprime una cadena con la RA/Dec en el formato 'HH:MM:SS.S DD:MM:SS.S'. Verifica tu respuesta con [SIMBAD](http://simbad.u-strasbg.fr/simbad/), que te mostrará las coordenadas sexagesimales del objeto.\n",
    "\n",
    "<sub>(Pista: `SkyCoord.to_string()` puede ser útil)</sub>"
   ]
  },
  {
   "cell_type": "code",
   "execution_count": null,
   "metadata": {},
   "outputs": [],
   "source": [
    "ngc188_center.to_string(style=\"hmsdms\", sep=\":\", precision=1)"
   ]
  },
  {
   "cell_type": "markdown",
   "metadata": {},
   "source": [
    "Usando una única llamada a un método/función sobre el objeto `SkyCoord` que contiene los resultados de nuestra consulta a *Gaia*, calcula la separación angular entre cada estrella resultante y las coordenadas del centro del cúmulo.\n",
    "\n",
    "<sub>(Pista: `SkyCoord.separation()` puede ser útil)</sub>"
   ]
  },
  {
   "cell_type": "code",
   "execution_count": null,
   "metadata": {},
   "outputs": [],
   "source": [
    "gaia_coords.separation(ngc188_center)"
   ]
  },
  {
   "cell_type": "markdown",
   "metadata": {},
   "source": [
    "---\n",
    "\n",
    "## Más que solo posiciones en el cielo: Incluyendo información de distancia en `SkyCoord`\n",
    "\n",
    "Hasta ahora, solo hemos usado `SkyCoord` para representar posiciones en el cielo (es decir, solo `ra` y `dec`). A veces es útil incluir información de distancia junto con las coordenadas celestes, especificando así completamente la posición 3D de una fuente dada. Para pasar información de distancia, `SkyCoord` acepta un argumento clave llamado `distance`. Por lo tanto, si también conociéramos la distancia a NGC 188, podríamos pasar esa distancia (como un objeto `Quantity`) usando este argumento:"
   ]
  },
  {
   "cell_type": "code",
   "execution_count": null,
   "metadata": {},
   "outputs": [],
   "source": [
    "ngc188_center_3d = SkyCoord(12.11*u.deg, 85.26*u.deg,\n",
    "                            distance=1.96*u.kpc)"
   ]
  },
  {
   "cell_type": "markdown",
   "metadata": {},
   "source": [
    "Con los resultados de nuestra consulta al catálogo *Gaia*, también se nos proporcionan mediciones de paralaje para cada estrella del catálogo. La forma predeterminada de pasar una distancia, como se mostró anteriormente, es pasando un objeto `Quantity` con una unidad de longitud. Sin embargo, `astropy.coordinates` también ofrece un objeto especializado llamado `Distance`, diseñado para manejar transformaciones comunes entre diferentes representaciones de distancia ([documentación](http://docs.astropy.org/en/latest/coordinates/index.html#distance)). \n",
    "\n",
    "Entre otras funcionalidades, esta clase permite pasar un valor de paralaje <sub>(pero tenga en cuenta que la transformación a distancia simplemente invierte el paralaje, ¡lo cual no siempre es recomendable!)</sub>."
   ]
  },
  {
   "cell_type": "code",
   "execution_count": null,
   "metadata": {},
   "outputs": [],
   "source": [
    "Distance(parallax=1*u.mas)"
   ]
  },
  {
   "cell_type": "markdown",
   "metadata": {},
   "source": [
    "El catálogo de estrellas que consultamos en *Gaia* también contiene información de paralaje, por lo que podemos crear un objeto `SkyCoord` para representar las posiciones 3D de todas las estrellas de *Gaia*. Aquí, seleccionamos de la tabla solo aquellas estrellas con valores de paralaje positivos:"
   ]
  },
  {
   "cell_type": "code",
   "execution_count": null,
   "metadata": {},
   "outputs": [],
   "source": [
    "table_3d = table[table['parallax'] > 0]\n",
    "\n",
    "gaia_dist = Distance(parallax=table_3d['parallax'])\n",
    "gaia_coords_3d = SkyCoord(table_3d['ra'], table_3d['dec'],\n",
    "                          distance=gaia_dist)\n",
    "gaia_coords_3d"
   ]
  },
  {
   "cell_type": "markdown",
   "metadata": {},
   "source": [
    "Ahora que tenemos información de la posición 3D tanto para el centro del cúmulo como para las estrellas que consultamos en *Gaia*, podemos calcular la separación 3D (distancia) entre todas las fuentes de *Gaia* y el centro del cúmulo:"
   ]
  },
  {
   "cell_type": "code",
   "execution_count": null,
   "metadata": {},
   "outputs": [],
   "source": [
    "sep3d = gaia_coords_3d.separation_3d(ngc188_center_3d)\n",
    "sep3d"
   ]
  },
  {
   "cell_type": "markdown",
   "metadata": {},
   "source": [
    "### Ejercicios\n",
    "\n",
    "Usando los valores de separación 3D, define una máscara booleana para seleccionar candidatos a miembros del cúmulo. Selecciona todas las estrellas que estén dentro de 50 parsecs del centro del cúmulo. ¿Cuántos candidatos a miembros de NGC 188 tenemos, basándonos en sus posiciones 3D?"
   ]
  },
  {
   "cell_type": "code",
   "execution_count": null,
   "metadata": {},
   "outputs": [],
   "source": [
    "ngc188_3d_mask = sep3d < 50*u.pc\n",
    "ngc188_3d_mask.sum()"
   ]
  }
 ],
 "metadata": {
  "anaconda-cloud": {},
  "astropy-tutorials": {
   "author": "Erik Tollerud <erik.tollerud@gmail.com>",
   "date": "July 2015",
   "description": "Demonstrates use of astropy.coordinates for common tasks. Includes matching catalogs against each other, basic observing planning tasks, and basic usage of coordinates.",
   "link_name": "Using astropy.coordinates to Match Catalogs and Plan Observations",
   "name": "",
   "published": true
  },
  "kernelspec": {
   "display_name": "Python 3 (ipykernel)",
   "language": "python",
   "name": "python3"
  },
  "language_info": {
   "codemirror_mode": {
    "name": "ipython",
    "version": 3
   },
   "file_extension": ".py",
   "mimetype": "text/x-python",
   "name": "python",
   "nbconvert_exporter": "python",
   "pygments_lexer": "ipython3",
   "version": "3.11.7"
  },
  "toc": {
   "base_numbering": 1,
   "nav_menu": {},
   "number_sections": true,
   "sideBar": true,
   "skip_h1_title": false,
   "title_cell": "Table of Contents",
   "title_sidebar": "Contents",
   "toc_cell": false,
   "toc_position": {},
   "toc_section_display": true,
   "toc_window_display": false
  }
 },
 "nbformat": 4,
 "nbformat_minor": 1
}
