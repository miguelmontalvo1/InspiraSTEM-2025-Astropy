{
 "cells": [
  {
   "cell_type": "markdown",
   "metadata": {},
   "source": [
    "# Astropy Unidades y Cantidades\n",
    "\n",
    "## Soluciones a los Ejercicios"
   ]
  },
  {
   "cell_type": "markdown",
   "metadata": {},
   "source": [
    "## Ejercicio 1\n",
    "\n",
    "El *Telescopio Espacial James Webb (JWST)* se encuentra en una órbita tipo halo alrededor del segundo punto de Lagrange Sol-Tierra (L2):\n",
    "\n",
    "&nbsp;&nbsp;&nbsp;&nbsp;&nbsp;&nbsp;&nbsp;&nbsp;&nbsp;☀️ &nbsp;&nbsp;&nbsp;&nbsp;&nbsp;&nbsp;&nbsp;&nbsp;&nbsp;&nbsp;&nbsp;&nbsp;&nbsp;&nbsp;&nbsp;&nbsp;&nbsp;&nbsp;&nbsp;&nbsp;&nbsp;&nbsp;&nbsp;&nbsp;&nbsp;&nbsp;&nbsp;&nbsp;&nbsp;&nbsp;&nbsp;&nbsp; 🌎 &nbsp;&nbsp;&nbsp;&nbsp;&nbsp;&nbsp; L2 &nbsp;&nbsp;&nbsp;&nbsp;&nbsp;&nbsp;&nbsp;&nbsp;&nbsp;&nbsp;&nbsp;&nbsp; *(no a escala)*\n",
    "\n",
    "L2 está ubicado a una distancia de la Tierra (opuesto al Sol) de aproximadamente:\n",
    "\n",
    "$$ r \\approx R \\left(\\frac{M_{earth}}{3 M_{sun}}\\right) ^{(1/3)} $$\n",
    "\n",
    "donde $R$ es la distancia Sol-Tierra.\n",
    "\n",
    "Calcula la distancia Tierra–L2 en kilómetros y millas.\n",
    "\n",
    "*Sugerencias*:\n",
    "\n",
    "* $M_{earth}$ y $M_{sun}$ son [constantes definidas](http://docs.astropy.org/en/stable/constants/#reference-api) \n",
    "\n",
    "* La unidad de milla se define como ``u.imperial.mile`` (ver [unidades imperiales](http://docs.astropy.org/en/v0.2.1/units/index.html#module-astropy.units.imperial))"
   ]
  },
  {
   "cell_type": "code",
   "execution_count": null,
   "metadata": {},
   "outputs": [],
   "source": [
    "import astropy.units as u\n",
    "from astropy import constants as const"
   ]
  },
  {
   "cell_type": "code",
   "execution_count": null,
   "metadata": {
    "slideshow": {
     "slide_type": "-"
    }
   },
   "outputs": [],
   "source": [
    "d_earth = u.au * (1. * const.M_earth / (3. * const.M_sun))**(1./3)\n",
    "d_earth.to(u.km)"
   ]
  },
  {
   "cell_type": "code",
   "execution_count": null,
   "metadata": {},
   "outputs": [],
   "source": [
    "d_earth.to(u.imperial.mile)"
   ]
  },
  {
   "cell_type": "markdown",
   "metadata": {},
   "source": [
    "## Ejercicio 2\n",
    "\n",
    "El punto L2 está aproximadamente a 1.5 millones de kilómetros de la Tierra, en dirección opuesta al Sol.  \n",
    "La masa total del *Telescopio Espacial James Webb (JWST)* es de aproximadamente 6500 kg.\n",
    "\n",
    "Usando el valor que obtuviste anteriormente para la distancia Tierra–L2, calcula la fuerza gravitacional en Newtons entre:\n",
    "\n",
    "* El *JWST* (en L2) y la Tierra  \n",
    "* El *JWST* (en L2) y el Sol\n",
    "\n",
    "*Sugerencia*: la fuerza gravitacional entre dos masas separadas por una distancia *r* es:\n",
    "\n",
    "$$ F_g = \\frac{G m_1 m_2}{r^2} $$"
   ]
  },
  {
   "cell_type": "code",
   "execution_count": null,
   "metadata": {},
   "outputs": [],
   "source": [
    "m_JWST = 6500. * u.kg\n",
    "F = (const.G * const.M_earth * m_JWST) / d_earth**2\n",
    "F.to(u.N)"
   ]
  },
  {
   "cell_type": "code",
   "execution_count": null,
   "metadata": {},
   "outputs": [],
   "source": [
    "d_sun = d_earth + 1. * u.au\n",
    "F = (const.G * const.M_sun * m_JWST) / d_sun**2\n",
    "F.to(u.N)"
   ]
  },
  {
   "cell_type": "markdown",
   "metadata": {},
   "source": [
    "## Ejercicio 3\n",
    "\n",
    "Calcula el [radio de Schwarzschild](https://es.wikipedia.org/wiki/Radio_de_Schwarzschild) en unidades de radios solares para **Sgr A\\***, el agujero negro supermasivo de la Vía Láctea, con $M = 4.31 \\times 10^6 M_\\odot$, dado que:\n",
    "\n",
    "$$r_\\mathrm{s} = \\frac{2 G M}{c^2}$$\n",
    "\n",
    "Además, calcula el tamaño angular del horizonte de eventos en el cielo en microarcosegundos, dada la distancia al centro galáctico $d_{center} = 7.94$ kpc, con la fórmula:\n",
    "\n",
    "$$\\theta = \\mathrm{arctan}\\frac{2 r_\\mathrm{s}}{d_{center}}$$"
   ]
  },
  {
   "cell_type": "code",
   "execution_count": null,
   "metadata": {},
   "outputs": [],
   "source": [
    "# Schwarzschild radius:\n",
    "bh_mass = 4.31e6 * u.Msun\n",
    "r_s = 2 * const.G * bh_mass / const.c**2\n",
    "print(\"Radio de Schwarzschild = \", r_s.to(u.Rsun))"
   ]
  },
  {
   "cell_type": "code",
   "execution_count": null,
   "metadata": {},
   "outputs": [],
   "source": [
    "# Size on the sky given small angle approximation\n",
    "import numpy as np\n",
    "sgr_a_distance = 7940 * u.pc\n",
    "angular_diameter = np.arctan(2 * r_s / sgr_a_distance)\n",
    "angular_diameter.to(u.uarcsec)"
   ]
  },
  {
   "cell_type": "markdown",
   "metadata": {},
   "source": [
    "## Ejercicio 4\n",
    "\n",
    "Podemos hacer una estimación muy aproximada de la temperatura del material en las cercanías de Sgr A* asumiendo equilibrio hidrostático, de modo que la energía térmica del gas compense la fuerza gravitatoria:\n",
    "\n",
    "$$ kT \\sim \\frac{GM m_p}{R} $$\n",
    "\n",
    "donde $m_p$ es la masa de un protón y $R$ es la distancia al agujero negro. Usando las constantes de Astropy y las propiedades de Sgr A* descritas en el Ejercicio 3, calcula la temperatura del gas necesaria para equilibrar la atracción gravitatoria del agujero negro a una distancia de 1 millón de radios de Schwarzschild obtenidos anteriormente. Usa esta ecuación:\n",
    "\n",
    "$$ T = \\frac{G M m_p}{10^6 r_s k} $$\n",
    "\n",
    "Luego, utiliza las [equivalencias de temperatura de Astropy](https://docs.astropy.org/en/stable/units/equivalencies.html#temperature-equivalency) para encontrar la energía de ese gas."
   ]
  },
  {
   "cell_type": "code",
   "execution_count": null,
   "metadata": {},
   "outputs": [],
   "source": [
    "# Temperatura\n",
    "radius = 1e6 * r_s\n",
    "temperature = (const.G * bh_mass * const.m_p) / (radius * const.k_B)\n",
    "temperature.to('K')"
   ]
  },
  {
   "cell_type": "code",
   "execution_count": null,
   "metadata": {},
   "outputs": [],
   "source": [
    "# Energia\n",
    "temperature.to('keV', equivalencies=u.temperature_energy())"
   ]
  },
  {
   "cell_type": "code",
   "execution_count": null,
   "metadata": {},
   "outputs": [],
   "source": []
  }
 ],
 "metadata": {
  "anaconda-cloud": {},
  "kernelspec": {
   "display_name": "Python 3 (ipykernel)",
   "language": "python",
   "name": "python3"
  },
  "language_info": {
   "codemirror_mode": {
    "name": "ipython",
    "version": 3
   },
   "file_extension": ".py",
   "mimetype": "text/x-python",
   "name": "python",
   "nbconvert_exporter": "python",
   "pygments_lexer": "ipython3",
   "version": "3.11.13"
  }
 },
 "nbformat": 4,
 "nbformat_minor": 4
}
