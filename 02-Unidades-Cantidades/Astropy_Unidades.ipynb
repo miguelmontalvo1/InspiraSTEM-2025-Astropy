{
 "cells": [
  {
   "cell_type": "markdown",
   "metadata": {},
   "source": [
    "# Unidades, Cantidades y Constantes en Astropy"
   ]
  },
  {
   "cell_type": "markdown",
   "metadata": {},
   "source": [
    "Astropy incluye un marco muy potente para trabajar con unidades, que permite a los usuarios adjuntar unidades a escalares y arrays. Estas cantidades pueden manipularse o combinarse, manteniendo un seguimiento correcto de las unidades.\n",
    "\n",
    "Para más información sobre las características presentadas a continuación, consulta la documentación de [astropy.units](https://docs.astropy.org/en/stable/units/index.html).\n",
    "\n",
    "También ten en cuenta que este tutorial asume que tienes poco o ningún conocimiento previo sobre las unidades de astropy. Si ya estás moderadamente familiarizado y te interesan ejemplos más complejos, quizás prefieras el tutorial de Astropy sobre [\"Uso de Quantities de Astropy para cálculos astrofísicos\"](https://learn.astropy.org/tutorials/quantities.html)."
   ]
  },
  {
   "cell_type": "markdown",
   "metadata": {},
   "source": [
    "Tabla de contenidos:\n",
    "\n",
    "* <a href=\"#Representacion-de-unidades\">Representación de unidades</a>\n",
    "* <a href=\"#Unidades-compuestas\">Unidades compuestas</a>\n",
    "* <a href=\"#Objetos-de-tipo-Quantity\">Objetos de tipo Quantity</a>\n",
    "* <a href=\"#Atributos-de-Quantity\">Atributos de Quantity</a>\n",
    "* <a href=\"#Operaciones-aritmeticas-con-Quantities\">Operaciones aritméticas con Quantities</a>\n",
    "* <a href=\"#Combinando-Quantities\">Combinando Quantities</a>\n",
    "* <a href=\"#Conversion-de-unidades\">Conversión de unidades</a>\n",
    "* <a href=\"#Descomposicion-de-unidades\">Descomposición de unidades</a>\n",
    "* <a href=\"#Integracion-con-funciones-de-NumPy\">Integración con funciones de NumPy</a>\n",
    "* <a href=\"#Definicion-de-nuevas-unidades\">Definición de nuevas unidades</a>\n",
    "* <a href=\"#Uso-de-constantes-fisicas\">Uso de constantes físicas</a>\n",
    "* <a href=\"#Equivalencias\">Equivalencias</a>\n",
    "* <a href=\"#Unidades-especificas-de-dominio\">Unidades específicas de dominio</a>\n",
    "* <a href=\"#Consideraciones-de-rendimiento\">Consideraciones de rendimiento</a>\n",
    "* <a href=\"#Combinando-todo:-un-ejemplo-conciso\">Combinando todo: un ejemplo conciso</a>\n",
    "* <a href=\"#Ejercicios\">Ejercicios</a>\n"
   ]
  },
  {
   "cell_type": "markdown",
   "metadata": {},
   "source": [
    "## Representacion de unidades"
   ]
  },
  {
   "cell_type": "markdown",
   "metadata": {},
   "source": [
    "Primero, necesitamos importar el subpaquete de unidades de Astropy (**`astropy.units`**).  \n",
    "Como probablemente querremos usar unidades en muchas expresiones, lo más conciso es renombrar el subpaquete como **`u`**.  \n",
    "Esta es la convención estándar, pero ten en cuenta que esto entrará en conflicto con cualquier variable llamada **`u`**:"
   ]
  },
  {
   "cell_type": "code",
   "execution_count": null,
   "metadata": {},
   "outputs": [],
   "source": [
    "import astropy.units as u"
   ]
  },
  {
   "cell_type": "code",
   "execution_count": null,
   "metadata": {},
   "outputs": [],
   "source": [
    "# También importaremos numpy aquí, que usaremos más adelante.\n",
    "# \"np\" es el nombre estándar común para esta importación.\n",
    "import numpy as np"
   ]
  },
  {
   "cell_type": "markdown",
   "metadata": {},
   "source": [
    "Las unidades pueden accederse como **u.[unidad]**. Por ejemplo, la unidad metro es:"
   ]
  },
  {
   "cell_type": "code",
   "execution_count": null,
   "metadata": {},
   "outputs": [],
   "source": [
    "u.m"
   ]
  },
  {
   "cell_type": "markdown",
   "metadata": {},
   "source": [
    "Las unidades tienen cadenas de documentación (docstrings), que proporcionan texto explicativo sobre ellas:"
   ]
  },
  {
   "cell_type": "code",
   "execution_count": null,
   "metadata": {},
   "outputs": [],
   "source": [
    "u.m.__doc__"
   ]
  },
  {
   "cell_type": "code",
   "execution_count": null,
   "metadata": {},
   "outputs": [],
   "source": [
    "u.pc.__doc__"
   ]
  },
  {
   "cell_type": "markdown",
   "metadata": {},
   "source": [
    "y un tipo físico:"
   ]
  },
  {
   "cell_type": "code",
   "execution_count": null,
   "metadata": {},
   "outputs": [],
   "source": [
    "u.m.physical_type"
   ]
  },
  {
   "cell_type": "code",
   "execution_count": null,
   "metadata": {},
   "outputs": [],
   "source": [
    "u.s.physical_type"
   ]
  },
  {
   "cell_type": "markdown",
   "metadata": {},
   "source": [
    "Muchas unidades también tienen alias:"
   ]
  },
  {
   "cell_type": "code",
   "execution_count": null,
   "metadata": {},
   "outputs": [],
   "source": [
    "u.m.aliases"
   ]
  },
  {
   "cell_type": "code",
   "execution_count": null,
   "metadata": {},
   "outputs": [],
   "source": [
    "u.meter"
   ]
  },
  {
   "cell_type": "code",
   "execution_count": null,
   "metadata": {},
   "outputs": [],
   "source": [
    "u.arcsec.aliases"
   ]
  },
  {
   "cell_type": "code",
   "execution_count": null,
   "metadata": {},
   "outputs": [],
   "source": [
    "u.arcsecond"
   ]
  },
  {
   "cell_type": "markdown",
   "metadata": {},
   "source": [
    "Las unidades del sistema SI y cgs están disponibles por defecto, pero las unidades imperiales requieren el prefijo **`imperial`**:"
   ]
  },
  {
   "cell_type": "code",
   "execution_count": null,
   "metadata": {
    "tags": [
     "raises-exception"
    ]
   },
   "outputs": [],
   "source": [
    "# Esto no esta definido.\n",
    "u.inch"
   ]
  },
  {
   "cell_type": "code",
   "execution_count": null,
   "metadata": {},
   "outputs": [],
   "source": [
    "# Usa esto en su lugar:\n",
    "u.imperial.inch"
   ]
  },
  {
   "cell_type": "markdown",
   "metadata": {},
   "source": [
    "Consulta la lista completa de [unidades disponibles](https://astropy.readthedocs.org/en/stable/units/index.html#module-astropy.units.si)."
   ]
  },
  {
   "cell_type": "markdown",
   "metadata": {},
   "source": [
    "## Unidades compuestas"
   ]
  },
  {
   "cell_type": "markdown",
   "metadata": {},
   "source": [
    "Las unidades compuestas se crean utilizando los operadores numéricos de Python (por ejemplo, \"`*`\" (multiplicación), \"`/`\" (división), y \"`**`\" (potencia))."
   ]
  },
  {
   "cell_type": "code",
   "execution_count": null,
   "metadata": {},
   "outputs": [],
   "source": [
    "u.km / u.s"
   ]
  },
  {
   "cell_type": "code",
   "execution_count": null,
   "metadata": {},
   "outputs": [],
   "source": [
    "u.imperial.mile / u.h"
   ]
  },
  {
   "cell_type": "code",
   "execution_count": null,
   "metadata": {},
   "outputs": [],
   "source": [
    "(u.eV * u.Mpc) / u.Gyr"
   ]
  },
  {
   "cell_type": "code",
   "execution_count": null,
   "metadata": {},
   "outputs": [],
   "source": [
    "u.cm**3"
   ]
  },
  {
   "cell_type": "code",
   "execution_count": null,
   "metadata": {},
   "outputs": [],
   "source": [
    "u.m / u.kg / u.s**2"
   ]
  },
  {
   "cell_type": "markdown",
   "metadata": {},
   "source": [
    "## Objetos de tipo `Quantity`\n",
    "La característica más útil de las unidades es la capacidad de adjuntarlas a escalares o arrays, creando objetos `Quantity`. Un objeto `Quantity` contiene tanto un valor como una unidad. La forma más conveniente de crear un objeto `Quantity` es multiplicando el valor por su unidad.\n"
   ]
  },
  {
   "cell_type": "code",
   "execution_count": null,
   "metadata": {},
   "outputs": [],
   "source": [
    "3.7 * u.au  # Objeto de tipo `Quantity`"
   ]
  },
  {
   "cell_type": "markdown",
   "metadata": {},
   "source": [
    "Una forma equivalente (pero más extensa) de hacer lo mismo es usar el inicializador del objeto `Quantity`, como se muestra a continuación. En general, se prefiere la forma más concisa (arriba), ya que se asemeja más a cómo se escribiría tal cantidad en un texto. Sin embargo, la forma con el inicializador tiene más opciones, las cuales puedes consultar en la [documentación de referencia de Astropy sobre Quantity](https://docs.astropy.org/en/stable/api/astropy.units.quantity.Quantity.html).\n"
   ]
  },
  {
   "cell_type": "code",
   "execution_count": null,
   "metadata": {},
   "outputs": [],
   "source": [
    "u.Quantity(3.7, unit=u.au)"
   ]
  },
  {
   "cell_type": "code",
   "execution_count": null,
   "metadata": {},
   "outputs": [],
   "source": [
    "u.Quantity(1 * u.cm, unit=u.m)"
   ]
  },
  {
   "cell_type": "markdown",
   "metadata": {},
   "source": [
    "Donde realmente brillan las cantidades es al crear un objeto `Quantity` con un arreglo (`array`)."
   ]
  },
  {
   "cell_type": "code",
   "execution_count": null,
   "metadata": {},
   "outputs": [],
   "source": [
    "# Queremos crear la unidad compuesta primero, de ahí los paréntesis.\n",
    "x = [1.2, 6.8, 3.7] * (u.pc / u.year)\n",
    "x"
   ]
  },
  {
   "cell_type": "markdown",
   "metadata": {},
   "source": [
    "## Atributos de `Quantity`"
   ]
  },
  {
   "cell_type": "markdown",
   "metadata": {},
   "source": [
    "Las unidades y el valor de un `Quantity` pueden accederse por separado mediante los atributos ``value`` y ``unit``:"
   ]
  },
  {
   "cell_type": "code",
   "execution_count": null,
   "metadata": {},
   "outputs": [],
   "source": [
    "q = 5. * u.Mpc\n",
    "q"
   ]
  },
  {
   "cell_type": "code",
   "execution_count": null,
   "metadata": {},
   "outputs": [],
   "source": [
    "q.value"
   ]
  },
  {
   "cell_type": "code",
   "execution_count": null,
   "metadata": {},
   "outputs": [],
   "source": [
    "q.unit"
   ]
  },
  {
   "cell_type": "code",
   "execution_count": null,
   "metadata": {},
   "outputs": [],
   "source": [
    "x = [1.2, 6.8, 3.7] * (u.pc / u.year)\n",
    "x"
   ]
  },
  {
   "cell_type": "code",
   "execution_count": null,
   "metadata": {},
   "outputs": [],
   "source": [
    "x.value"
   ]
  },
  {
   "cell_type": "code",
   "execution_count": null,
   "metadata": {},
   "outputs": [],
   "source": [
    "x.unit"
   ]
  },
  {
   "cell_type": "markdown",
   "metadata": {},
   "source": [
    "## Operaciones aritmeticas con Quantities\n",
    "\n",
    "\"`*`\" (multiplication), \"`/`\" (division), and \"`**`\" (power) operations can be performed on `Quantity` objects with `float`/`int` values."
   ]
  },
  {
   "cell_type": "code",
   "execution_count": null,
   "metadata": {},
   "outputs": [],
   "source": [
    "q = 3.1 * u.km"
   ]
  },
  {
   "cell_type": "code",
   "execution_count": null,
   "metadata": {},
   "outputs": [],
   "source": [
    "q * 2"
   ]
  },
  {
   "cell_type": "code",
   "execution_count": null,
   "metadata": {},
   "outputs": [],
   "source": [
    "q / 2."
   ]
  },
  {
   "cell_type": "code",
   "execution_count": null,
   "metadata": {},
   "outputs": [],
   "source": [
    "1 / q"
   ]
  },
  {
   "cell_type": "code",
   "execution_count": null,
   "metadata": {},
   "outputs": [],
   "source": [
    "q ** 2"
   ]
  },
  {
   "cell_type": "markdown",
   "metadata": {},
   "source": [
    "## Combinando Quantities\n",
    "\n",
    "Los objetos `Quantity` pueden combinarse utilizando los operadores numéricos de Python:"
   ]
  },
  {
   "cell_type": "code",
   "execution_count": null,
   "metadata": {},
   "outputs": [],
   "source": [
    "q1 = 3. * (u.m / u.s)\n",
    "q1"
   ]
  },
  {
   "cell_type": "code",
   "execution_count": null,
   "metadata": {},
   "outputs": [],
   "source": [
    "q2 = 5. * (u.cm / u.s / u.g**2)\n",
    "q2"
   ]
  },
  {
   "cell_type": "code",
   "execution_count": null,
   "metadata": {},
   "outputs": [],
   "source": [
    "q1 * q2"
   ]
  },
  {
   "cell_type": "code",
   "execution_count": null,
   "metadata": {},
   "outputs": [],
   "source": [
    "q1 / q2  # Nota que la unidad \"segundo\" se canceló."
   ]
  },
  {
   "cell_type": "code",
   "execution_count": null,
   "metadata": {},
   "outputs": [],
   "source": [
    "# A veces, se necesita un paso adicional para obtener una unidad de salida \"limpia\".\n",
    "# Ver también: Descomponer unidades (más abajo)\n",
    "(q1 / q2).to(u.g ** 2)"
   ]
  },
  {
   "cell_type": "code",
   "execution_count": null,
   "metadata": {},
   "outputs": [],
   "source": [
    "q1 ** 2"
   ]
  },
  {
   "cell_type": "code",
   "execution_count": null,
   "metadata": {},
   "outputs": [],
   "source": [
    "x = [1.2, 6.8, 3.7] * (u.pc / u.year)\n",
    "x * 3  # Multiplicación elemento por elemento."
   ]
  },
  {
   "cell_type": "markdown",
   "metadata": {},
   "source": [
    "Al sumar o restar cantidades, las unidades deben ser **compatibles** (pero no necesariamente idénticas)."
   ]
  },
  {
   "cell_type": "code",
   "execution_count": null,
   "metadata": {},
   "outputs": [],
   "source": [
    "# Sumar dos cantidades.\n",
    "(3 * u.m) + (5 * u.m)"
   ]
  },
  {
   "cell_type": "markdown",
   "metadata": {},
   "source": [
    "Aquí sumamos dos cantidades de distancia que no tienen unidades idénticas:"
   ]
  },
  {
   "cell_type": "code",
   "execution_count": null,
   "metadata": {},
   "outputs": [],
   "source": [
    "(3 * u.km) + (5 * u.cm)"
   ]
  },
  {
   "cell_type": "code",
   "execution_count": null,
   "metadata": {
    "tags": [
     "raises-exception"
    ]
   },
   "outputs": [],
   "source": [
    "# Esto fallará porque las unidades son incompatibles.\n",
    "(3 * u.km) + (5. * u.km / u.s)"
   ]
  },
  {
   "cell_type": "markdown",
   "metadata": {},
   "source": [
    "## Conversion de unidades\n",
    "\n",
    "Las unidades pueden convertirse a otras unidades equivalentes."
   ]
  },
  {
   "cell_type": "code",
   "execution_count": null,
   "metadata": {},
   "outputs": [],
   "source": [
    "q = 2.5 * u.year\n",
    "q"
   ]
  },
  {
   "cell_type": "code",
   "execution_count": null,
   "metadata": {},
   "outputs": [],
   "source": [
    "# Convertir años a segundos.\n",
    "q.to(u.s)"
   ]
  },
  {
   "cell_type": "code",
   "execution_count": null,
   "metadata": {},
   "outputs": [],
   "source": [
    "# Convertir grados cuadrados a estereorradianes.\n",
    "(7. * u.deg**2).to(u.sr)"
   ]
  },
  {
   "cell_type": "code",
   "execution_count": null,
   "metadata": {},
   "outputs": [],
   "source": [
    "# Convertir millas por hora (mph) a kilómetros por hora (kph).\n",
    "(55. * (u.imperial.mile / u.h)).to(u.km / u.h)"
   ]
  },
  {
   "cell_type": "markdown",
   "metadata": {},
   "source": [
    "**Nota importante**: Convertir una unidad (no un objeto `Quantity`) solo devuelve el factor de escala:"
   ]
  },
  {
   "cell_type": "code",
   "execution_count": null,
   "metadata": {},
   "outputs": [],
   "source": [
    "u.Msun.to(u.kg)"
   ]
  },
  {
   "cell_type": "markdown",
   "metadata": {},
   "source": [
    "Para conservar las unidades, usa un objeto `Quantity` (valor y unidad):"
   ]
  },
  {
   "cell_type": "code",
   "execution_count": null,
   "metadata": {},
   "outputs": [],
   "source": [
    "(1. * u.Msun).to(u.kg)"
   ]
  },
  {
   "cell_type": "markdown",
   "metadata": {},
   "source": [
    "## Descomposicion de unidades"
   ]
  },
  {
   "cell_type": "markdown",
   "metadata": {},
   "source": [
    "Las unidades de un objeto `Quantity` pueden descomponerse en un conjunto de unidades base usando el método\n",
    "``decompose()``. Por defecto, las unidades se descompondrán a bases de unidades del SI:"
   ]
  },
  {
   "cell_type": "code",
   "execution_count": null,
   "metadata": {},
   "outputs": [],
   "source": [
    "q = 8. * (u.cm * u.pc / u.g / u.year**2)\n",
    "q"
   ]
  },
  {
   "cell_type": "code",
   "execution_count": null,
   "metadata": {},
   "outputs": [],
   "source": [
    "q.decompose()"
   ]
  },
  {
   "cell_type": "markdown",
   "metadata": {},
   "source": [
    "Para descomponer en bases de unidades cgs:"
   ]
  },
  {
   "cell_type": "code",
   "execution_count": null,
   "metadata": {},
   "outputs": [],
   "source": [
    "q.decompose(u.cgs.bases)"
   ]
  },
  {
   "cell_type": "code",
   "execution_count": null,
   "metadata": {},
   "outputs": [],
   "source": [
    "u.cgs.bases"
   ]
  },
  {
   "cell_type": "code",
   "execution_count": null,
   "metadata": {},
   "outputs": [],
   "source": [
    "u.si.bases"
   ]
  },
  {
   "cell_type": "markdown",
   "metadata": {},
   "source": [
    "Las unidades no se cancelarán a menos que sean idénticas:"
   ]
  },
  {
   "cell_type": "code",
   "execution_count": null,
   "metadata": {},
   "outputs": [],
   "source": [
    "q = 7 * u.m / (7 * u.km)\n",
    "q"
   ]
  },
  {
   "cell_type": "markdown",
   "metadata": {},
   "source": [
    "Pero se cancelarán usando el método `decompose()`:"
   ]
  },
  {
   "cell_type": "code",
   "execution_count": null,
   "metadata": {},
   "outputs": [],
   "source": [
    "x = q.decompose()  \n",
    "x  # Esta es una cantidad (\"Quantity\") adimensional."
   ]
  },
  {
   "cell_type": "code",
   "execution_count": null,
   "metadata": {},
   "outputs": [],
   "source": [
    "repr(x.unit)"
   ]
  },
  {
   "cell_type": "markdown",
   "metadata": {},
   "source": [
    "## Integracion con funciones de NumPy"
   ]
  },
  {
   "cell_type": "markdown",
   "metadata": {},
   "source": [
    "La mayoría de funciones de [NumPy](https://www.numpy.org) entienden los objetos `Quantity`:"
   ]
  },
  {
   "cell_type": "code",
   "execution_count": null,
   "metadata": {},
   "outputs": [],
   "source": [
    "np.sin(30)  # np.sin asume que el valor ingresado está en radianes."
   ]
  },
  {
   "cell_type": "code",
   "execution_count": null,
   "metadata": {},
   "outputs": [],
   "source": [
    "np.sin(30 * u.degree)  # ¡Increíble!"
   ]
  },
  {
   "cell_type": "code",
   "execution_count": null,
   "metadata": {},
   "outputs": [],
   "source": [
    "q = 100 * (u.kg * u.kg)\n",
    "np.sqrt(q)"
   ]
  },
  {
   "cell_type": "code",
   "execution_count": null,
   "metadata": {},
   "outputs": [],
   "source": [
    "x = np.arange(10) * u.km\n",
    "x"
   ]
  },
  {
   "cell_type": "code",
   "execution_count": null,
   "metadata": {},
   "outputs": [],
   "source": [
    "np.mean(x)"
   ]
  },
  {
   "cell_type": "markdown",
   "metadata": {},
   "source": [
    "Algunas \"ufuncs\" (funciones universales) de NumPy requieren cantidades adimensionales."
   ]
  },
  {
   "cell_type": "code",
   "execution_count": null,
   "metadata": {
    "tags": [
     "raises-exception"
    ]
   },
   "outputs": [],
   "source": [
    "np.log10(4 * u.m)  # Esto no es posible."
   ]
  },
  {
   "cell_type": "code",
   "execution_count": null,
   "metadata": {},
   "outputs": [],
   "source": [
    "np.log10(4 * u.m / (4 * u.km))  # Nota que las unidades se cancelan"
   ]
  },
  {
   "cell_type": "markdown",
   "metadata": {},
   "source": [
    "Se debe tener cuidado con las unidades adimensionales.\n",
    "\n",
    "Por ejemplo, al pasar valores ordinarios a una función trigonométrica inversa se obtiene un resultado sin unidades:"
   ]
  },
  {
   "cell_type": "code",
   "execution_count": null,
   "metadata": {},
   "outputs": [],
   "source": [
    "np.arcsin(1.0)"
   ]
  },
  {
   "cell_type": "markdown",
   "metadata": {},
   "source": [
    "`u.dimensionless_unscaled` crea un ``Quantity`` con una \"unidad adimensional\" y, por lo tanto, da un resultado *con* unidades:"
   ]
  },
  {
   "cell_type": "code",
   "execution_count": null,
   "metadata": {},
   "outputs": [],
   "source": [
    "np.arcsin(1.0 * u.dimensionless_unscaled)"
   ]
  },
  {
   "cell_type": "code",
   "execution_count": null,
   "metadata": {},
   "outputs": [],
   "source": [
    "np.arcsin(1.0 * u.dimensionless_unscaled).to(u.degree)"
   ]
  },
  {
   "cell_type": "markdown",
   "metadata": {},
   "source": [
    "**Nota importante:** Las operaciones en arrays hechas **en el mismo lugar** (in-place) no funcionan con unidades."
   ]
  },
  {
   "cell_type": "code",
   "execution_count": null,
   "metadata": {
    "tags": [
     "raises-exception"
    ]
   },
   "outputs": [],
   "source": [
    "a = np.arange(10.)\n",
    "a *= 1.0 * u.kg  # El operador in-place fallará."
   ]
  },
  {
   "cell_type": "markdown",
   "metadata": {},
   "source": [
    "Asignar a un *nuevo* array en su lugar."
   ]
  },
  {
   "cell_type": "code",
   "execution_count": null,
   "metadata": {},
   "outputs": [],
   "source": [
    "a = a * 1.0 * u.kg\n",
    "a"
   ]
  },
  {
   "cell_type": "markdown",
   "metadata": {},
   "source": [
    "Además, los objetos `Quantity` pierden sus unidades con algunas operaciones de NumPy, por ejemplo:\n",
    "\n",
    "* `np.append`\n",
    "* `np.dot`\n",
    "* `np.hstack`\n",
    "* `np.vstack`\n",
    "* `np.where`\n",
    "* `np.choose`\n",
    "* `np.vectorize`\n",
    "\n",
    "Consulta [Problemas conocidos con Quantity](https://docs.astropy.org/en/stable/known_issues.html#quantities-lose-their-units-with-some-operations) para más detalles."
   ]
  },
  {
   "cell_type": "markdown",
   "metadata": {},
   "source": [
    "## Definicion de nuevas unidades"
   ]
  },
  {
   "cell_type": "markdown",
   "metadata": {},
   "source": [
    "También puedes definir unidades personalizadas para algo que no está incorporado en Astropy.\n",
    "\n",
    "Vamos a definir una unidad llamada **\"sol\"** que representa un día marciano."
   ]
  },
  {
   "cell_type": "code",
   "execution_count": null,
   "metadata": {},
   "outputs": [],
   "source": [
    "sol = u.def_unit('sol', 1.0274912510 * u.day)"
   ]
  },
  {
   "cell_type": "code",
   "execution_count": null,
   "metadata": {},
   "outputs": [],
   "source": [
    "(1. * u.yr).to(sol)  # 1 año terrestre en unidades de sol marciano."
   ]
  },
  {
   "cell_type": "markdown",
   "metadata": {},
   "source": [
    "Ahora definamos la unidad favorita de Mark Watney, el [**Pirate-Ninja**](https://en.wikipedia.org/wiki/List_of_humorous_units_of_measurement#Pirate_Ninja):"
   ]
  },
  {
   "cell_type": "code",
   "execution_count": null,
   "metadata": {},
   "outputs": [],
   "source": [
    "pirate_ninja = u.def_unit('☠️👤', 1.0 * (u.kW * u.hr / sol))"
   ]
  },
  {
   "cell_type": "code",
   "execution_count": null,
   "metadata": {},
   "outputs": [],
   "source": [
    "5.2 * pirate_ninja"
   ]
  },
  {
   "cell_type": "code",
   "execution_count": null,
   "metadata": {},
   "outputs": [],
   "source": [
    "# Requisito de energía del oxigenador en Marte para 6 personas.\n",
    "(44.1 * pirate_ninja).to(u.W)"
   ]
  },
  {
   "cell_type": "markdown",
   "metadata": {},
   "source": [
    "## Uso de constantes fisicas"
   ]
  },
  {
   "cell_type": "markdown",
   "metadata": {},
   "source": [
    "El módulo [astropy.constants](https://docs.astropy.org/en/stable/constants/index.html) contiene constantes físicas relevantes para la astronomía. Estas están definidas como objetos ``Quantity`` usando el framework de ``astropy.units``.\n",
    "\n",
    "Consulta la lista completa de [constantes físicas disponibles](https://docs.astropy.org/en/stable/constants/index.html#module-astropy.constants)."
   ]
  },
  {
   "cell_type": "code",
   "execution_count": null,
   "metadata": {},
   "outputs": [],
   "source": [
    "from astropy import constants as const"
   ]
  },
  {
   "cell_type": "code",
   "execution_count": null,
   "metadata": {},
   "outputs": [],
   "source": [
    "const.G"
   ]
  },
  {
   "cell_type": "code",
   "execution_count": null,
   "metadata": {},
   "outputs": [],
   "source": [
    "const.c"
   ]
  },
  {
   "cell_type": "code",
   "execution_count": null,
   "metadata": {},
   "outputs": [],
   "source": [
    "const.L_sun"
   ]
  },
  {
   "cell_type": "markdown",
   "metadata": {},
   "source": [
    "Las constantes son objetos de tipo `Quantity`, por lo tanto, pueden convertirse a otras unidades:"
   ]
  },
  {
   "cell_type": "code",
   "execution_count": null,
   "metadata": {},
   "outputs": [],
   "source": [
    "const.L_sun.to(u.erg / u.s)"
   ]
  },
  {
   "cell_type": "markdown",
   "metadata": {},
   "source": [
    "También hay que tener en cuenta que incluso las constantes no son constantes. El módulo `astropy.constants` admite [diferentes versiones](https://docs.astropy.org/en/stable/constants/index.html#collections-of-constants-and-prior-versions)."
   ]
  },
  {
   "cell_type": "code",
   "execution_count": null,
   "metadata": {},
   "outputs": [],
   "source": [
    "import astropy"
   ]
  },
  {
   "cell_type": "code",
   "execution_count": null,
   "metadata": {},
   "outputs": [],
   "source": [
    "astropy.physical_constants.get()"
   ]
  },
  {
   "cell_type": "code",
   "execution_count": null,
   "metadata": {},
   "outputs": [],
   "source": [
    "astropy.astronomical_constants.get()"
   ]
  },
  {
   "cell_type": "code",
   "execution_count": null,
   "metadata": {},
   "outputs": [],
   "source": [
    "from astropy.constants import iau2012\n",
    "iau2012.L_sun"
   ]
  },
  {
   "cell_type": "code",
   "execution_count": null,
   "metadata": {
    "tags": [
     "raises-exception"
    ]
   },
   "outputs": [],
   "source": [
    "# Cambiar todo el estado científico de esta forma después\n",
    "# de las importaciones actualmente no es posible, ver\n",
    "# https://github.com/astropy/astropy/issues/8781\n",
    "astropy.astronomical_constants.set('iau2012')"
   ]
  },
  {
   "cell_type": "markdown",
   "metadata": {},
   "source": [
    "## Equivalencias\n",
    "\n",
    "Las equivalencias pueden usarse para convertir cantidades que no son estrictamente del mismo tipo físico, pero que en un contexto específico son intercambiables.  \n",
    "Un ejemplo familiar de la física es la equivalencia masa-energía: estas son estrictamente tipos físicos diferentes, pero a menudo se entiende que se puede convertir entre ambas usando la fórmula $E=mc^2$:"
   ]
  },
  {
   "cell_type": "code",
   "execution_count": null,
   "metadata": {},
   "outputs": [],
   "source": [
    "from astropy.constants import m_p  # Masa del proton"
   ]
  },
  {
   "cell_type": "code",
   "execution_count": null,
   "metadata": {
    "tags": [
     "raises-exception"
    ]
   },
   "outputs": [],
   "source": [
    "# Esto genera un error porque la masa y la energía son unidades diferentes.\n",
    "(m_p).to(u.eV)"
   ]
  },
  {
   "cell_type": "code",
   "execution_count": null,
   "metadata": {},
   "outputs": [],
   "source": [
    "# Esto tiene éxito usando equivalencias.\n",
    "(m_p).to(u.MeV, u.mass_energy())"
   ]
  },
  {
   "cell_type": "markdown",
   "metadata": {},
   "source": [
    "Este concepto se extiende aún más en `astropy.units` para incluir algunas situaciones prácticas comunes en astronomía, donde las unidades no tienen una conexión física directa, pero suele ser útil contar con una “abreviatura rápida”.  \n",
    "Por ejemplo, los espectros astronómicos a menudo se expresan en función de la longitud de onda, la frecuencia o incluso la energía del fotón. Supongamos que deseas encontrar la longitud de onda del [límite de Lyman](https://en.wikipedia.org/wiki/Lyman_limit):"
   ]
  },
  {
   "cell_type": "code",
   "execution_count": null,
   "metadata": {
    "tags": [
     "raises-exception"
    ]
   },
   "outputs": [],
   "source": [
    "# Esto genera un error.\n",
    "(13.6 * u.eV).to(u.Angstrom)"
   ]
  },
  {
   "cell_type": "markdown",
   "metadata": {},
   "source": [
    "Normalmente, puedes convertir `u.eV` únicamente a las siguientes unidades:"
   ]
  },
  {
   "cell_type": "code",
   "execution_count": null,
   "metadata": {},
   "outputs": [],
   "source": [
    "u.eV.find_equivalent_units()"
   ]
  },
  {
   "cell_type": "markdown",
   "metadata": {},
   "source": [
    "Pero al usar una equivalencia espectral (*spectral equivalency*), también puedes convertir `u.eV` a las siguientes unidades:"
   ]
  },
  {
   "cell_type": "code",
   "execution_count": null,
   "metadata": {},
   "outputs": [],
   "source": [
    "u.eV.find_equivalent_units(equivalencies=u.spectral())"
   ]
  },
  {
   "cell_type": "code",
   "execution_count": null,
   "metadata": {},
   "outputs": [],
   "source": [
    "# Ahora volvamos al límite de Lyman.\n",
    "(13.6 * u.eV).to(u.Angstrom, equivalencies=u.spectral())"
   ]
  },
  {
   "cell_type": "markdown",
   "metadata": {},
   "source": [
    "O si recuerdas la línea de 21 cm del hidrógeno neutro (HI), pero no puedes recordar la frecuencia, podrías hacer:"
   ]
  },
  {
   "cell_type": "code",
   "execution_count": null,
   "metadata": {},
   "outputs": [],
   "source": [
    "(21. * u.cm).to(u.GHz, equivalencies=u.spectral())"
   ]
  },
  {
   "cell_type": "markdown",
   "metadata": {},
   "source": [
    "Para ir un paso más allá, las unidades de *densidad de flujo* de un espectro se complican aún más al depender de las unidades del \"eje X\" del espectro (es decir, $f_{\\lambda}$ para flujo por unidad de longitud de onda o $f_{\\nu}$ para flujo por unidad de frecuencia). `astropy.units` admite este caso de uso, pero es necesario proporcionar la ubicación en el espectro donde se realiza la conversión:"
   ]
  },
  {
   "cell_type": "code",
   "execution_count": null,
   "metadata": {},
   "outputs": [],
   "source": [
    "q = 1e-18 * (u.erg / u.s / u.cm**2 / u.AA)\n",
    "q"
   ]
  },
  {
   "cell_type": "code",
   "execution_count": null,
   "metadata": {},
   "outputs": [],
   "source": [
    "q.to(u.uJy, equivalencies=u.spectral_density(1. * u.um))"
   ]
  },
  {
   "cell_type": "markdown",
   "metadata": {},
   "source": [
    "Hay mucha flexibilidad con las equivalencias, incluyendo una variedad de otras equivalencias integradas útiles. Así que si deseas saber más, puede que te interese revisar la [documentación narrativa sobre equivalencias](https://docs.astropy.org/en/stable/units/equivalencies.html) o la [documentación de referencia de `astropy.units.equivalencies`](https://docs.astropy.org/en/stable/units/index.html#module-astropy.units.equivalencies)."
   ]
  },
  {
   "cell_type": "markdown",
   "metadata": {},
   "source": [
    "## Unidades especificas de dominio"
   ]
  },
  {
   "cell_type": "markdown",
   "metadata": {},
   "source": [
    "Algunos módulos de Astropy definen unidades y equivalencias más específicas.\n",
    "\n",
    "Por ejemplo, ``astropy.cosmology`` define unidades para el corrimiento al rojo cosmológico (*redshift*) y\n",
    "el parámetro de Hubble, así como equivalencias para ambos."
   ]
  },
  {
   "cell_type": "code",
   "execution_count": null,
   "metadata": {},
   "outputs": [],
   "source": [
    "import astropy.cosmology.units as cu\n",
    "\n",
    "cu.__all__"
   ]
  },
  {
   "cell_type": "code",
   "execution_count": null,
   "metadata": {},
   "outputs": [],
   "source": [
    "z = 1100 * cu.redshift\n",
    "repr(z)"
   ]
  },
  {
   "cell_type": "markdown",
   "metadata": {},
   "source": [
    "El corrimiento al rojo (*redshift*) no es una unidad \"real\" (por lo tanto, la equivalencia ``dimensionless_redshift``  \n",
    "está activada por defecto), pero es muy útil para convertir entre medidas de distancia cosmológica,  \n",
    "por ejemplo, la temperatura de fondo. Podemos hacer esto en un contexto cosmológico específico:"
   ]
  },
  {
   "cell_type": "code",
   "execution_count": null,
   "metadata": {},
   "outputs": [],
   "source": [
    "from astropy.cosmology import Planck18  # contexto cosmologico\n",
    "\n",
    "z.to(u.K, equivalencies=cu.redshift_temperature(Planck18))"
   ]
  },
  {
   "cell_type": "markdown",
   "metadata": {},
   "source": [
    "Si deseas saber más sobre cosmología y unidades, puedes consultar la documentación de referencia  \n",
    "sobre [astropy.cosmology.units](https://docs.astropy.org/en/stable/cosmology/units.html#cosmological-units-and-equivalencies)."
   ]
  },
  {
   "cell_type": "markdown",
   "metadata": {},
   "source": [
    "# Consideraciones de rendimiento\n",
    "\n",
    "Para más detalles sobre el rendimiento en conjuntos de datos grandes, consulta los [consejos de rendimiento sobre unidades](https://docs.astropy.org/en/stable/units/index.html#performance-tips).\n",
    "\n",
    "Cuando se trabaja con un arreglo de datos grande, se puede usar el operador `<<` para acelerar la inicialización de objetos `Quantity`. Consideremos el siguiente arreglo:"
   ]
  },
  {
   "cell_type": "code",
   "execution_count": null,
   "metadata": {},
   "outputs": [],
   "source": [
    "big_array = np.random.random(10_000_000)"
   ]
  },
  {
   "cell_type": "code",
   "execution_count": null,
   "metadata": {},
   "outputs": [],
   "source": [
    "# Definiendo la Quantity de la forma más simple sin paréntesis.\n",
    "%timeit big_array * u.m / u.s / u.kg / u.sr"
   ]
  },
  {
   "cell_type": "code",
   "execution_count": null,
   "metadata": {},
   "outputs": [],
   "source": [
    "# Definiendo la Quantity con el operador * y paréntesis.\n",
    "%timeit big_array * (u.m / u.s / u.kg / u.sr)"
   ]
  },
  {
   "cell_type": "code",
   "execution_count": null,
   "metadata": {},
   "outputs": [],
   "source": [
    "# Definiendo la Quantity con el operador << (no se necesitan paréntesis).\n",
    "%timeit big_array << u.m / u.s / u.kg / u.sr"
   ]
  },
  {
   "cell_type": "markdown",
   "metadata": {},
   "source": [
    "Reemplaza los valores ``Quantity`` de abajo con tus tiempos lento/rápido para ver cuánto se aceleraron en tu máquina. Por ejemplo:"
   ]
  },
  {
   "cell_type": "code",
   "execution_count": null,
   "metadata": {},
   "outputs": [],
   "source": [
    "((89.4 * u.ms) / (67.1 * u.us)).to(u.dimensionless_unscaled)"
   ]
  },
  {
   "cell_type": "markdown",
   "metadata": {},
   "source": [
    "# Combinando todo: un ejemplo conciso\n",
    "\n",
    "Estimemos la velocidad orbital (circular) de la Tierra alrededor del Sol usando la Ley de Kepler:\n",
    "\n",
    "$$v = \\sqrt{\\frac{G M_{\\odot}}{r}}$$"
   ]
  },
  {
   "cell_type": "code",
   "execution_count": null,
   "metadata": {},
   "outputs": [],
   "source": [
    "v = np.sqrt(const.G * 1 * u.M_sun / (1 * u.au))\n",
    "v"
   ]
  },
  {
   "cell_type": "markdown",
   "metadata": {},
   "source": [
    "Esa es una unidad de velocidad... ¡pero no es nada obvio a simple vista!\n",
    "\n",
    "Usemos una variedad de los métodos disponibles de ``Quantity`` para obtener algo más comprensible:"
   ]
  },
  {
   "cell_type": "code",
   "execution_count": null,
   "metadata": {},
   "outputs": [],
   "source": [
    "v.decompose()  # Recuerda que el valor predeterminado usa unidades base del SI"
   ]
  },
  {
   "cell_type": "code",
   "execution_count": null,
   "metadata": {},
   "outputs": [],
   "source": [
    "v.decompose(u.cgs.bases)"
   ]
  },
  {
   "cell_type": "code",
   "execution_count": null,
   "metadata": {},
   "outputs": [],
   "source": [
    "v.to(u.km / u.s)"
   ]
  },
  {
   "cell_type": "markdown",
   "metadata": {},
   "source": [
    "# Ejercicios\n",
    "\n",
    "## Ejercicio 1\n",
    "\n",
    "El *Telescopio Espacial James Webb (JWST)* está en una órbita de halo alrededor del segundo punto de Lagrange Sol-Tierra (L2):\n",
    "\n",
    "&nbsp;&nbsp;&nbsp;&nbsp;&nbsp;&nbsp;&nbsp;&nbsp;&nbsp;☀️ &nbsp;&nbsp;&nbsp;&nbsp;&nbsp;&nbsp;&nbsp;&nbsp;&nbsp;&nbsp;&nbsp;&nbsp;&nbsp;&nbsp;&nbsp;&nbsp;&nbsp;&nbsp;&nbsp;&nbsp;&nbsp;&nbsp;&nbsp;&nbsp;&nbsp;&nbsp;&nbsp;&nbsp;&nbsp;&nbsp;&nbsp;&nbsp; 🌎 &nbsp;&nbsp;&nbsp;&nbsp;&nbsp;&nbsp; L2 &nbsp;&nbsp;&nbsp;&nbsp;&nbsp;&nbsp;&nbsp;&nbsp;&nbsp;&nbsp;&nbsp;&nbsp; *(no está a escala)*\n",
    "\n",
    "L2 se encuentra a una distancia de la Tierra (en dirección opuesta al Sol) de aproximadamente:\n",
    "\n",
    "$$ r \\approx R \\left(\\frac{M_{earth}}{3 M_{sun}}\\right) ^{(1/3)} $$\n",
    "\n",
    "donde $R$ es la distancia Sol-Tierra.\n",
    "\n",
    "Calcula la distancia Tierra–L2 en kilómetros y millas.\n",
    "\n",
    "*Sugerencias*:\n",
    "\n",
    "* $M_{earth}$ y $M_{sun}$ están definidos como [constantes](https://docs.astropy.org/en/stable/constants/#reference-api)  \n",
    "\n",
    "* La unidad de milla se define como ``u.imperial.mile`` (ver [unidades imperiales](https://docs.astropy.org/en/v0.2.1/units/index.html#module-astropy.units.imperial))"
   ]
  },
  {
   "cell_type": "code",
   "execution_count": null,
   "metadata": {
    "slideshow": {
     "slide_type": "-"
    }
   },
   "outputs": [],
   "source": [
    "# Tu respuesta aqui (km)"
   ]
  },
  {
   "cell_type": "code",
   "execution_count": null,
   "metadata": {},
   "outputs": [],
   "source": [
    "# Tu respuesta aqui (mi)"
   ]
  },
  {
   "cell_type": "markdown",
   "metadata": {},
   "source": [
    "## Ejercicio 2\n",
    "\n",
    "El punto L2 está aproximadamente a 1.5 millones de kilómetros de la Tierra, en dirección opuesta al Sol.  \n",
    "La masa total del *Telescopio Espacial James Webb (JWST)* es de aproximadamente 6500 kg.\n",
    "\n",
    "Usando el valor que obtuviste anteriormente para la distancia Tierra–L2, calcula la fuerza gravitacional en Newtons entre:\n",
    "\n",
    "* El *JWST* (en L2) y la Tierra  \n",
    "* El *JWST* (en L2) y el Sol\n",
    "\n",
    "*Sugerencia*: la fuerza gravitacional entre dos masas separadas por una distancia *r* es:\n",
    "\n",
    "$$ F_g = \\frac{G m_1 m_2}{r^2} $$"
   ]
  },
  {
   "cell_type": "code",
   "execution_count": null,
   "metadata": {},
   "outputs": [],
   "source": [
    "# Tu respuesta aqui (JWST y la Tierra)"
   ]
  },
  {
   "cell_type": "code",
   "execution_count": null,
   "metadata": {},
   "outputs": [],
   "source": [
    "# Tu respuesta aqui (JWST y el Sol)"
   ]
  },
  {
   "cell_type": "markdown",
   "metadata": {},
   "source": [
    "## Ejercicio 3\n",
    "\n",
    "Calcula el [radio de Schwarzschild](https://es.wikipedia.org/wiki/Radio_de_Schwarzschild) en unidades de radios solares para **Sgr A\\***, el agujero negro supermasivo de la Vía Láctea, con $M = 4.31 \\times 10^6 M_\\odot$, dado que:\n",
    "\n",
    "$$r_\\mathrm{s} = \\frac{2 G M}{c^2}$$\n",
    "\n",
    "Además, calcula el tamaño angular del horizonte de eventos en el cielo en microarcosegundos, dada la distancia al centro galáctico $d_{center} = 7.94$ kpc, con la fórmula:\n",
    "\n",
    "$$\\theta = \\mathrm{arctan}\\frac{2 r_\\mathrm{s}}{d_{center}}$$"
   ]
  },
  {
   "cell_type": "code",
   "execution_count": null,
   "metadata": {},
   "outputs": [],
   "source": [
    "# Escribe aquí la respuesta del radio de Schwarzschild"
   ]
  },
  {
   "cell_type": "code",
   "execution_count": null,
   "metadata": {},
   "outputs": [],
   "source": [
    "# Escribe aquí la respuesta del tamaño angular del horizonte de eventos"
   ]
  },
  {
   "cell_type": "markdown",
   "metadata": {},
   "source": [
    "## Ejercicio 4\n",
    "\n",
    "Podemos hacer una estimación muy aproximada de la temperatura del material en las cercanías de Sgr A* asumiendo equilibrio hidrostático, de modo que la energía térmica del gas compense la fuerza gravitatoria:\n",
    "\n",
    "$$ kT \\sim \\frac{GM m_p}{R} $$\n",
    "\n",
    "donde $m_p$ es la masa de un protón y $R$ es la distancia al agujero negro. Usando las constantes de Astropy y las propiedades de Sgr A* descritas en el Ejercicio 3, calcula la temperatura del gas necesaria para equilibrar la atracción gravitatoria del agujero negro a una distancia de 1 millón de radios de Schwarzschild obtenidos anteriormente. Usa esta ecuación:\n",
    "\n",
    "$$ T = \\frac{G M m_p}{10^6 r_s k} $$\n",
    "\n",
    "Luego, utiliza las [equivalencias de temperatura de Astropy](https://docs.astropy.org/en/stable/units/equivalencies.html#temperature-equivalency) para encontrar la energía de ese gas."
   ]
  },
  {
   "cell_type": "code",
   "execution_count": null,
   "metadata": {},
   "outputs": [],
   "source": [
    "# Tu respuesta de temperatura aqui"
   ]
  },
  {
   "cell_type": "code",
   "execution_count": null,
   "metadata": {},
   "outputs": [],
   "source": [
    "# Tu respuesta de energia aqui"
   ]
  }
 ],
 "metadata": {
  "anaconda-cloud": {},
  "kernelspec": {
   "display_name": "Python 3 (ipykernel)",
   "language": "python",
   "name": "python3"
  },
  "language_info": {
   "codemirror_mode": {
    "name": "ipython",
    "version": 3
   },
   "file_extension": ".py",
   "mimetype": "text/x-python",
   "name": "python",
   "nbconvert_exporter": "python",
   "pygments_lexer": "ipython3",
   "version": "3.11.13"
  },
  "toc": {
   "base_numbering": 1,
   "nav_menu": {},
   "number_sections": true,
   "sideBar": true,
   "skip_h1_title": false,
   "title_cell": "Table of Contents",
   "title_sidebar": "Contents",
   "toc_cell": false,
   "toc_position": {},
   "toc_section_display": true,
   "toc_window_display": false
  },
  "vscode": {
   "interpreter": {
    "hash": "69ffed3fe34942d91c870dd5e7b1cdc8962d4c36821e73c483e75fd1432e7bb3"
   }
  }
 },
 "nbformat": 4,
 "nbformat_minor": 4
}
