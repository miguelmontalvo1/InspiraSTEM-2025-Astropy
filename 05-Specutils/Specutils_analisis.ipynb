{
 "cells": [
  {
   "cell_type": "markdown",
   "metadata": {},
   "source": [
    "# Análisis con Specutils\n",
    "\n",
    "![Specutils: Un paquete de Astropy para espectroscopía](data/specutils_logo.png)\n",
    "\n",
    "Este notebook ofrece una visión general de algunas de las capacidades de análisis espectral del paquete coordinado de Astropy llamado Specutils. Aunque este notebook está diseñado como una introducción interactiva a Specutils en el momento de su escritura, la fuente de información más actualizada y completa sobre el paquete se encuentra en la documentación oficial:\n",
    "\n",
    "https://specutils.readthedocs.io\n",
    "\n",
    "Ten en cuenta que lo que se presenta a continuación asume que ya tienes conocimientos del material en el [notebook de introducción](Specutils_overview.ipynb). Si no es así, te recomendamos revisar ese notebook antes de continuar aquí."
   ]
  },
  {
   "cell_type": "markdown",
   "metadata": {},
   "source": [
    "## Importaciones\n",
    "\n",
    "Comenzamos con algunas importaciones fundamentales para trabajar con `specutils` y realizar visualizaciones simples de espectros:"
   ]
  },
  {
   "cell_type": "code",
   "execution_count": null,
   "metadata": {},
   "outputs": [],
   "source": [
    "import numpy as np\n",
    "\n",
    "import astropy.units as u\n",
    "\n",
    "import specutils\n",
    "from specutils import Spectrum1D, SpectralRegion\n",
    "specutils.__version__"
   ]
  },
  {
   "cell_type": "code",
   "execution_count": null,
   "metadata": {},
   "outputs": [],
   "source": [
    "# para visualizar gráficos:\n",
    "%matplotlib inline\n",
    "import matplotlib.pyplot as plt\n",
    "\n",
    "# para mostrar automáticamente las unidades físicas en los ejes:\n",
    "from astropy.visualization import quantity_support\n",
    "quantity_support();  # habilita el soporte para cantidades físicas en los gráficos"
   ]
  },
  {
   "cell_type": "markdown",
   "metadata": {},
   "source": [
    "## Espectro de ejemplo y relación señal/ruido (SNR)\n",
    "\n",
    "Para los ejemplos a continuación, también cargamos el espectro de muestra del SDSS que fue descargado en el [notebook de introducción](Specutils_overview.ipynb)."
   ]
  },
  {
   "cell_type": "code",
   "execution_count": null,
   "metadata": {},
   "outputs": [],
   "source": [
    "from urllib.request import urlretrieve\n",
    "\n",
    "# Definir la ruta local donde se guardará el archivo FITS del espectro SDSS\n",
    "sdss_spectrum_path = 'data/sdss_spectrum.fits'\n",
    "\n",
    "# URL del espectro SDSS a descargar\n",
    "url = 'https://data.sdss.org/sas/dr16/sdss/spectro/redux/26/spectra/1323/spec-1323-52797-0012.fits'\n",
    "\n",
    "# Descargar el archivo desde la URL y guardarlo en la ruta local especificada\n",
    "urlretrieve(url, sdss_spectrum_path)\n",
    "\n",
    "# Leer el archivo FITS descargado en un objeto Spectrum1D con formato SDSS\n",
    "sdss_spec = Spectrum1D.read(sdss_spectrum_path, format='SDSS-III/IV spec')\n",
    "\n",
    "# Graficar el espectro usando un gráfico de escalones\n",
    "plt.step(sdss_spec.wavelength, sdss_spec.flux);"
   ]
  },
  {
   "cell_type": "markdown",
   "metadata": {},
   "source": [
    "Este archivo de ejemplo ya contiene incertidumbres, pero inicialmente están en forma de varianza inversa.\n",
    "Convertimos esa información a desviación estándar para simplificar algunas de las operaciones más adelante, y también desactivamos el enmascaramiento en toda la región del espectro."
   ]
  },
  {
   "cell_type": "code",
   "execution_count": null,
   "metadata": {},
   "outputs": [],
   "source": [
    "sdss_spec.uncertainty.uncertainty_type"
   ]
  },
  {
   "cell_type": "code",
   "execution_count": null,
   "metadata": {},
   "outputs": [],
   "source": [
    "from astropy.nddata import StdDevUncertainty\n",
    "\n",
    "sdss_spec.uncertainty = StdDevUncertainty(sdss_spec.uncertainty.quantity**-0.5)\n",
    "sdss_spec.uncertainty.uncertainty_type"
   ]
  },
  {
   "cell_type": "code",
   "execution_count": null,
   "metadata": {},
   "outputs": [],
   "source": [
    "sdss_spec.mask[:] = False"
   ]
  },
  {
   "cell_type": "markdown",
   "metadata": {},
   "source": [
    "Con estas incertidumbres, es sencillo calcular una de las medidas fundamentales de un espectro: la relación señal-a-ruido (SNR, por sus siglas en inglés) en todo el espectro."
   ]
  },
  {
   "cell_type": "code",
   "execution_count": null,
   "metadata": {},
   "outputs": [],
   "source": [
    "from specutils import analysis\n",
    "\n",
    "analysis.snr(sdss_spec)"
   ]
  },
  {
   "cell_type": "markdown",
   "metadata": {},
   "source": [
    "# Regiones Espectrales\n",
    "\n",
    "La mayoría de los análisis espectrales requieren la especificación de una parte del espectro, por ejemplo, una línea espectral.  \n",
    "Debido a que dichas regiones pueden tener valor por sí mismas independientemente de un espectro particular, se representan como objetos distintos del objeto del espectro en sí.\n",
    "A continuación, se describen algunas formas en que dichas regiones pueden definirse."
   ]
  },
  {
   "cell_type": "code",
   "execution_count": null,
   "metadata": {},
   "outputs": [],
   "source": [
    "ha_region = SpectralRegion((6563-50)*u.AA, (6563+50)*u.AA)\n",
    "ha_region"
   ]
  },
  {
   "cell_type": "markdown",
   "metadata": {},
   "source": [
    "Las regiones también pueden definirse mediante valores de píxeles crudos (aunque, por supuesto, esto es más aplicable a un espectro específico):"
   ]
  },
  {
   "cell_type": "code",
   "execution_count": null,
   "metadata": {},
   "outputs": [],
   "source": [
    "pixel_region = SpectralRegion(2100*u.pixel, 2600*u.pixel)\n",
    "pixel_region"
   ]
  },
  {
   "cell_type": "markdown",
   "metadata": {},
   "source": [
    "Además, *múltiples* regiones pueden estar en el mismo objeto `SpectralRegion`. Esto es útil, por ejemplo, para medir múltiples características espectrales en una sola llamada:"
   ]
  },
  {
   "cell_type": "code",
   "execution_count": null,
   "metadata": {},
   "outputs": [],
   "source": [
    "HI_wings_region = SpectralRegion([(1.44*u.GHz, 1.43*u.GHz), (1.41*u.GHz, 1.4*u.GHz)])\n",
    "HI_wings_region"
   ]
  },
  {
   "cell_type": "markdown",
   "metadata": {},
   "source": [
    "Aunque las regiones son útiles para una variedad de pasos de análisis, fundamentalmente pueden usarse para extraer subespectros de espectros más grandes:"
   ]
  },
  {
   "cell_type": "code",
   "execution_count": null,
   "metadata": {},
   "outputs": [],
   "source": [
    "from specutils.manipulation import extract_region\n",
    "\n",
    "# Extraer una subregión del espectro original usando la región definida por píxeles\n",
    "subspec = extract_region(sdss_spec, pixel_region)\n",
    "\n",
    "# Graficar el espectro extraído usando un gráfico de escalones\n",
    "plt.step(subspec.wavelength, subspec.flux)\n",
    "\n",
    "# Calcular y mostrar la relación señal/ruido (SNR) del espectro extraído\n",
    "analysis.snr(subspec)"
   ]
  },
  {
   "cell_type": "markdown",
   "metadata": {},
   "source": [
    "# Medición de Líneas\n",
    "\n",
    "Aunque el ajuste de líneas (detallado más adelante) es una buena opción para espectros con alta relación señal-ruido o cuando se desean cinemáticas detalladas, en la literatura a menudo se usan medidas más empíricas para espectros con más ruido o simplemente para procedimientos de análisis más simples. Specutils proporciona un conjunto de funciones para realizar este tipo de mediciones, así como estadísticas resumen similares sobre regiones espectrales. La [sección de análisis de la documentación de specutils](https://specutils.readthedocs.io/en/latest/analysis.html) ofrece una lista completa y ejemplos detallados, pero aquí demostramos algunos casos de ejemplo."
   ]
  },
  {
   "cell_type": "markdown",
   "metadata": {},
   "source": [
    "Nota: estas mediciones de líneas generalmente asumen que tu espectro está con el continuo restado o normalizado. Algunos pipelines espectrales hacen esto automáticamente, pero muchas veces no es así. Para nuestros ejemplos aquí, haremos este paso \"a ojo\", pero para una discusión más detallada sobre el modelado del continuo, consulta la siguiente sección. Basándonos en el gráfico anterior, estimamos un nivel de continuo para el área del espectro SDSS alrededor de la línea de emisión H-alfa, y usamos matemáticas básicas para construir los espectros normalizado y restado del continuo."
   ]
  },
  {
   "cell_type": "code",
   "execution_count": null,
   "metadata": {},
   "outputs": [],
   "source": [
    "# Estimar un nivel razonable de continuo para el área H-alfa del espectro\n",
    "sdss_continuum = 205 * subspec.flux.unit\n",
    "\n",
    "# Extraer la región de H-alfa del espectro y restar el nivel de continuo estimado\n",
    "sdss_halpha_contsub = extract_region(sdss_spec, ha_region) - sdss_continuum\n",
    "\n",
    "# Dibujar una línea horizontal en y=0 para referencia del continuo restado\n",
    "plt.axhline(0, c='k', ls=':')\n",
    "\n",
    "# Graficar el espectro con el continuo restado\n",
    "plt.step(sdss_halpha_contsub.wavelength, sdss_halpha_contsub.flux)\n",
    "\n",
    "# Establecer límites para el eje y para visualizar bien las fluctuaciones alrededor del continuo\n",
    "plt.ylim(-50, 50)"
   ]
  },
  {
   "cell_type": "markdown",
   "metadata": {},
   "source": [
    "Con el nivel de continuo identificado, ahora podemos hacer algunas mediciones de las líneas espectrales que se aprecian a simple vista — en particular, nos centraremos en la línea de emisión H-alfa. Aunque existen técnicas para identificar la línea automáticamente (ver la sección de ajuste más abajo), aquí asumimos que estamos haciendo procedimientos de \"mirada rápida\" donde la identificación manual es posible.\n",
    "\n",
    "En la celda de abajo, cambia los valores de `LOWER` y `UPPER` para definir una región espectral que abarque justo la línea H-alfa (la del medio de las tres líneas). Puede ser útil cambiar los valores, volver a ejecutar la celda y ajustar de nuevo para \"afinar\" el número correcto."
   ]
  },
  {
   "cell_type": "code",
   "execution_count": null,
   "metadata": {},
   "outputs": [],
   "source": [
    "# Definir los límites inferior y superior para la región espectral que contiene las líneas de H-alfa\n",
    "LOWER = 6000 * u.angstrom\n",
    "UPPER = 7000 * u.angstrom\n",
    "halpha_lines_region = SpectralRegion(LOWER, UPPER)\n",
    "\n",
    "# Graficar el espectro con la región de interés resaltada\n",
    "plt.step(sdss_halpha_contsub.wavelength, sdss_halpha_contsub.flux)\n",
    "\n",
    "# Obtener los límites del eje y para mantener la escala después de sombrear\n",
    "yl1, yl2 = plt.ylim()\n",
    "\n",
    "# Rellenar la región seleccionada con una sombra ligera\n",
    "plt.fill_between([halpha_lines_region.lower, halpha_lines_region.upper], \n",
    "                 yl1, yl2, alpha=.2)\n",
    "\n",
    "# Volver a establecer los límites originales del eje y\n",
    "plt.ylim(yl1, yl2)"
   ]
  },
  {
   "cell_type": "markdown",
   "metadata": {},
   "source": [
    "Ahora puedes llamar a una variedad de funciones de análisis sobre el espectro con el continuo restado para estimar distintas propiedades de la línea (puedes ver la lista completa de funciones relevantes [en la sección de análisis de la documentación de specutils](https://specutils.readthedocs.io/en/stable/analysis.html#functions))."
   ]
  },
  {
   "cell_type": "code",
   "execution_count": null,
   "metadata": {},
   "outputs": [],
   "source": [
    "analysis.centroid(sdss_halpha_contsub, halpha_lines_region)"
   ]
  },
  {
   "cell_type": "code",
   "execution_count": null,
   "metadata": {},
   "outputs": [],
   "source": [
    "analysis.fwhm(sdss_halpha_contsub, halpha_lines_region)"
   ]
  },
  {
   "cell_type": "code",
   "execution_count": null,
   "metadata": {},
   "outputs": [],
   "source": [
    "analysis.line_flux(sdss_halpha_contsub, halpha_lines_region)"
   ]
  },
  {
   "cell_type": "markdown",
   "metadata": {},
   "source": [
    "El ancho equivalente (EW), al ser una propiedad dependiente del continuo, puede calcularse directamente a partir del espectro si se conoce el nivel del continuo, o medirse sobre un espectro normalizado al continuo. Esto último es especialmente útil si el continuo no es uniforme en la región de la línea que se está midiendo."
   ]
  },
  {
   "cell_type": "code",
   "execution_count": null,
   "metadata": {},
   "outputs": [],
   "source": [
    "analysis.equivalent_width(sdss_spec, sdss_continuum, regions=halpha_lines_region)"
   ]
  },
  {
   "cell_type": "code",
   "execution_count": null,
   "metadata": {},
   "outputs": [],
   "source": [
    "sdss_halpha_contnorm = sdss_spec / sdss_continuum\n",
    "analysis.equivalent_width(sdss_halpha_contnorm, regions=halpha_lines_region)"
   ]
  },
  {
   "cell_type": "markdown",
   "metadata": {},
   "source": [
    "## Ejercicio\n",
    "\n",
    "Carga uno de los conjuntos de datos espectrales que creaste en los ejercicios del resumen en este cuaderno (es decir, tu propio conjunto de datos, uno descargado, o el blackbody con una característica espectral añadida artificialmente). Realiza una medición de flujo o de ancho de una línea en ese espectro directamente. ¿Notas algo extraño?"
   ]
  },
  {
   "cell_type": "code",
   "execution_count": null,
   "metadata": {},
   "outputs": [],
   "source": []
  },
  {
   "cell_type": "markdown",
   "metadata": {},
   "source": [
    "# Sustracción del Continuo\n",
    "\n",
    "Aunque el ajuste del continuo para espectros a veces se considera más un \"arte\" que una ciencia, specutils proporciona herramientas para realizar diferentes enfoques de ajuste de continuo, sin hacer una recomendación específica sobre cuál es el \"mejor\" (ya que a menudo depende mucho de los datos). Más detalles están disponibles [en la sección relevante de la documentación de specutils](https://specutils.readthedocs.io/en/latest/fitting.html#continuum-fitting), pero aquí describimos las dos opciones básicas que existen: una función \"a menudo suficientemente buena\" y una herramienta más personalizable que se apoya en los modelos de [`astropy.modeling`](http://docs.astropy.org/en/stable/modeling/index.html) para proporcionar su flexibilidad."
   ]
  },
  {
   "cell_type": "markdown",
   "metadata": {},
   "source": [
    "### La forma \"a menudo suficientemente buena\"\n",
    "\n",
    "La función `fit_generic_continuum` proporciona una función que a menudo es suficiente para continuos razonablemente bien comportados, especialmente para aplicaciones de \"vista rápida\" o similares donde la alta precisión no es tan crítica. La función genera un modelo de continuo, que puede evaluarse en cualquier valor del eje espectral:"
   ]
  },
  {
   "cell_type": "code",
   "execution_count": null,
   "metadata": {},
   "outputs": [],
   "source": [
    "from specutils.fitting import fit_generic_continuum"
   ]
  },
  {
   "cell_type": "code",
   "execution_count": null,
   "metadata": {},
   "outputs": [],
   "source": [
    "# Ajustar el continuo usando el método genérico\n",
    "generic_continuum = fit_generic_continuum(sdss_spec)\n",
    "\n",
    "# Evaluar el modelo de continuo ajustado en los valores del eje espectral\n",
    "generic_continuum_evaluated = generic_continuum(sdss_spec.spectral_axis)\n",
    "\n",
    "# Graficar el espectro original junto con el continuo ajustado\n",
    "plt.step(sdss_spec.spectral_axis, sdss_spec.flux)  # Espectro original\n",
    "plt.plot(sdss_spec.spectral_axis, generic_continuum_evaluated)  # Continuo ajustado\n",
    "plt.ylim(100, 300)  # Limitar el eje y para mejor visualización"
   ]
  },
  {
   "cell_type": "markdown",
   "metadata": {},
   "source": [
    "(Note que en algunas versiones de astropy/specutils puede aparecer una advertencia que dice \"El modelo es lineal en los parámetros\" al ejecutar la celda anterior. Esto no es un problema a menos que el rendimiento sea una preocupación seria, en cuyo caso se requiere una mayor personalización.)\n",
    "\n",
    "Con este modelo en mano, se pueden producir espectros con el continuo restado o normalizado usando manipulaciones espectrales básicas:"
   ]
  },
  {
   "cell_type": "code",
   "execution_count": null,
   "metadata": {},
   "outputs": [],
   "source": [
    "# Crear espectros corregidos: uno con el continuo restado y otro con el continuo normalizado\n",
    "sdss_gencont_sub = sdss_spec - generic_continuum(sdss_spec.spectral_axis)  # Espectro con el continuo restado\n",
    "sdss_gencont_norm = sdss_spec / generic_continuum(sdss_spec.spectral_axis)  # Espectro con el continuo normalizado\n",
    "\n",
    "# Crear un gráfico con dos subgráficos (uno encima del otro)\n",
    "ax1, ax2 = plt.subplots(2, 1)[1]\n",
    "\n",
    "# Graficar el espectro con el continuo restado\n",
    "ax1.step(sdss_gencont_sub.wavelength, sdss_gencont_sub.flux)\n",
    "ax1.set_ylim(-50, 50)\n",
    "ax1.axhline(0, color='k', ls=':')  # El continuo debe estar en flujo = 0\n",
    "\n",
    "# Graficar el espectro con el continuo normalizado\n",
    "ax2.step(sdss_gencont_norm.wavelength, sdss_gencont_norm.flux)\n",
    "ax2.set_ylim(0, 2)\n",
    "ax2.axhline(1, color='k', ls='--')  # El continuo debe estar en flujo = 1"
   ]
  },
  {
   "cell_type": "markdown",
   "metadata": {},
   "source": [
    "### La forma personalizable\n",
    "\n",
    "La función `fit_continuum` funciona de manera similar a `fit_generic_continuum`, pero está diseñada para que puedas proporcionar tu modelo de continuo favorito en lugar de estar ajustada a un modelo específico. Para ver la lista de modelos, consulta la [documentación de astropy.modeling](http://docs.astropy.org/en/stable/modeling/index.html)."
   ]
  },
  {
   "cell_type": "code",
   "execution_count": null,
   "metadata": {},
   "outputs": [],
   "source": [
    "from specutils.fitting import fit_continuum\n",
    "from astropy.modeling import models"
   ]
  },
  {
   "cell_type": "markdown",
   "metadata": {},
   "source": [
    "Por ejemplo, supongamos que quieres usar un polinomio de Chebyshev de grado 3 como tu modelo de continuo. Puedes usar `fit_continuum` para obtener un objeto que se comporte igual que con `fit_generic_continuum`:"
   ]
  },
  {
   "cell_type": "code",
   "execution_count": null,
   "metadata": {},
   "outputs": [],
   "source": [
    "# Ajuste del continuo usando un polinomio de Chebyshev de grado 3\n",
    "chebdeg3_continuum = fit_continuum(sdss_spec, models.Chebyshev1D(3))\n",
    "\n",
    "# Evaluar el modelo genérico de continuo previamente ajustado (si ya fue definido)\n",
    "generic_continuum_evaluated = generic_continuum(sdss_spec.spectral_axis)\n",
    "\n",
    "# Graficar el espectro original\n",
    "plt.step(sdss_spec.spectral_axis, sdss_spec.flux)\n",
    "\n",
    "# Graficar el continuo ajustado con el polinomio de Chebyshev de grado 3\n",
    "plt.plot(sdss_spec.spectral_axis, chebdeg3_continuum(sdss_spec.spectral_axis))\n",
    "\n",
    "# Limitar el eje Y para facilitar la visualización\n",
    "plt.ylim(100, 300);"
   ]
  },
  {
   "cell_type": "markdown",
   "metadata": {},
   "source": [
    "Esto proporciona total flexibilidad. Por ejemplo, también puedes probar otros polinomios como los polinomios de Hermite de grado más alto:"
   ]
  },
  {
   "cell_type": "code",
   "execution_count": null,
   "metadata": {},
   "outputs": [],
   "source": [
    "# Ajustar el continuo usando polinomios de Hermite de grado 7 y 17\n",
    "hermdeg7_continuum = fit_continuum(sdss_spec, models.Hermite1D(degree=7))\n",
    "hermdeg17_continuum = fit_continuum(sdss_spec, models.Hermite1D(degree=17))\n",
    "\n",
    "# Graficar el espectro original\n",
    "plt.step(sdss_spec.spectral_axis, sdss_spec.flux)\n",
    "\n",
    "# Graficar los diferentes modelos de continuo ajustados\n",
    "plt.plot(sdss_spec.spectral_axis, chebdeg3_continuum(sdss_spec.spectral_axis))       # Polinomio de Chebyshev de grado 3\n",
    "plt.plot(sdss_spec.spectral_axis, hermdeg7_continuum(sdss_spec.spectral_axis))       # Polinomio de Hermite de grado 7\n",
    "plt.plot(sdss_spec.spectral_axis, hermdeg17_continuum(sdss_spec.spectral_axis))      # Polinomio de Hermite de grado 17\n",
    "\n",
    "# Limitar el eje Y para una mejor visualización\n",
    "plt.ylim(150, 250);"
   ]
  },
  {
   "cell_type": "markdown",
   "metadata": {},
   "source": [
    "Esto demuestra de inmediato las compensaciones en el ajuste polinómico: mientras que los polinomios de alto grado capturan mejor las oscilaciones del espectro que los de bajo grado, también *sobreajustan* cerca de las líneas de emisión fuertes."
   ]
  },
  {
   "cell_type": "markdown",
   "metadata": {},
   "source": [
    "## Ejercicio\n",
    "\n",
    "Intenta combinar la funcionalidad de `SpectralRegion` y el ajuste de continuo para ajustar únicamente las partes del espectro que *son* continuo (es decir, sin incluir las líneas de emisión). ¿Puedes mejorar el resultado?"
   ]
  },
  {
   "cell_type": "code",
   "execution_count": null,
   "metadata": {},
   "outputs": [],
   "source": []
  },
  {
   "cell_type": "markdown",
   "metadata": {},
   "source": [
    "## Ejercicio\n",
    "\n",
    "Usando el espectro del ejercicio anterior, primero sustrae un continuo y luego vuelve a hacer la medición. ¿Es mejor el resultado?"
   ]
  },
  {
   "cell_type": "code",
   "execution_count": null,
   "metadata": {},
   "outputs": [],
   "source": []
  },
  {
   "cell_type": "markdown",
   "metadata": {},
   "source": [
    "# Ajuste de Líneas\n",
    "\n",
    "Además de las mediciones más empíricas descritas arriba, `specutils` ofrece herramientas para realizar ajustes de líneas espectrales. El enfoque es similar al del modelado del continuo: se ajustan modelos de [astropy.modeling](http://docs.astropy.org/en/stable/modeling/index.html) al espectro, y esos modelos pueden usarse directamente, o bien sus parámetros."
   ]
  },
  {
   "cell_type": "code",
   "execution_count": null,
   "metadata": {},
   "outputs": [],
   "source": [
    "from specutils import fitting"
   ]
  },
  {
   "cell_type": "markdown",
   "metadata": {},
   "source": [
    "El mecanismo de ajuste primero debe recibir estimaciones para las ubicaciones de las líneas. Este proceso puede automatizarse usando funciones diseñadas para identificar líneas (más detalles sobre las opciones están [en la documentación](https://specutils.readthedocs.io/en/latest/fitting.html#line-finding)). Para conjuntos de datos donde estos algoritmos no son ideales, puedes sustituirlos por tus propias estimaciones (es decir, omitir este paso y comenzar con las ubicaciones de las líneas ya estimadas).\n",
    "\n",
    "Aquí identificamos las tres líneas cerca de la región H-alpha en nuestro espectro SDSS, encontrando las líneas por encima de un umbral de flujo de aproximadamente $\\sim 3 \\sigma$. Luego se muestran como una tabla de astropy:"
   ]
  },
  {
   "cell_type": "code",
   "execution_count": null,
   "metadata": {},
   "outputs": [],
   "source": [
    "# Identificar líneas espectrales en el espectro H-alfa con un umbral de detección de ~3 sigma\n",
    "halpha_lines = fitting.find_lines_threshold(sdss_halpha_contsub, 3)\n",
    "\n",
    "# Graficar el espectro H-alfa continuo-substraído\n",
    "plt.step(sdss_halpha_contsub.spectral_axis, sdss_halpha_contsub.flux, where='mid')\n",
    "\n",
    "# Dibujar líneas verticales en las posiciones centrales de cada línea detectada\n",
    "for line in halpha_lines:\n",
    "    plt.axvline(line['line_center'], color='k', ls=':')\n",
    "\n",
    "# Mostrar la tabla de líneas detectadas\n",
    "halpha_lines"
   ]
  },
  {
   "cell_type": "markdown",
   "metadata": {},
   "source": [
    "(Si ves una advertencia sobre la relación señal-ruido, puedes ignorarla o seguir las instrucciones que indica para suprimir la advertencia. Esto ocurre porque nuestro recorte tiene mucho flujo real, por lo que *podría* ser que olvidamos restar el continuo.)"
   ]
  },
  {
   "cell_type": "markdown",
   "metadata": {},
   "source": [
    "Ahora, para cada una de estas líneas, necesitamos ajustar un modelo. A veces es suficiente crear un modelo donde el centro esté en la línea y extraer el área apropiada de la línea para hacer una estimación de la misma. Esto no es *tan* sensible al tamaño de la región, al menos para líneas bien separadas como estas. El resultado es una lista de modelos que incluyen los detalles del ajuste:"
   ]
  },
  {
   "cell_type": "code",
   "execution_count": null,
   "metadata": {},
   "outputs": [],
   "source": [
    "halpha_line_models = []\n",
    "for line in halpha_lines:\n",
    "    # Definir una región espectral centrada en la línea, con un ancho de ±5 Ångströms\n",
    "    line_region = SpectralRegion(line['line_center']-5*u.angstrom,\n",
    "                                 line['line_center']+5*u.angstrom)\n",
    "    \n",
    "    # Extraer esa región del espectro continuo-substraído\n",
    "    line_spectrum = extract_region(sdss_halpha_contsub, line_region)\n",
    "    \n",
    "    # Crear un modelo Gaussiano con el centro inicial en la posición de la línea\n",
    "    line_estimate = models.Gaussian1D(mean=line['line_center'])\n",
    "    \n",
    "    # Ajustar el modelo a los datos espectrales de la línea\n",
    "    line_model = fitting.fit_lines(line_spectrum, line_estimate)\n",
    "    \n",
    "    # Agregar el modelo ajustado a la lista\n",
    "    halpha_line_models.append(line_model)\n",
    "\n",
    "# Graficar el espectro observado\n",
    "plt.step(sdss_halpha_contsub.spectral_axis, sdss_halpha_contsub.flux, where='mid')\n",
    "\n",
    "# Evaluar y graficar cada modelo ajustado sobre el espectro original\n",
    "for line_model in halpha_line_models:\n",
    "    evaluated_model = line_model(sdss_halpha_contsub.spectral_axis)\n",
    "    plt.plot(sdss_halpha_contsub.spectral_axis, evaluated_model)  \n",
    "\n",
    "# Mostrar la lista de modelos ajustados\n",
    "halpha_line_models"
   ]
  },
  {
   "cell_type": "markdown",
   "metadata": {},
   "source": [
    "Para modelos o ajustes más complejos, puede ser mejor usar la función `estimate_line_parameters` en lugar de crear manualmente, por ejemplo, un modelo `Gaussian1D` y establecer el centro. A continuación se muestra un ejemplo de este patrón.\n",
    "\n",
    "Nota: En el ejemplo anterior proporcionamos un modelo `Gaussian1D` por defecto a la función `estimate_line_parameters`. Esta función hace estimaciones razonables de parámetros para modelos `Gaussian1D`, `Voigt1D` y `Lorentz1D`, que son los perfiles de línea más comunes utilizados para líneas espectrales, pero puede que no funcione igual de bien con otros modelos. Consulta [la sección relevante de la documentación](https://specutils.readthedocs.io/en/latest/fitting.html#parameter-estimation) para más detalles.\n",
    "\n",
    "En este ejemplo también se muestra cómo realizar un ajuste *conjunto* de las tres líneas al mismo tiempo. Aunque la diferencia puede parecer sutil, en casos de líneas espectrales mezcladas (blended lines), este enfoque típicamente proporciona resultados mucho mejores:"
   ]
  },
  {
   "cell_type": "code",
   "execution_count": null,
   "metadata": {},
   "outputs": [],
   "source": [
    "halpha_line_estimates = []\n",
    "for line in halpha_lines:\n",
    "    # Definir una región espectral centrada en la línea, con un ancho de ±3 Ångströms\n",
    "    line_region = SpectralRegion(line['line_center']-3*u.angstrom,\n",
    "                                 line['line_center']+3*u.angstrom)\n",
    "    \n",
    "    # Extraer esa región del espectro\n",
    "    line_spectrum = extract_region(sdss_halpha_contsub, line_region)\n",
    "    \n",
    "    # Estimar los parámetros iniciales del modelo Gaussian1D para esa línea\n",
    "    line_estimate = fitting.estimate_line_parameters(line_spectrum, models.Gaussian1D())\n",
    "    \n",
    "    halpha_line_estimates.append(line_estimate)\n",
    "\n",
    "# Esto podría hacerse de manera más flexible con un bucle for, pero aquí lo hacemos explícitamente por simplicidad\n",
    "combined_model_estimate = halpha_line_estimates[0] + halpha_line_estimates[1] + halpha_line_estimates[2]\n",
    "combined_model_estimate"
   ]
  },
  {
   "cell_type": "code",
   "execution_count": null,
   "metadata": {},
   "outputs": [],
   "source": [
    "# Ajustar un modelo combinado a la región H-alfa con la estimación inicial de modelos\n",
    "combined_model = fitting.fit_lines(sdss_halpha_contsub, combined_model_estimate)\n",
    "\n",
    "# Graficar el espectro H-alfa continuum-substraído usando un gráfico de escalones\n",
    "plt.step(sdss_halpha_contsub.spectral_axis, sdss_halpha_contsub.flux, where='mid')\n",
    "\n",
    "# Graficar el modelo combinado ajustado sobre el mismo eje espectral\n",
    "plt.plot(sdss_halpha_contsub.spectral_axis, \n",
    "         combined_model(sdss_halpha_contsub.spectral_axis))  \n",
    "    \n",
    "# Mostrar el modelo combinado ajustado\n",
    "combined_model"
   ]
  },
  {
   "cell_type": "markdown",
   "metadata": {},
   "source": [
    "## Ejercicio\n",
    "\n",
    "Ajusta una característica espectral de tu propio espectro usando los métodos de ajuste descritos arriba. Prueba los diferentes tipos de perfiles de línea (Gaussiano, Lorentziano o Voigt). Si estás usando el espectro de cuerpo negro (donde conoces la respuesta \"verdadera\" para la línea espectral), compara tu resultado con la respuesta verdadera."
   ]
  },
  {
   "cell_type": "code",
   "execution_count": null,
   "metadata": {},
   "outputs": [],
   "source": []
  }
 ],
 "metadata": {
  "kernelspec": {
   "display_name": "Python 3 (ipykernel)",
   "language": "python",
   "name": "python3"
  },
  "language_info": {
   "codemirror_mode": {
    "name": "ipython",
    "version": 3
   },
   "file_extension": ".py",
   "mimetype": "text/x-python",
   "name": "python",
   "nbconvert_exporter": "python",
   "pygments_lexer": "ipython3",
   "version": "3.11.13"
  },
  "toc": {
   "base_numbering": 1,
   "nav_menu": {},
   "number_sections": true,
   "sideBar": true,
   "skip_h1_title": false,
   "title_cell": "Table of Contents",
   "title_sidebar": "Contents",
   "toc_cell": false,
   "toc_position": {},
   "toc_section_display": true,
   "toc_window_display": false
  }
 },
 "nbformat": 4,
 "nbformat_minor": 4
}
